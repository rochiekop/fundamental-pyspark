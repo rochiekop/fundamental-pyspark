{
 "cells": [
  {
   "cell_type": "markdown",
   "id": "c43d80aa-0a4a-4dc3-aba3-d140f0acfe0f",
   "metadata": {},
   "source": [
    "# <font color='blue'>Data Pipeline using PySpark\n",
    "---"
   ]
  },
  {
   "cell_type": "markdown",
   "id": "28b7f97e-a27f-437e-9a0d-68a8d0039e17",
   "metadata": {},
   "source": [
    "**Outline**\n",
    "\n",
    "1. Review:\n",
    "    - Introduction to Apache Spark & PySpark I\n",
    "    - Introduction to Apache Spark & PySpark II\n",
    "2. Case Study: Data Pipeline Movie Data"
   ]
  },
  {
   "cell_type": "markdown",
   "id": "5919dee0-7197-4a27-bf97-f2513b0294a3",
   "metadata": {},
   "source": [
    "### **Create Spark Session**\n",
    "---"
   ]
  },
  {
   "cell_type": "markdown",
   "id": "00c3f895-036e-4e90-bd4f-61fff0697658",
   "metadata": {},
   "source": [
    "We're going to name the session as `\"Data Pipeline using PySpark\"`"
   ]
  },
  {
   "cell_type": "code",
   "execution_count": 1,
   "id": "a85dd3c1-8b51-4f97-b330-c30c14cd98cc",
   "metadata": {},
   "outputs": [],
   "source": [
    "# import library\n",
    "import pyspark"
   ]
  },
  {
   "cell_type": "code",
   "execution_count": 2,
   "id": "b07fba06-3efe-4a2d-9021-68617df0844d",
   "metadata": {},
   "outputs": [],
   "source": [
    "import pyspark\n",
    "from pyspark.sql import SparkSession"
   ]
  },
  {
   "cell_type": "code",
   "execution_count": 3,
   "id": "70f538ad-066f-4290-a452-1436a11f6780",
   "metadata": {},
   "outputs": [],
   "source": [
    "spark = SparkSession \\\n",
    "    .builder \\\n",
    "    .config(\"spark.jars.packages\", \"org.postgresql:postgresql:42.6.0\") \\\n",
    "    .appName(\"Data Pipeline using PySpark\") \\\n",
    "    .getOrCreate()"
   ]
  },
  {
   "cell_type": "code",
   "execution_count": 4,
   "id": "50d8fa03-f3f6-47fd-83ef-48823c9a99ed",
   "metadata": {},
   "outputs": [
    {
     "data": {
      "text/html": [
       "\n",
       "            <div>\n",
       "                <p><b>SparkSession - in-memory</b></p>\n",
       "                \n",
       "        <div>\n",
       "            <p><b>SparkContext</b></p>\n",
       "\n",
       "            <p><a href=\"http://pyspark:4040\">Spark UI</a></p>\n",
       "\n",
       "            <dl>\n",
       "              <dt>Version</dt>\n",
       "                <dd><code>v3.5.0</code></dd>\n",
       "              <dt>Master</dt>\n",
       "                <dd><code>local[*]</code></dd>\n",
       "              <dt>AppName</dt>\n",
       "                <dd><code>Data Pipeline using PySpark</code></dd>\n",
       "            </dl>\n",
       "        </div>\n",
       "        \n",
       "            </div>\n",
       "        "
      ],
      "text/plain": [
       "<pyspark.sql.session.SparkSession at 0x7efd698ca790>"
      ]
     },
     "execution_count": 4,
     "metadata": {},
     "output_type": "execute_result"
    }
   ],
   "source": [
    "spark"
   ]
  },
  {
   "cell_type": "markdown",
   "id": "90257aef-d617-4898-8e5a-e89ca8b69e31",
   "metadata": {},
   "source": [
    "### **1. Extract Process**\n",
    "---"
   ]
  },
  {
   "cell_type": "markdown",
   "id": "9b4c516a-a065-48e0-b9f9-a13f360ce9b7",
   "metadata": {},
   "source": [
    "#### **1a**\n",
    "---"
   ]
  },
  {
   "cell_type": "markdown",
   "id": "d238df96-1253-4716-bb07-0e99d8828b34",
   "metadata": {},
   "source": [
    "- Read the csv data first in `data/ratings.csv` using PySpark\n",
    "- Save it to `df_ratings` variable"
   ]
  },
  {
   "cell_type": "code",
   "execution_count": 5,
   "id": "7d87b9d2-0d83-4a02-80aa-1f02db1ff1ae",
   "metadata": {},
   "outputs": [],
   "source": [
    "def read_data_csv(PATH:str,filename:str):\n",
    "    try:\n",
    "        \"\"\"\n",
    "            Function to read data from csv file \n",
    "        \"\"\"\n",
    "        data = spark.read.option(\"header\", \"true\").csv(DATA_PATH + filename) \n",
    "        return data\n",
    "    except Exception as e:\n",
    "        print(f\"ERROR : {e}\")    "
   ]
  },
  {
   "cell_type": "code",
   "execution_count": 6,
   "id": "55ddf19c-96b6-4b75-8c58-f69823a07394",
   "metadata": {},
   "outputs": [
    {
     "name": "stdout",
     "output_type": "stream",
     "text": [
      "+------+-------+------+----------+\n",
      "|userId|movieId|rating| timestamp|\n",
      "+------+-------+------+----------+\n",
      "|     1|    110|   1.0|1425941529|\n",
      "|     1|    147|   4.5|1425942435|\n",
      "|     1|    858|   5.0|1425941523|\n",
      "+------+-------+------+----------+\n",
      "only showing top 3 rows\n",
      "\n"
     ]
    }
   ],
   "source": [
    "DATA_PATH = '../data/'\n",
    "filename = 'ratings.csv'\n",
    "df_ratings = read_data_csv(DATA_PATH, filename)\n",
    "df_ratings.show(3)"
   ]
  },
  {
   "cell_type": "code",
   "execution_count": 7,
   "id": "39e848f9-4a6f-463a-a39d-93655894b343",
   "metadata": {},
   "outputs": [
    {
     "data": {
      "text/plain": [
       "26024289"
      ]
     },
     "execution_count": 7,
     "metadata": {},
     "output_type": "execute_result"
    }
   ],
   "source": [
    "df_ratings.count()"
   ]
  },
  {
   "cell_type": "markdown",
   "id": "0b45db72-5298-4eff-a93b-4429b752f805",
   "metadata": {},
   "source": [
    "#### **1b**\n",
    "---"
   ]
  },
  {
   "cell_type": "code",
   "execution_count": 8,
   "id": "80981f17-4b00-40ce-9695-ca71f0f6458b",
   "metadata": {},
   "outputs": [
    {
     "name": "stdout",
     "output_type": "stream",
     "text": [
      "Collecting python-dotenv\n",
      "  Downloading python_dotenv-1.1.1-py3-none-any.whl.metadata (24 kB)\n",
      "Downloading python_dotenv-1.1.1-py3-none-any.whl (20 kB)\n",
      "Installing collected packages: python-dotenv\n",
      "Successfully installed python-dotenv-1.1.1\n",
      "Note: you may need to restart the kernel to use updated packages.\n"
     ]
    }
   ],
   "source": [
    "pip install python-dotenv"
   ]
  },
  {
   "cell_type": "code",
   "execution_count": 9,
   "id": "45f6aa5d-2980-40ef-afb7-c9a8c5855d31",
   "metadata": {},
   "outputs": [],
   "source": [
    "from dotenv import load_dotenv\n",
    "import os"
   ]
  },
  {
   "cell_type": "code",
   "execution_count": 10,
   "id": "c8db6b8e-561f-4355-9455-4185fdc3cfd1",
   "metadata": {},
   "outputs": [],
   "source": [
    "# Load .env file\n",
    "load_dotenv()\n",
    "\n",
    "# Access variables\n",
    "db_host = os.getenv(\"POSTGRES_URL_MOVIE\")\n",
    "db_name = os.getenv(\"POSTGRES_DB_MOVIE\")\n",
    "db_user = os.getenv(\"POSTGRES_USER_MOVIE\")\n",
    "db_pass = os.getenv(\"POSTGRES_PASSWORD_MOVIE\")\n",
    "conn_properties = {\n",
    "    \"user\": db_user,\n",
    "    \"password\": db_pass,\n",
    "    \"driver\": \"org.postgresql.Driver\" # set driver postgres\n",
    "}"
   ]
  },
  {
   "cell_type": "code",
   "execution_count": 11,
   "id": "8959ed99-3829-48aa-a211-698e9a479223",
   "metadata": {},
   "outputs": [],
   "source": [
    "TABLE_NAME = 'movies_metadata'\n",
    "df_metadata = spark.read.jdbc(url=db_host,table = TABLE_NAME, properties=conn_properties)"
   ]
  },
  {
   "cell_type": "code",
   "execution_count": 12,
   "id": "853eca08-6721-4634-9976-635726b9311c",
   "metadata": {},
   "outputs": [
    {
     "name": "stdout",
     "output_type": "stream",
     "text": [
      "-RECORD 0------------------------------------------------------------------------------------------------------------------------------------------------------------------------------------------------------------------------------------------------------------------------------------------------------------------------------------------------------------------------------------------------------------------------------------------------------------------------------------------------------\n",
      " adult                 | False                                                                                                                                                                                                                                                                                                                                                                                                                                                                                 \n",
      " belongs_to_collection |                                                                                                                                                                                                                                                                                                                                                                                                                                                                                       \n",
      " budget                | 28000000                                                                                                                                                                                                                                                                                                                                                                                                                                                                              \n",
      " genres                | [{'id': 12, 'name': 'Adventure'}]                                                                                                                                                                                                                                                                                                                                                                                                                                                     \n",
      " homepage              |                                                                                                                                                                                                                                                                                                                                                                                                                                                                                       \n",
      " id                    | 11780                                                                                                                                                                                                                                                                                                                                                                                                                                                                                 \n",
      " imdb_id               | tt0114287                                                                                                                                                                                                                                                                                                                                                                                                                                                                             \n",
      " original_language     | en                                                                                                                                                                                                                                                                                                                                                                                                                                                                                    \n",
      " original_title        | Rob Roy                                                                                                                                                                                                                                                                                                                                                                                                                                                                               \n",
      " overview              | In the highlands of Scotland in the 1700s, Rob Roy tries to lead his small town to a better future, by borrowing money from the local nobility to buy cattle to herd to market. When the money is stolen, Rob is forced into a Robin Hood lifestyle to defend his family and honour.                                                                                                                                                                                                  \n",
      " popularity            | 10.193549                                                                                                                                                                                                                                                                                                                                                                                                                                                                             \n",
      " poster_path           | /8O52wIIbskNl9kZnGvP9Gi4A2oN.jpg                                                                                                                                                                                                                                                                                                                                                                                                                                                      \n",
      " production_companies  | [{'name': 'United Artists', 'id': 60}, {'name': 'Talisman Productions', 'id': 8989}]                                                                                                                                                                                                                                                                                                                                                                                                  \n",
      " production_countries  | [{'iso_3166_1': 'GB', 'name': 'United Kingdom'}, {'iso_3166_1': 'US', 'name': 'United States of America'}]                                                                                                                                                                                                                                                                                                                                                                            \n",
      " release_date          | 1995-04-13                                                                                                                                                                                                                                                                                                                                                                                                                                                                            \n",
      " revenue               | 31596911                                                                                                                                                                                                                                                                                                                                                                                                                                                                              \n",
      " runtime               | 139.0                                                                                                                                                                                                                                                                                                                                                                                                                                                                                 \n",
      " spoken_languages      | [{'iso_639_1': 'en', 'name': 'English'}]                                                                                                                                                                                                                                                                                                                                                                                                                                              \n",
      " status                | Released                                                                                                                                                                                                                                                                                                                                                                                                                                                                              \n",
      " tagline               | Honor made him a man. Courage made him a hero. History made him a legend.                                                                                                                                                                                                                                                                                                                                                                                                             \n",
      " title                 | Rob Roy                                                                                                                                                                                                                                                                                                                                                                                                                                                                               \n",
      " video                 | False                                                                                                                                                                                                                                                                                                                                                                                                                                                                                 \n",
      " vote_average          | 6.5                                                                                                                                                                                                                                                                                                                                                                                                                                                                                   \n",
      " vote_count            | 151                                                                                                                                                                                                                                                                                                                                                                                                                                                                                   \n",
      "-RECORD 1------------------------------------------------------------------------------------------------------------------------------------------------------------------------------------------------------------------------------------------------------------------------------------------------------------------------------------------------------------------------------------------------------------------------------------------------------------------------------------------------------\n",
      " adult                 | False                                                                                                                                                                                                                                                                                                                                                                                                                                                                                 \n",
      " belongs_to_collection |                                                                                                                                                                                                                                                                                                                                                                                                                                                                                       \n",
      " budget                | 0                                                                                                                                                                                                                                                                                                                                                                                                                                                                                     \n",
      " genres                | [{'id': 18, 'name': 'Drama'}, {'id': 27, 'name': 'Horror'}]                                                                                                                                                                                                                                                                                                                                                                                                                           \n",
      " homepage              |                                                                                                                                                                                                                                                                                                                                                                                                                                                                                       \n",
      " id                    | 34996                                                                                                                                                                                                                                                                                                                                                                                                                                                                                 \n",
      " imdb_id               | tt0112288                                                                                                                                                                                                                                                                                                                                                                                                                                                                             \n",
      " original_language     | en                                                                                                                                                                                                                                                                                                                                                                                                                                                                                    \n",
      " original_title        | The Addiction                                                                                                                                                                                                                                                                                                                                                                                                                                                                         \n",
      " overview              | A vampiric doctoral student tries to follow the philosophy of a nocturnal comrade and control her thirst for blood.                                                                                                                                                                                                                                                                                                                                                                   \n",
      " popularity            | 3.137285                                                                                                                                                                                                                                                                                                                                                                                                                                                                              \n",
      " poster_path           | /ej0gD547grj5QMoKuzqKyHuc3Xi.jpg                                                                                                                                                                                                                                                                                                                                                                                                                                                      \n",
      " production_companies  | [{'name': 'October Films', 'id': 236}, {'name': 'Guild', 'id': 1214}, {'name': 'Fastnet Films', 'id': 5353}]                                                                                                                                                                                                                                                                                                                                                                          \n",
      " production_countries  | [{'iso_3166_1': 'US', 'name': 'United States of America'}]                                                                                                                                                                                                                                                                                                                                                                                                                            \n",
      " release_date          | 1995-01-10                                                                                                                                                                                                                                                                                                                                                                                                                                                                            \n",
      " revenue               | 0                                                                                                                                                                                                                                                                                                                                                                                                                                                                                     \n",
      " runtime               | 82.0                                                                                                                                                                                                                                                                                                                                                                                                                                                                                  \n",
      " spoken_languages      | [{'iso_639_1': 'en', 'name': 'English'}]                                                                                                                                                                                                                                                                                                                                                                                                                                              \n",
      " status                | Released                                                                                                                                                                                                                                                                                                                                                                                                                                                                              \n",
      " tagline               | The dark is their sunlight. What makes them different is what keeps them alive.                                                                                                                                                                                                                                                                                                                                                                                                       \n",
      " title                 | The Addiction                                                                                                                                                                                                                                                                                                                                                                                                                                                                         \n",
      " video                 | False                                                                                                                                                                                                                                                                                                                                                                                                                                                                                 \n",
      " vote_average          | 6.4                                                                                                                                                                                                                                                                                                                                                                                                                                                                                   \n",
      " vote_count            | 46                                                                                                                                                                                                                                                                                                                                                                                                                                                                                    \n",
      "-RECORD 2------------------------------------------------------------------------------------------------------------------------------------------------------------------------------------------------------------------------------------------------------------------------------------------------------------------------------------------------------------------------------------------------------------------------------------------------------------------------------------------------------\n",
      " adult                 | False                                                                                                                                                                                                                                                                                                                                                                                                                                                                                 \n",
      " belongs_to_collection | {'id': 120794, 'name': 'Batman Collection', 'poster_path': '/adQxUvQW8HXNsvMG5aj71pHh9T.jpg', 'backdrop_path': '/9SpZvXLZDGGtFqVDByGqSGI64Kw.jpg'}                                                                                                                                                                                                                                                                                                                                    \n",
      " budget                | 100000000                                                                                                                                                                                                                                                                                                                                                                                                                                                                             \n",
      " genres                | [{'id': 28, 'name': 'Action'}, {'id': 80, 'name': 'Crime'}, {'id': 14, 'name': 'Fantasy'}]                                                                                                                                                                                                                                                                                                                                                                                            \n",
      " homepage              |                                                                                                                                                                                                                                                                                                                                                                                                                                                                                       \n",
      " id                    | 414                                                                                                                                                                                                                                                                                                                                                                                                                                                                                   \n",
      " imdb_id               | tt0112462                                                                                                                                                                                                                                                                                                                                                                                                                                                                             \n",
      " original_language     | en                                                                                                                                                                                                                                                                                                                                                                                                                                                                                    \n",
      " original_title        | Batman Forever                                                                                                                                                                                                                                                                                                                                                                                                                                                                        \n",
      " overview              | The Dark Knight of Gotham City confronts a dastardly duo: Two-Face and the Riddler. Formerly District Attorney Harvey Dent, Two-Face believes Batman caused the courtroom accident which left him disfigured on one side. And Edward Nygma, computer-genius and former employee of millionaire Bruce Wayne, is out to get the philanthropist; as The Riddler. Former circus acrobat Dick Grayson, his family killed by Two-Face, becomes Wayne's ward and Batman's new partner Robin. \n",
      " popularity            | 13.321354                                                                                                                                                                                                                                                                                                                                                                                                                                                                             \n",
      " poster_path           | /eTMrHEhlFPHNxpqGwpGGTdAa0xV.jpg                                                                                                                                                                                                                                                                                                                                                                                                                                                      \n",
      " production_companies  | [{'name': 'Warner Bros.', 'id': 6194}, {'name': 'Polygram Filmed Entertainment', 'id': 31080}]                                                                                                                                                                                                                                                                                                                                                                                        \n",
      " production_countries  | [{'iso_3166_1': 'GB', 'name': 'United Kingdom'}, {'iso_3166_1': 'US', 'name': 'United States of America'}]                                                                                                                                                                                                                                                                                                                                                                            \n",
      " release_date          | 1995-06-16                                                                                                                                                                                                                                                                                                                                                                                                                                                                            \n",
      " revenue               | 336529144                                                                                                                                                                                                                                                                                                                                                                                                                                                                             \n",
      " runtime               | 121.0                                                                                                                                                                                                                                                                                                                                                                                                                                                                                 \n",
      " spoken_languages      | [{'iso_639_1': 'en', 'name': 'English'}]                                                                                                                                                                                                                                                                                                                                                                                                                                              \n",
      " status                | Released                                                                                                                                                                                                                                                                                                                                                                                                                                                                              \n",
      " tagline               | Courage now, truth always...                                                                                                                                                                                                                                                                                                                                                                                                                                                          \n",
      " title                 | Batman Forever                                                                                                                                                                                                                                                                                                                                                                                                                                                                        \n",
      " video                 | False                                                                                                                                                                                                                                                                                                                                                                                                                                                                                 \n",
      " vote_average          | 5.2                                                                                                                                                                                                                                                                                                                                                                                                                                                                                   \n",
      " vote_count            | 1529                                                                                                                                                                                                                                                                                                                                                                                                                                                                                  \n",
      "only showing top 3 rows\n",
      "\n"
     ]
    }
   ],
   "source": [
    "df_metadata.show(3, truncate = False, vertical = True)"
   ]
  },
  {
   "cell_type": "code",
   "execution_count": 13,
   "id": "c6431b1e-52ca-4b10-bef1-cf9c3750caa6",
   "metadata": {},
   "outputs": [
    {
     "data": {
      "text/plain": [
       "45466"
      ]
     },
     "execution_count": 13,
     "metadata": {},
     "output_type": "execute_result"
    }
   ],
   "source": [
    "df_metadata.count()"
   ]
  },
  {
   "cell_type": "markdown",
   "id": "9d451c74-7462-49c2-a630-1636bc0c1b2e",
   "metadata": {},
   "source": [
    "### **2. Source to Target Mapping**\n",
    "---"
   ]
  },
  {
   "cell_type": "markdown",
   "id": "0d674ecc-1808-4d20-8074-4fdeda5ba1e1",
   "metadata": {},
   "source": [
    "- After we extracted all the data, we got information that ratings and movie metadata can be joined by using the movie id\n",
    "- Before that, we must profile our table that can help us for the next step\n",
    "- You can create your Source to Target Mapping or you can see it on this [Spreadsheet](https://docs.google.com/spreadsheets/d/1spFcpnUdoiKW2dApInxDNkadywiBs2mdCt8CmwHZ1ME/edit?usp=sharing)\n",
    "- The goals of Source to Target Mapping is to identify which columns can be used for the next process like what transformation rules that can be used"
   ]
  },
  {
   "cell_type": "markdown",
   "id": "2b2cf4f6-f5e8-41e1-9018-d411e50010cf",
   "metadata": {},
   "source": [
    "### **3. Transform Data**\n",
    "---"
   ]
  },
  {
   "cell_type": "markdown",
   "id": "f29b1d23-1c6e-4ab1-b96d-ebefdf921785",
   "metadata": {},
   "source": [
    "- After we mapping all the columns from Source to Target Mapping, now we can set the transformation rules\n",
    "- These are the transformation processes that we will do in this case:\n",
    "    - Join Data\n",
    "    - Renaming Columns\n",
    "    - Select Data based on Columns\n",
    "    - Casting Data Type\n",
    "    - Filter Data\n",
    "    - Create New Columns using Existing Columns"
   ]
  },
  {
   "cell_type": "markdown",
   "id": "8267c783-6452-45e0-ac38-24e38ffe53d1",
   "metadata": {},
   "source": [
    "#### **3a. Join Data**\n",
    "---"
   ]
  },
  {
   "cell_type": "markdown",
   "id": "a0dd468b-18c0-42d1-8e69-1b1ef7348004",
   "metadata": {},
   "source": [
    "- In this process, we want to join the data from movies rating and movies metadata\n",
    "- After we explore the data from the previous process turns out there's one column that we can join!\n",
    "    - `df_ratings`: `movieId`\n",
    "    - `df_metadata`: `id`\n",
    "\n",
    "    <br>\n",
    "    <center>\n",
    "        <img src=\"https://sekolahdata-assets.s3.ap-southeast-1.amazonaws.com/notebook-images/mde-data-ingestion-spark/join_data_case_week_5.png\" width=50%>\n",
    "    </center>\n",
    "    <br>\n",
    "\n",
    "- To join the data using PySpark, we can use this code\n",
    "\n",
    "```python\n",
    "df1.join(df2, df1.col == df2.col, JOIN_METHOD) # we can use inner, left, right, etc\n",
    "```\n",
    "\n",
    "- In this case, we will use `inner` join then save the joined data in `df_joined` variable"
   ]
  },
  {
   "cell_type": "code",
   "execution_count": 15,
   "id": "ce282254-42ad-4ad1-b526-0654ab835726",
   "metadata": {},
   "outputs": [],
   "source": [
    "df_data = df_ratings.join(df_metadata, df_ratings.movieId == df_metadata.id, \"inner\")"
   ]
  },
  {
   "cell_type": "code",
   "execution_count": 16,
   "id": "7778b7b2-e49b-4c32-abbd-0480d32bd20b",
   "metadata": {},
   "outputs": [
    {
     "name": "stdout",
     "output_type": "stream",
     "text": [
      "+------+-------+------+----------+-----+---------------------+------+--------------------+--------+------+---------+-----------------+--------------+--------------------+----------+--------------------+--------------------+--------------------+------------+-------+-------+--------------------+--------+--------------------+--------------+-----+------------+----------+\n",
      "|userId|movieId|rating| timestamp|adult|belongs_to_collection|budget|              genres|homepage|    id|  imdb_id|original_language|original_title|            overview|popularity|         poster_path|production_companies|production_countries|release_date|revenue|runtime|    spoken_languages|  status|             tagline|         title|video|vote_average|vote_count|\n",
      "+------+-------+------+----------+-----+---------------------+------+--------------------+--------+------+---------+-----------------+--------------+--------------------+----------+--------------------+--------------------+--------------------+------------+-------+-------+--------------------+--------+--------------------+--------------+-----+------------+----------+\n",
      "|   429| 100010|   1.0|1475231879|False|                     |     0|[{'id': 18, 'name...|        |100010|tt0032477|               en|Flight Command|A rookie flyer, E...|  0.769266|/zrLmIoNozsKM4Ckj...|[{'name': 'Metro-...|[{'iso_3166_1': '...|  1940-12-27|      0|  116.0|[{'iso_639_1': 'e...|Released|T-H-R-I-L-L AMERI...|Flight Command|False|         6.0|         1|\n",
      "|  4095| 100010|   3.0|1416758994|False|                     |     0|[{'id': 18, 'name...|        |100010|tt0032477|               en|Flight Command|A rookie flyer, E...|  0.769266|/zrLmIoNozsKM4Ckj...|[{'name': 'Metro-...|[{'iso_3166_1': '...|  1940-12-27|      0|  116.0|[{'iso_639_1': 'e...|Released|T-H-R-I-L-L AMERI...|Flight Command|False|         6.0|         1|\n",
      "|  7502| 100010|   5.0|1361722526|False|                     |     0|[{'id': 18, 'name...|        |100010|tt0032477|               en|Flight Command|A rookie flyer, E...|  0.769266|/zrLmIoNozsKM4Ckj...|[{'name': 'Metro-...|[{'iso_3166_1': '...|  1940-12-27|      0|  116.0|[{'iso_639_1': 'e...|Released|T-H-R-I-L-L AMERI...|Flight Command|False|         6.0|         1|\n",
      "| 14347| 100010|   1.5|1481500979|False|                     |     0|[{'id': 18, 'name...|        |100010|tt0032477|               en|Flight Command|A rookie flyer, E...|  0.769266|/zrLmIoNozsKM4Ckj...|[{'name': 'Metro-...|[{'iso_3166_1': '...|  1940-12-27|      0|  116.0|[{'iso_639_1': 'e...|Released|T-H-R-I-L-L AMERI...|Flight Command|False|         6.0|         1|\n",
      "| 14797| 100010|   3.5|1362460350|False|                     |     0|[{'id': 18, 'name...|        |100010|tt0032477|               en|Flight Command|A rookie flyer, E...|  0.769266|/zrLmIoNozsKM4Ckj...|[{'name': 'Metro-...|[{'iso_3166_1': '...|  1940-12-27|      0|  116.0|[{'iso_639_1': 'e...|Released|T-H-R-I-L-L AMERI...|Flight Command|False|         6.0|         1|\n",
      "+------+-------+------+----------+-----+---------------------+------+--------------------+--------+------+---------+-----------------+--------------+--------------------+----------+--------------------+--------------------+--------------------+------------+-------+-------+--------------------+--------+--------------------+--------------+-----+------------+----------+\n",
      "only showing top 5 rows\n",
      "\n"
     ]
    }
   ],
   "source": [
    "df_data.show(5)"
   ]
  },
  {
   "cell_type": "code",
   "execution_count": 17,
   "id": "53308d90-ed92-48e5-bb7f-323e2e807bf4",
   "metadata": {},
   "outputs": [
    {
     "name": "stdout",
     "output_type": "stream",
     "text": [
      "-RECORD 0-------------------------------------------------------------------------------------------------------------------------------------------------------------------------------------------------------------------------------------------------------------------------------------------------------------------------------------------------------------------------------------------------------------------------------------------------------------------------------------------------------------------------------------------------------------------------------------------------------------------------------------------------------------------------------------------------------------------------------------------------------------\n",
      " userId                | 429                                                                                                                                                                                                                                                                                                                                                                                                                                                                                                                                                                                                                                                                                                                                          \n",
      " movieId               | 100010                                                                                                                                                                                                                                                                                                                                                                                                                                                                                                                                                                                                                                                                                                                                       \n",
      " rating                | 1.0                                                                                                                                                                                                                                                                                                                                                                                                                                                                                                                                                                                                                                                                                                                                          \n",
      " timestamp             | 1475231879                                                                                                                                                                                                                                                                                                                                                                                                                                                                                                                                                                                                                                                                                                                                   \n",
      " adult                 | False                                                                                                                                                                                                                                                                                                                                                                                                                                                                                                                                                                                                                                                                                                                                        \n",
      " belongs_to_collection |                                                                                                                                                                                                                                                                                                                                                                                                                                                                                                                                                                                                                                                                                                                                              \n",
      " budget                | 0                                                                                                                                                                                                                                                                                                                                                                                                                                                                                                                                                                                                                                                                                                                                            \n",
      " genres                | [{'id': 18, 'name': 'Drama'}, {'id': 10752, 'name': 'War'}]                                                                                                                                                                                                                                                                                                                                                                                                                                                                                                                                                                                                                                                                                  \n",
      " homepage              |                                                                                                                                                                                                                                                                                                                                                                                                                                                                                                                                                                                                                                                                                                                                              \n",
      " id                    | 100010                                                                                                                                                                                                                                                                                                                                                                                                                                                                                                                                                                                                                                                                                                                                       \n",
      " imdb_id               | tt0032477                                                                                                                                                                                                                                                                                                                                                                                                                                                                                                                                                                                                                                                                                                                                    \n",
      " original_language     | en                                                                                                                                                                                                                                                                                                                                                                                                                                                                                                                                                                                                                                                                                                                                           \n",
      " original_title        | Flight Command                                                                                                                                                                                                                                                                                                                                                                                                                                                                                                                                                                                                                                                                                                                               \n",
      " overview              | A rookie flyer, Ens. Alan Drake, joins the famous Hellcats Squadron right out of flight school in Pensacola. He doesn't make a great first impression when he is forced to ditch his airplane and parachute to safety when he arrives at the base but is unable to land due to heavy fog. On his first day on the job, his poor shooting skills results in the Hellcats losing an air combat competition. His fellow pilots accept him anyways but they think he's crossed the line when they erroneously conclude that while their CO Billy Gray is away, Drake has an affair with his wife Lorna. Drake is now an outcast and is prepared to resign from the Navy but his extreme heroism in saving Billy Gray's life turns things around. \n",
      " popularity            | 0.769266                                                                                                                                                                                                                                                                                                                                                                                                                                                                                                                                                                                                                                                                                                                                     \n",
      " poster_path           | /zrLmIoNozsKM4CkjXG1abOxOZj9.jpg                                                                                                                                                                                                                                                                                                                                                                                                                                                                                                                                                                                                                                                                                                             \n",
      " production_companies  | [{'name': 'Metro-Goldwyn-Mayer (MGM)', 'id': 8411}]                                                                                                                                                                                                                                                                                                                                                                                                                                                                                                                                                                                                                                                                                          \n",
      " production_countries  | [{'iso_3166_1': 'US', 'name': 'United States of America'}]                                                                                                                                                                                                                                                                                                                                                                                                                                                                                                                                                                                                                                                                                   \n",
      " release_date          | 1940-12-27                                                                                                                                                                                                                                                                                                                                                                                                                                                                                                                                                                                                                                                                                                                                   \n",
      " revenue               | 0                                                                                                                                                                                                                                                                                                                                                                                                                                                                                                                                                                                                                                                                                                                                            \n",
      " runtime               | 116.0                                                                                                                                                                                                                                                                                                                                                                                                                                                                                                                                                                                                                                                                                                                                        \n",
      " spoken_languages      | [{'iso_639_1': 'en', 'name': 'English'}]                                                                                                                                                                                                                                                                                                                                                                                                                                                                                                                                                                                                                                                                                                     \n",
      " status                | Released                                                                                                                                                                                                                                                                                                                                                                                                                                                                                                                                                                                                                                                                                                                                     \n",
      " tagline               | T-H-R-I-L-L AMERICA! Here come The Flying \"HELL CATS\"!                                                                                                                                                                                                                                                                                                                                                                                                                                                                                                                                                                                                                                                                                       \n",
      " title                 | Flight Command                                                                                                                                                                                                                                                                                                                                                                                                                                                                                                                                                                                                                                                                                                                               \n",
      " video                 | False                                                                                                                                                                                                                                                                                                                                                                                                                                                                                                                                                                                                                                                                                                                                        \n",
      " vote_average          | 6.0                                                                                                                                                                                                                                                                                                                                                                                                                                                                                                                                                                                                                                                                                                                                          \n",
      " vote_count            | 1                                                                                                                                                                                                                                                                                                                                                                                                                                                                                                                                                                                                                                                                                                                                            \n",
      "-RECORD 1-------------------------------------------------------------------------------------------------------------------------------------------------------------------------------------------------------------------------------------------------------------------------------------------------------------------------------------------------------------------------------------------------------------------------------------------------------------------------------------------------------------------------------------------------------------------------------------------------------------------------------------------------------------------------------------------------------------------------------------------------------------\n",
      " userId                | 4095                                                                                                                                                                                                                                                                                                                                                                                                                                                                                                                                                                                                                                                                                                                                         \n",
      " movieId               | 100010                                                                                                                                                                                                                                                                                                                                                                                                                                                                                                                                                                                                                                                                                                                                       \n",
      " rating                | 3.0                                                                                                                                                                                                                                                                                                                                                                                                                                                                                                                                                                                                                                                                                                                                          \n",
      " timestamp             | 1416758994                                                                                                                                                                                                                                                                                                                                                                                                                                                                                                                                                                                                                                                                                                                                   \n",
      " adult                 | False                                                                                                                                                                                                                                                                                                                                                                                                                                                                                                                                                                                                                                                                                                                                        \n",
      " belongs_to_collection |                                                                                                                                                                                                                                                                                                                                                                                                                                                                                                                                                                                                                                                                                                                                              \n",
      " budget                | 0                                                                                                                                                                                                                                                                                                                                                                                                                                                                                                                                                                                                                                                                                                                                            \n",
      " genres                | [{'id': 18, 'name': 'Drama'}, {'id': 10752, 'name': 'War'}]                                                                                                                                                                                                                                                                                                                                                                                                                                                                                                                                                                                                                                                                                  \n",
      " homepage              |                                                                                                                                                                                                                                                                                                                                                                                                                                                                                                                                                                                                                                                                                                                                              \n",
      " id                    | 100010                                                                                                                                                                                                                                                                                                                                                                                                                                                                                                                                                                                                                                                                                                                                       \n",
      " imdb_id               | tt0032477                                                                                                                                                                                                                                                                                                                                                                                                                                                                                                                                                                                                                                                                                                                                    \n",
      " original_language     | en                                                                                                                                                                                                                                                                                                                                                                                                                                                                                                                                                                                                                                                                                                                                           \n",
      " original_title        | Flight Command                                                                                                                                                                                                                                                                                                                                                                                                                                                                                                                                                                                                                                                                                                                               \n",
      " overview              | A rookie flyer, Ens. Alan Drake, joins the famous Hellcats Squadron right out of flight school in Pensacola. He doesn't make a great first impression when he is forced to ditch his airplane and parachute to safety when he arrives at the base but is unable to land due to heavy fog. On his first day on the job, his poor shooting skills results in the Hellcats losing an air combat competition. His fellow pilots accept him anyways but they think he's crossed the line when they erroneously conclude that while their CO Billy Gray is away, Drake has an affair with his wife Lorna. Drake is now an outcast and is prepared to resign from the Navy but his extreme heroism in saving Billy Gray's life turns things around. \n",
      " popularity            | 0.769266                                                                                                                                                                                                                                                                                                                                                                                                                                                                                                                                                                                                                                                                                                                                     \n",
      " poster_path           | /zrLmIoNozsKM4CkjXG1abOxOZj9.jpg                                                                                                                                                                                                                                                                                                                                                                                                                                                                                                                                                                                                                                                                                                             \n",
      " production_companies  | [{'name': 'Metro-Goldwyn-Mayer (MGM)', 'id': 8411}]                                                                                                                                                                                                                                                                                                                                                                                                                                                                                                                                                                                                                                                                                          \n",
      " production_countries  | [{'iso_3166_1': 'US', 'name': 'United States of America'}]                                                                                                                                                                                                                                                                                                                                                                                                                                                                                                                                                                                                                                                                                   \n",
      " release_date          | 1940-12-27                                                                                                                                                                                                                                                                                                                                                                                                                                                                                                                                                                                                                                                                                                                                   \n",
      " revenue               | 0                                                                                                                                                                                                                                                                                                                                                                                                                                                                                                                                                                                                                                                                                                                                            \n",
      " runtime               | 116.0                                                                                                                                                                                                                                                                                                                                                                                                                                                                                                                                                                                                                                                                                                                                        \n",
      " spoken_languages      | [{'iso_639_1': 'en', 'name': 'English'}]                                                                                                                                                                                                                                                                                                                                                                                                                                                                                                                                                                                                                                                                                                     \n",
      " status                | Released                                                                                                                                                                                                                                                                                                                                                                                                                                                                                                                                                                                                                                                                                                                                     \n",
      " tagline               | T-H-R-I-L-L AMERICA! Here come The Flying \"HELL CATS\"!                                                                                                                                                                                                                                                                                                                                                                                                                                                                                                                                                                                                                                                                                       \n",
      " title                 | Flight Command                                                                                                                                                                                                                                                                                                                                                                                                                                                                                                                                                                                                                                                                                                                               \n",
      " video                 | False                                                                                                                                                                                                                                                                                                                                                                                                                                                                                                                                                                                                                                                                                                                                        \n",
      " vote_average          | 6.0                                                                                                                                                                                                                                                                                                                                                                                                                                                                                                                                                                                                                                                                                                                                          \n",
      " vote_count            | 1                                                                                                                                                                                                                                                                                                                                                                                                                                                                                                                                                                                                                                                                                                                                            \n",
      "-RECORD 2-------------------------------------------------------------------------------------------------------------------------------------------------------------------------------------------------------------------------------------------------------------------------------------------------------------------------------------------------------------------------------------------------------------------------------------------------------------------------------------------------------------------------------------------------------------------------------------------------------------------------------------------------------------------------------------------------------------------------------------------------------------\n",
      " userId                | 7502                                                                                                                                                                                                                                                                                                                                                                                                                                                                                                                                                                                                                                                                                                                                         \n",
      " movieId               | 100010                                                                                                                                                                                                                                                                                                                                                                                                                                                                                                                                                                                                                                                                                                                                       \n",
      " rating                | 5.0                                                                                                                                                                                                                                                                                                                                                                                                                                                                                                                                                                                                                                                                                                                                          \n",
      " timestamp             | 1361722526                                                                                                                                                                                                                                                                                                                                                                                                                                                                                                                                                                                                                                                                                                                                   \n",
      " adult                 | False                                                                                                                                                                                                                                                                                                                                                                                                                                                                                                                                                                                                                                                                                                                                        \n",
      " belongs_to_collection |                                                                                                                                                                                                                                                                                                                                                                                                                                                                                                                                                                                                                                                                                                                                              \n",
      " budget                | 0                                                                                                                                                                                                                                                                                                                                                                                                                                                                                                                                                                                                                                                                                                                                            \n",
      " genres                | [{'id': 18, 'name': 'Drama'}, {'id': 10752, 'name': 'War'}]                                                                                                                                                                                                                                                                                                                                                                                                                                                                                                                                                                                                                                                                                  \n",
      " homepage              |                                                                                                                                                                                                                                                                                                                                                                                                                                                                                                                                                                                                                                                                                                                                              \n",
      " id                    | 100010                                                                                                                                                                                                                                                                                                                                                                                                                                                                                                                                                                                                                                                                                                                                       \n",
      " imdb_id               | tt0032477                                                                                                                                                                                                                                                                                                                                                                                                                                                                                                                                                                                                                                                                                                                                    \n",
      " original_language     | en                                                                                                                                                                                                                                                                                                                                                                                                                                                                                                                                                                                                                                                                                                                                           \n",
      " original_title        | Flight Command                                                                                                                                                                                                                                                                                                                                                                                                                                                                                                                                                                                                                                                                                                                               \n",
      " overview              | A rookie flyer, Ens. Alan Drake, joins the famous Hellcats Squadron right out of flight school in Pensacola. He doesn't make a great first impression when he is forced to ditch his airplane and parachute to safety when he arrives at the base but is unable to land due to heavy fog. On his first day on the job, his poor shooting skills results in the Hellcats losing an air combat competition. His fellow pilots accept him anyways but they think he's crossed the line when they erroneously conclude that while their CO Billy Gray is away, Drake has an affair with his wife Lorna. Drake is now an outcast and is prepared to resign from the Navy but his extreme heroism in saving Billy Gray's life turns things around. \n",
      " popularity            | 0.769266                                                                                                                                                                                                                                                                                                                                                                                                                                                                                                                                                                                                                                                                                                                                     \n",
      " poster_path           | /zrLmIoNozsKM4CkjXG1abOxOZj9.jpg                                                                                                                                                                                                                                                                                                                                                                                                                                                                                                                                                                                                                                                                                                             \n",
      " production_companies  | [{'name': 'Metro-Goldwyn-Mayer (MGM)', 'id': 8411}]                                                                                                                                                                                                                                                                                                                                                                                                                                                                                                                                                                                                                                                                                          \n",
      " production_countries  | [{'iso_3166_1': 'US', 'name': 'United States of America'}]                                                                                                                                                                                                                                                                                                                                                                                                                                                                                                                                                                                                                                                                                   \n",
      " release_date          | 1940-12-27                                                                                                                                                                                                                                                                                                                                                                                                                                                                                                                                                                                                                                                                                                                                   \n",
      " revenue               | 0                                                                                                                                                                                                                                                                                                                                                                                                                                                                                                                                                                                                                                                                                                                                            \n",
      " runtime               | 116.0                                                                                                                                                                                                                                                                                                                                                                                                                                                                                                                                                                                                                                                                                                                                        \n",
      " spoken_languages      | [{'iso_639_1': 'en', 'name': 'English'}]                                                                                                                                                                                                                                                                                                                                                                                                                                                                                                                                                                                                                                                                                                     \n",
      " status                | Released                                                                                                                                                                                                                                                                                                                                                                                                                                                                                                                                                                                                                                                                                                                                     \n",
      " tagline               | T-H-R-I-L-L AMERICA! Here come The Flying \"HELL CATS\"!                                                                                                                                                                                                                                                                                                                                                                                                                                                                                                                                                                                                                                                                                       \n",
      " title                 | Flight Command                                                                                                                                                                                                                                                                                                                                                                                                                                                                                                                                                                                                                                                                                                                               \n",
      " video                 | False                                                                                                                                                                                                                                                                                                                                                                                                                                                                                                                                                                                                                                                                                                                                        \n",
      " vote_average          | 6.0                                                                                                                                                                                                                                                                                                                                                                                                                                                                                                                                                                                                                                                                                                                                          \n",
      " vote_count            | 1                                                                                                                                                                                                                                                                                                                                                                                                                                                                                                                                                                                                                                                                                                                                            \n",
      "only showing top 3 rows\n",
      "\n"
     ]
    }
   ],
   "source": [
    "df_data.show(3, truncate=False, vertical=True)"
   ]
  },
  {
   "cell_type": "markdown",
   "id": "4a38e58a-bc17-4b12-ac0b-3f6b108050ef",
   "metadata": {},
   "source": [
    "#### **3b. Rename Columns**\n",
    "---"
   ]
  },
  {
   "cell_type": "markdown",
   "id": "bf7a8bc9-a838-4f3e-90ff-65651330c830",
   "metadata": {},
   "source": [
    "- After we joined the data, turns out there's a columns that not in the correct format\n",
    "- Columns that we want to renamed are:\n",
    "    - `userId`: `user_id`\n",
    "    - `movieId`: `movie_id`"
   ]
  },
  {
   "cell_type": "code",
   "execution_count": null,
   "id": "9f81cd13-9cd4-4b2f-be01-9aadecb62b64",
   "metadata": {},
   "outputs": [],
   "source": [
    "COLUMNS_RENAME = {\n",
    "    \"userId\": \"user_id\",\n",
    "    \"movieId\": \"movie_id\"\n",
    "}\n",
    "\n",
    "df_data = df_data.withRenames"
   ]
  }
 ],
 "metadata": {
  "kernelspec": {
   "display_name": "Python 3 (ipykernel)",
   "language": "python",
   "name": "python3"
  },
  "language_info": {
   "codemirror_mode": {
    "name": "ipython",
    "version": 3
   },
   "file_extension": ".py",
   "mimetype": "text/x-python",
   "name": "python",
   "nbconvert_exporter": "python",
   "pygments_lexer": "ipython3",
   "version": "3.11.6"
  }
 },
 "nbformat": 4,
 "nbformat_minor": 5
}

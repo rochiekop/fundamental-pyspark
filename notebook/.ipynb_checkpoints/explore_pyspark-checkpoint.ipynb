{
 "cells": [
  {
   "cell_type": "markdown",
   "id": "9e717697-97d4-49e3-a83d-5e78be4ab182",
   "metadata": {},
   "source": [
    "## Read dataset from Database"
   ]
  },
  {
   "cell_type": "code",
   "execution_count": 1,
   "id": "666aa581-821f-460e-ad36-9e1dd49badab",
   "metadata": {},
   "outputs": [],
   "source": [
    "from pyspark.sql import SparkSession"
   ]
  },
  {
   "cell_type": "markdown",
   "id": "2b96a7dd-7022-442f-8f46-0d0aab035458",
   "metadata": {},
   "source": [
    "Create Session"
   ]
  },
  {
   "cell_type": "code",
   "execution_count": 2,
   "id": "1f7ea3d3-3bd0-44c1-b207-85de97acd3b5",
   "metadata": {},
   "outputs": [],
   "source": [
    "spark = SparkSession \\\n",
    "    .builder \\\n",
    "    .appName(\"Test PySpark\") \\\n",
    "    .getOrCreate()"
   ]
  },
  {
   "cell_type": "code",
   "execution_count": 3,
   "id": "98383015-9eb9-4c64-b794-93639bd37769",
   "metadata": {},
   "outputs": [
    {
     "data": {
      "text/html": [
       "\n",
       "            <div>\n",
       "                <p><b>SparkSession - in-memory</b></p>\n",
       "                \n",
       "        <div>\n",
       "            <p><b>SparkContext</b></p>\n",
       "\n",
       "            <p><a href=\"http://pyspark:4040\">Spark UI</a></p>\n",
       "\n",
       "            <dl>\n",
       "              <dt>Version</dt>\n",
       "                <dd><code>v3.5.1</code></dd>\n",
       "              <dt>Master</dt>\n",
       "                <dd><code>local[*]</code></dd>\n",
       "              <dt>AppName</dt>\n",
       "                <dd><code>Test PySpark</code></dd>\n",
       "            </dl>\n",
       "        </div>\n",
       "        \n",
       "            </div>\n",
       "        "
      ],
      "text/plain": [
       "<pyspark.sql.session.SparkSession at 0x7ffa6b83e350>"
      ]
     },
     "execution_count": 3,
     "metadata": {},
     "output_type": "execute_result"
    }
   ],
   "source": [
    "spark"
   ]
  },
  {
   "cell_type": "markdown",
   "id": "f819f8ff-b956-4fc0-a5fd-ab2b9709ee59",
   "metadata": {},
   "source": [
    "copy jar to container\n",
    "\n",
    "`docker cp driver/postgresql-42.6.0.jar pyspark_container:/usr/local/spark/jars/postgresql-42.6.0.jar`"
   ]
  },
  {
   "cell_type": "markdown",
   "id": "ea2ea40f-3759-4e6a-9be0-3187b8bbd9bb",
   "metadata": {},
   "source": [
    "Init connection to Postgres, kek di Pandas"
   ]
  },
  {
   "cell_type": "code",
   "execution_count": 4,
   "id": "456d02b5-955c-4ad7-9096-8f4b4a55a6ca",
   "metadata": {},
   "outputs": [],
   "source": [
    "df = spark.read \\\n",
    "    .format(\"jdbc\") \\\n",
    "    .option(\"url\", \"jdbc:postgresql://postgres_source_container:5432/hotel_db\") \\ # url to database\n",
    "    .option(\"dbtable\", \"payment\") \\ # table name\n",
    "    .option(\"user\", \"postgres\") \\ # db user\n",
    "    .option(\"password\", \"cobapassword\") \\ # db pass\n",
    "    .option(\"driver\", \"org.postgresql.Driver\") \\ # driver postgres\n",
    "    .load()"
   ]
  },
  {
   "cell_type": "code",
   "execution_count": 6,
   "id": "6c3ca3da-1f4e-4b7c-9d31-c899cc3a166d",
   "metadata": {},
   "outputs": [
    {
     "name": "stdout",
     "output_type": "stream",
     "text": [
      "+----------+--------------+--------+--------------+--------------+--------------------+--------------------+--------------------+\n",
      "|payment_id|reservation_id|provider|account_number|payment_status|        payment_date|         expire_date|          created_at|\n",
      "+----------+--------------+--------+--------------+--------------+--------------------+--------------------+--------------------+\n",
      "|         1|             1|     Ovo|     038137149|       Success|2020-10-20 17:07:...|2020-10-28 18:10:...|2024-02-09 13:59:...|\n",
      "|         2|             2|     BCA|     042103729|       Success|2015-02-28 16:44:...|2015-03-08 05:27:...|2024-02-09 13:59:...|\n",
      "|         3|             3| Permata|     058689635|       Success|2022-04-03 13:27:...|2022-04-06 14:20:...|2024-02-09 13:59:...|\n",
      "|         4|             4|     BNI|     107161965|       Success|2019-10-04 08:39:...|2019-10-08 02:01:...|2024-02-09 13:59:...|\n",
      "|         5|             5|     BSI|     014334131|        Failed|                NULL|2020-06-14 12:02:...|2024-02-09 13:59:...|\n",
      "|         6|             6|     Ovo|     043583173|       Waiting|                NULL|2020-03-25 03:35:...|2024-02-09 13:59:...|\n",
      "|         7|             7|     BSI|     021381685|       Waiting|                NULL|2017-10-12 03:15:...|2024-02-09 13:59:...|\n",
      "|         8|             8| Permata|     119636925|       Success|2019-07-06 00:27:...|2019-07-16 05:38:...|2024-02-09 13:59:...|\n",
      "|         9|             9| Mandiri|     128447299|       Success|2020-10-22 21:58:...|2020-11-07 21:05:...|2024-02-09 13:59:...|\n",
      "|        10|            10|     BCA|     021032743|        Failed|                NULL|2021-03-23 15:28:...|2024-02-09 13:59:...|\n",
      "|        11|            11|     BCA|     016173439|       Success|2015-12-30 19:38:...|2016-01-04 23:05:...|2024-02-09 13:59:...|\n",
      "|        12|            12| Mandiri|     104632264|       Success|2016-04-20 11:00:...|2016-04-29 02:21:...|2024-02-09 13:59:...|\n",
      "|        13|            13|     BSI|     043534397|        Failed|                NULL|2021-03-09 03:35:...|2024-02-09 13:59:...|\n",
      "|        14|            14|     BNI|     049889648|       Success|2015-08-30 02:50:...|2015-09-06 15:20:...|2024-02-09 13:59:...|\n",
      "|        15|            15|     Ovo|     018430413|       Success|2015-08-25 14:16:...|2015-09-11 10:50:...|2024-02-09 13:59:...|\n",
      "|        16|            16|     BSI|     050658732|       Success|2015-06-20 02:46:...|2015-07-14 03:01:...|2024-02-09 13:59:...|\n",
      "|        17|            17| Permata|     127295361|       Waiting|                NULL|2017-07-04 16:06:...|2024-02-09 13:59:...|\n",
      "|        18|            18|     Ovo|     017623865|        Failed|                NULL|2022-02-07 12:28:...|2024-02-09 13:59:...|\n",
      "|        19|            19| Permata|     045720659|       Success|2020-08-13 21:31:...|2020-08-18 00:19:...|2024-02-09 13:59:...|\n",
      "|        20|            20|     BRI|     024522616|       Success|2019-04-29 02:30:...|2019-05-04 07:50:...|2024-02-09 13:59:...|\n",
      "+----------+--------------+--------+--------------+--------------+--------------------+--------------------+--------------------+\n",
      "only showing top 20 rows\n",
      "\n"
     ]
    }
   ],
   "source": [
    "df.show()"
   ]
  },
  {
   "cell_type": "code",
   "execution_count": 14,
   "id": "d52fb20a-41dd-4640-9c2f-6f31547bd520",
   "metadata": {},
   "outputs": [
    {
     "data": {
      "text/plain": [
       "Column<'payment_status'>"
      ]
     },
     "execution_count": 14,
     "metadata": {},
     "output_type": "execute_result"
    }
   ],
   "source": [
    "df.payment_status"
   ]
  },
  {
   "cell_type": "code",
   "execution_count": 15,
   "id": "362bcbcb-c086-47c8-af6d-5bf3a5000cda",
   "metadata": {},
   "outputs": [],
   "source": [
    "filtered_data = df.filter(df[\"payment_status\"] == \"Failed\")"
   ]
  },
  {
   "cell_type": "code",
   "execution_count": 17,
   "id": "a5481222-78c0-4832-a07b-c18926c19e10",
   "metadata": {},
   "outputs": [
    {
     "name": "stdout",
     "output_type": "stream",
     "text": [
      "+----------+--------------+--------+--------------+--------------+------------+--------------------+--------------------+\n",
      "|payment_id|reservation_id|provider|account_number|payment_status|payment_date|         expire_date|          created_at|\n",
      "+----------+--------------+--------+--------------+--------------+------------+--------------------+--------------------+\n",
      "|         5|             5|     BSI|     014334131|        Failed|        NULL|2020-06-14 12:02:...|2024-02-09 13:59:...|\n",
      "|        10|            10|     BCA|     021032743|        Failed|        NULL|2021-03-23 15:28:...|2024-02-09 13:59:...|\n",
      "|        13|            13|     BSI|     043534397|        Failed|        NULL|2021-03-09 03:35:...|2024-02-09 13:59:...|\n",
      "|        18|            18|     Ovo|     017623865|        Failed|        NULL|2022-02-07 12:28:...|2024-02-09 13:59:...|\n",
      "|        30|            30|     BNI|     077692616|        Failed|        NULL|2022-10-24 00:18:...|2024-02-09 13:59:...|\n",
      "|        33|            33|     BSI|     011185396|        Failed|        NULL|2019-07-04 21:42:...|2024-02-09 13:59:...|\n",
      "|        40|            40| Mandiri|     082684305|        Failed|        NULL|2023-12-25 09:52:...|2024-02-09 13:59:...|\n",
      "|        65|            65|    Dana|     010612190|        Failed|        NULL|2016-03-03 18:51:...|2024-02-09 13:59:...|\n",
      "|        67|            67| Permata|     105844734|        Failed|        NULL|2022-09-08 18:50:...|2024-02-09 13:59:...|\n",
      "|        68|            68|     Ovo|     114214960|        Failed|        NULL|2019-10-31 02:42:...|2024-02-09 13:59:...|\n",
      "|        75|            75|     Ovo|     083806784|        Failed|        NULL|2019-04-19 20:22:...|2024-02-09 13:59:...|\n",
      "|        78|            78|     BSI|     105022242|        Failed|        NULL|2015-05-27 12:30:...|2024-02-09 13:59:...|\n",
      "|        84|            84|     BSI|     087382068|        Failed|        NULL|2021-10-21 17:02:...|2024-02-09 13:59:...|\n",
      "|        85|            85|     BSI|     071827432|        Failed|        NULL|2017-09-21 08:23:...|2024-02-09 13:59:...|\n",
      "|        89|            89| Permata|     020016087|        Failed|        NULL|2017-06-18 21:27:...|2024-02-09 13:59:...|\n",
      "|        92|            92|    Dana|     097779292|        Failed|        NULL|2020-05-14 09:29:...|2024-02-09 13:59:...|\n",
      "|       100|           100|     BRI|     110740894|        Failed|        NULL|2021-01-05 01:47:...|2024-02-09 13:59:...|\n",
      "|       101|           101|     Ovo|     080919755|        Failed|        NULL|2021-11-17 19:24:...|2024-02-09 13:59:...|\n",
      "|       106|           106| Mandiri|     021875816|        Failed|        NULL|2017-03-16 08:25:...|2024-02-09 13:59:...|\n",
      "|       125|           125|     BSI|     018840304|        Failed|        NULL|2020-12-29 16:39:...|2024-02-09 13:59:...|\n",
      "+----------+--------------+--------+--------------+--------------+------------+--------------------+--------------------+\n",
      "only showing top 20 rows\n",
      "\n"
     ]
    }
   ],
   "source": [
    "filtered_data.show()"
   ]
  },
  {
   "cell_type": "markdown",
   "id": "080dc2af-7eb0-4b9a-b89a-84d27adda214",
   "metadata": {},
   "source": [
    "from sparkContext to dataframe"
   ]
  },
  {
   "cell_type": "code",
   "execution_count": 7,
   "id": "1cb8eb56-01ad-4faf-8b29-e69aff476408",
   "metadata": {},
   "outputs": [],
   "source": [
    "df_rdd = spark.sparkContext\\\n",
    "            .parallelize([(1, 2, 3, 'a b c'),\n",
    "                            (4, 5, 6, 'd e f'),\n",
    "                            (7, 8, 9, 'g h i')])\\\n",
    "            .toDF(['col_1', 'col_2', 'col_3', 'col_4'])"
   ]
  },
  {
   "cell_type": "code",
   "execution_count": 8,
   "id": "19cfeec2-b7e7-45fe-84f1-606fee441a44",
   "metadata": {},
   "outputs": [
    {
     "name": "stdout",
     "output_type": "stream",
     "text": [
      "+-----+-----+-----+-----+\n",
      "|col_1|col_2|col_3|col_4|\n",
      "+-----+-----+-----+-----+\n",
      "|    1|    2|    3|a b c|\n",
      "|    4|    5|    6|d e f|\n",
      "|    7|    8|    9|g h i|\n",
      "+-----+-----+-----+-----+\n",
      "\n"
     ]
    }
   ],
   "source": [
    "df_rdd.show()"
   ]
  },
  {
   "cell_type": "markdown",
   "id": "ca6fd89c-fcf9-47b4-b325-2e51494d774b",
   "metadata": {},
   "source": [
    "create dataframe"
   ]
  },
  {
   "cell_type": "code",
   "execution_count": 9,
   "id": "4561b923-e14b-40e6-bdcf-5f9a2f6f631a",
   "metadata": {},
   "outputs": [],
   "source": [
    "my_list = [[\"a\", 1, 2], [\"b\", 2, 3], [\"c\", 3, 4]]\n",
    "col_name = [\"A\", \"B\", \"C\"]"
   ]
  },
  {
   "cell_type": "code",
   "execution_count": 10,
   "id": "d63df121-01d4-4d26-9529-9ea82187fcad",
   "metadata": {},
   "outputs": [
    {
     "name": "stdout",
     "output_type": "stream",
     "text": [
      "+---+---+---+\n",
      "|  A|  B|  C|\n",
      "+---+---+---+\n",
      "|  a|  1|  2|\n",
      "|  b|  2|  3|\n",
      "|  c|  3|  4|\n",
      "+---+---+---+\n",
      "\n"
     ]
    }
   ],
   "source": [
    "spark.createDataFrame(my_list, col_name).show()"
   ]
  }
 ],
 "metadata": {
  "kernelspec": {
   "display_name": "Python 3 (ipykernel)",
   "language": "python",
   "name": "python3"
  },
  "language_info": {
   "codemirror_mode": {
    "name": "ipython",
    "version": 3
   },
   "file_extension": ".py",
   "mimetype": "text/x-python",
   "name": "python",
   "nbconvert_exporter": "python",
   "pygments_lexer": "ipython3",
   "version": "3.11.9"
  }
 },
 "nbformat": 4,
 "nbformat_minor": 5
}

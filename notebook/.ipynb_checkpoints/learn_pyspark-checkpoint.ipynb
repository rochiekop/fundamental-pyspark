{
 "cells": [
  {
   "cell_type": "markdown",
   "id": "2a9648c5-fb04-4ec4-95b7-5ac4c6fc885a",
   "metadata": {},
   "source": [
    "# <font color='blue'>Introduction to PySpark\n",
    "---"
   ]
  },
  {
   "cell_type": "markdown",
   "id": "5ae0f2b9-4211-4e8e-80ea-ebd433d1052d",
   "metadata": {},
   "source": [
    "- In this Notebook, we will learn how to use and operate Spark using Python called PySpark\n",
    "- To make sure PySpark is already installed on your machine, we can import `pyspark` and check the version"
   ]
  },
  {
   "cell_type": "code",
   "execution_count": 9,
   "id": "a5919c32-7c6a-473f-8849-89b5fb32161a",
   "metadata": {},
   "outputs": [],
   "source": [
    "# import library\n",
    "import pyspark"
   ]
  },
  {
   "cell_type": "code",
   "execution_count": 2,
   "id": "6d40410b-2247-4332-91f5-d18d30254422",
   "metadata": {},
   "outputs": [
    {
     "data": {
      "text/plain": [
       "'3.5.0'"
      ]
     },
     "execution_count": 2,
     "metadata": {},
     "output_type": "execute_result"
    }
   ],
   "source": [
    "# check pyspark version\n",
    "pyspark.__version__"
   ]
  },
  {
   "cell_type": "markdown",
   "id": "bfc2b176-98ce-457f-bed9-169d34ddcc52",
   "metadata": {},
   "source": [
    "- Ok, we're already importing `pyspark` then how do we use the function and component inside pyspark?\n",
    "- To use all the functions and components inside pyspark, we must create `SparkSession`\n",
    "- To create `SparkSession` we can import this function `from pyspark.sql import SparkSession`\n",
    "- Then, if we want to create `SparkSession` we can use this code snippet\n",
    "  \n",
    "```python\n",
    "spark = SparkSession \\\n",
    "    .builder \\\n",
    "    .appName(\"...\") \\ # you can insert what kind of appName that you want\n",
    "    .getOrCreate()\n",
    "```"
   ]
  },
  {
   "cell_type": "code",
   "execution_count": 10,
   "id": "6d5e57d0-ff51-49d8-8f38-1fed86f2e456",
   "metadata": {},
   "outputs": [],
   "source": [
    "from pyspark.sql import SparkSession"
   ]
  },
  {
   "cell_type": "code",
   "execution_count": 11,
   "id": "0ee6f58e-9492-476b-99cf-6a1cdc29cd8a",
   "metadata": {},
   "outputs": [],
   "source": [
    "spark = SparkSession.builder.appName(\"Learn PySpark Data Pipeline\").getOrCreate()"
   ]
  },
  {
   "cell_type": "code",
   "execution_count": 12,
   "id": "91f67393-8981-44cb-88ef-e624856412c7",
   "metadata": {},
   "outputs": [
    {
     "data": {
      "text/html": [
       "\n",
       "            <div>\n",
       "                <p><b>SparkSession - in-memory</b></p>\n",
       "                \n",
       "        <div>\n",
       "            <p><b>SparkContext</b></p>\n",
       "\n",
       "            <p><a href=\"http://pyspark:4041\">Spark UI</a></p>\n",
       "\n",
       "            <dl>\n",
       "              <dt>Version</dt>\n",
       "                <dd><code>v3.5.0</code></dd>\n",
       "              <dt>Master</dt>\n",
       "                <dd><code>local[*]</code></dd>\n",
       "              <dt>AppName</dt>\n",
       "                <dd><code>Learn PySpark Data Pipeline</code></dd>\n",
       "            </dl>\n",
       "        </div>\n",
       "        \n",
       "            </div>\n",
       "        "
      ],
      "text/plain": [
       "<pyspark.sql.session.SparkSession at 0x7ff661849a90>"
      ]
     },
     "execution_count": 12,
     "metadata": {},
     "output_type": "execute_result"
    }
   ],
   "source": [
    "spark"
   ]
  },
  {
   "cell_type": "markdown",
   "id": "9af3b052-a32e-4b36-9067-27c1465012ee",
   "metadata": {},
   "source": [
    "### SparkContext UI\n",
    "---"
   ]
  },
  {
   "cell_type": "markdown",
   "id": "5b06f856-b2b4-4089-acff-df519966e8c1",
   "metadata": {},
   "source": [
    "- When we're creating SparkContext, we can get a web-based User Interface that will give us information about Spark execution, like run time, the process being split into many tasks, etc\n",
    "- It will help us to debug, check our Spark performance, and many more\n",
    "- To access SparkContext UI, we can access http://localhost:4040\n",
    "- Make sure, to access SparkContext UI you're already create SparkSession\n",
    "- If you're already creating SparkSession, you can click button `Spark UI`\n",
    "\n",
    "<center>\n",
    "    <img src=\"https://sekolahdata-assets.s3.ap-southeast-1.amazonaws.com/notebook-images/mde-data-ingestion-spark/spark_ui.png\">\n",
    "</center>"
   ]
  },
  {
   "cell_type": "markdown",
   "id": "6b614e99-2705-4c99-956e-159e47e784d9",
   "metadata": {},
   "source": [
    "You can try to run this code below and see the Spark UI"
   ]
  },
  {
   "cell_type": "code",
   "execution_count": 7,
   "id": "1a68ad19-cedb-49cb-a7ca-70f5963fe49e",
   "metadata": {},
   "outputs": [
    {
     "name": "stdout",
     "output_type": "stream",
     "text": [
      "+-----+-----+-----+-----+\n",
      "|col_1|col_2|col_3|col_4|\n",
      "+-----+-----+-----+-----+\n",
      "|    1|    2|    3|a b c|\n",
      "|    4|    5|    6|d e f|\n",
      "|    7|    8|    9|g h i|\n",
      "+-----+-----+-----+-----+\n",
      "\n"
     ]
    }
   ],
   "source": [
    "df_rdd = spark.sparkContext\\\n",
    "            .parallelize([(1, 2, 3, 'a b c'),\n",
    "                            (4, 5, 6, 'd e f'),\n",
    "                            (7, 8, 9, 'g h i')])\\\n",
    "            .toDF(['col_1', 'col_2', 'col_3', 'col_4'])\n",
    "\n",
    "df_rdd.show()"
   ]
  },
  {
   "cell_type": "markdown",
   "id": "4c8b8a94-4c94-4582-bbf2-6d0f86fab0fe",
   "metadata": {},
   "source": [
    "In Spark UI will show what jobs are currently run by PySpark\n",
    "\n",
    "<center>\n",
    "    <img src=\"https://sekolahdata-assets.s3.ap-southeast-1.amazonaws.com/notebook-images/mde-data-ingestion-spark/spark_ui_run.png\">\n",
    "</center>"
   ]
  },
  {
   "cell_type": "markdown",
   "id": "2b53a50e-0e84-44bb-8095-8584fa2a3cfc",
   "metadata": {},
   "source": [
    "# <font color='blue'>Pandas vs PySpark\n",
    "---"
   ]
  },
  {
   "cell_type": "markdown",
   "id": "28a27fcb-ce9a-4160-867c-89465143911b",
   "metadata": {},
   "source": [
    "- In the previous section, we already learned that PySpark is similar to Pandas \n",
    "- Especially for data processing, we can:\n",
    "    - Read Data\n",
    "    - Select Data\n",
    "    - Filter Data\n",
    "    - Transform Data\n",
    "    - etc\n",
    "- We're going to learn about how to do it using PySpark in this course\n",
    "- But what's the difference between them?\n",
    "- The main difference between them is that PySpark will split the task!\n",
    "- It will affect in speed time when reading data\n",
    "- In this section, we're going to demonstrate it to see the speed difference\n",
    "- You will see the difference if using data that have many records"
   ]
  },
  {
   "cell_type": "markdown",
   "id": "88583ebc-0eff-4135-9981-63b07d01992f",
   "metadata": {},
   "source": [
    "---\n",
    "- We will try to read data that have more than 5 million rows\n",
    "- Say we have transaction data about Flights data, you can access the data in here [dataset](https://drive.google.com/file/d/1GggQUGzWFeLXwITGKN0s_NNmkep9V-WQ/view?usp=drive_link)\n",
    "- We will compare it with Pandas and PySpark"
   ]
  },
  {
   "cell_type": "markdown",
   "id": "7e4af7d7-9f05-4754-97a7-79c6699b5021",
   "metadata": {},
   "source": [
    "**Pandas**\n",
    "---"
   ]
  },
  {
   "cell_type": "code",
   "execution_count": 10,
   "id": "eacb956a-6d4a-494e-86e5-23d6ec1296e8",
   "metadata": {},
   "outputs": [],
   "source": [
    "import pandas as pd\n",
    "import time"
   ]
  },
  {
   "cell_type": "code",
   "execution_count": 23,
   "id": "002a015e-a016-4704-8acf-26349c90fc6a",
   "metadata": {},
   "outputs": [],
   "source": [
    "DATA_PATH = \"../data/\""
   ]
  },
  {
   "cell_type": "code",
   "execution_count": 24,
   "id": "f3fa421b-1b28-4c75-9d48-3d626aeaf638",
   "metadata": {},
   "outputs": [],
   "source": [
    "# we're going to compare the speed \n",
    "\n",
    "def read_big_table_pandas(filename: str):\n",
    "    start_time = time.time()\n",
    "    \n",
    "    df = pd.read_csv(DATA_PATH + filename)\n",
    "    \n",
    "    end_time = time.time()\n",
    "    \n",
    "    elapsed_time = end_time - start_time\n",
    "    \n",
    "    return elapsed_time, df"
   ]
  },
  {
   "cell_type": "code",
   "execution_count": 25,
   "id": "0f960852-846f-4c2f-bc74-580ffff88e45",
   "metadata": {},
   "outputs": [
    {
     "name": "stdout",
     "output_type": "stream",
     "text": [
      "Time to read CSV: 0.04840540885925293 seconds\n"
     ]
    }
   ],
   "source": [
    "elapsed_time, df_pandas = read_big_table_pandas(filename = \"bank_churners.csv\")\n",
    "print(f\"Time to read CSV: {elapsed_time} seconds\")"
   ]
  },
  {
   "cell_type": "code",
   "execution_count": 26,
   "id": "eba2c4bc-f7a5-4b68-ab2d-72eb244645bb",
   "metadata": {},
   "outputs": [
    {
     "data": {
      "text/html": [
       "<div>\n",
       "<style scoped>\n",
       "    .dataframe tbody tr th:only-of-type {\n",
       "        vertical-align: middle;\n",
       "    }\n",
       "\n",
       "    .dataframe tbody tr th {\n",
       "        vertical-align: top;\n",
       "    }\n",
       "\n",
       "    .dataframe thead th {\n",
       "        text-align: right;\n",
       "    }\n",
       "</style>\n",
       "<table border=\"1\" class=\"dataframe\">\n",
       "  <thead>\n",
       "    <tr style=\"text-align: right;\">\n",
       "      <th></th>\n",
       "      <th>Attrition_Flag</th>\n",
       "      <th>Customer_Age</th>\n",
       "      <th>Gender</th>\n",
       "      <th>Dependent_count</th>\n",
       "      <th>Education_Level</th>\n",
       "      <th>Marital_Status</th>\n",
       "      <th>Income_Category</th>\n",
       "      <th>Card_Category</th>\n",
       "      <th>Months_on_book</th>\n",
       "      <th>Total_Relationship_Count</th>\n",
       "      <th>Months_Inactive_12_mon</th>\n",
       "      <th>Contacts_Count_12_mon</th>\n",
       "      <th>Credit_Limit</th>\n",
       "      <th>Total_Revolving_Bal</th>\n",
       "      <th>Avg_Open_To_Buy</th>\n",
       "      <th>Total_Amt_Chng_Q4_Q1</th>\n",
       "      <th>Total_Trans_Amt</th>\n",
       "      <th>Total_Trans_Ct</th>\n",
       "      <th>Total_Ct_Chng_Q4_Q1</th>\n",
       "      <th>Avg_Utilization_Ratio</th>\n",
       "    </tr>\n",
       "  </thead>\n",
       "  <tbody>\n",
       "    <tr>\n",
       "      <th>0</th>\n",
       "      <td>Existing Customer</td>\n",
       "      <td>45</td>\n",
       "      <td>M</td>\n",
       "      <td>3</td>\n",
       "      <td>High School</td>\n",
       "      <td>Married</td>\n",
       "      <td>$60K - $80K</td>\n",
       "      <td>Blue</td>\n",
       "      <td>39</td>\n",
       "      <td>5</td>\n",
       "      <td>1</td>\n",
       "      <td>3</td>\n",
       "      <td>12691.0</td>\n",
       "      <td>777</td>\n",
       "      <td>11914.0</td>\n",
       "      <td>1.335</td>\n",
       "      <td>1144</td>\n",
       "      <td>42</td>\n",
       "      <td>1.625</td>\n",
       "      <td>0.061</td>\n",
       "    </tr>\n",
       "    <tr>\n",
       "      <th>1</th>\n",
       "      <td>Existing Customer</td>\n",
       "      <td>49</td>\n",
       "      <td>F</td>\n",
       "      <td>5</td>\n",
       "      <td>Graduate</td>\n",
       "      <td>Single</td>\n",
       "      <td>Less than $40K</td>\n",
       "      <td>Blue</td>\n",
       "      <td>44</td>\n",
       "      <td>6</td>\n",
       "      <td>1</td>\n",
       "      <td>2</td>\n",
       "      <td>8256.0</td>\n",
       "      <td>864</td>\n",
       "      <td>7392.0</td>\n",
       "      <td>1.541</td>\n",
       "      <td>1291</td>\n",
       "      <td>33</td>\n",
       "      <td>3.714</td>\n",
       "      <td>0.105</td>\n",
       "    </tr>\n",
       "    <tr>\n",
       "      <th>2</th>\n",
       "      <td>Existing Customer</td>\n",
       "      <td>51</td>\n",
       "      <td>M</td>\n",
       "      <td>3</td>\n",
       "      <td>Graduate</td>\n",
       "      <td>Married</td>\n",
       "      <td>$80K - $120K</td>\n",
       "      <td>Blue</td>\n",
       "      <td>36</td>\n",
       "      <td>4</td>\n",
       "      <td>1</td>\n",
       "      <td>0</td>\n",
       "      <td>3418.0</td>\n",
       "      <td>0</td>\n",
       "      <td>3418.0</td>\n",
       "      <td>2.594</td>\n",
       "      <td>1887</td>\n",
       "      <td>20</td>\n",
       "      <td>2.333</td>\n",
       "      <td>0.000</td>\n",
       "    </tr>\n",
       "    <tr>\n",
       "      <th>3</th>\n",
       "      <td>Existing Customer</td>\n",
       "      <td>40</td>\n",
       "      <td>F</td>\n",
       "      <td>4</td>\n",
       "      <td>High School</td>\n",
       "      <td>Unknown</td>\n",
       "      <td>Less than $40K</td>\n",
       "      <td>Blue</td>\n",
       "      <td>34</td>\n",
       "      <td>3</td>\n",
       "      <td>4</td>\n",
       "      <td>1</td>\n",
       "      <td>3313.0</td>\n",
       "      <td>2517</td>\n",
       "      <td>796.0</td>\n",
       "      <td>1.405</td>\n",
       "      <td>1171</td>\n",
       "      <td>20</td>\n",
       "      <td>2.333</td>\n",
       "      <td>0.760</td>\n",
       "    </tr>\n",
       "    <tr>\n",
       "      <th>4</th>\n",
       "      <td>Existing Customer</td>\n",
       "      <td>40</td>\n",
       "      <td>M</td>\n",
       "      <td>3</td>\n",
       "      <td>Uneducated</td>\n",
       "      <td>Married</td>\n",
       "      <td>$60K - $80K</td>\n",
       "      <td>Blue</td>\n",
       "      <td>21</td>\n",
       "      <td>5</td>\n",
       "      <td>1</td>\n",
       "      <td>0</td>\n",
       "      <td>4716.0</td>\n",
       "      <td>0</td>\n",
       "      <td>4716.0</td>\n",
       "      <td>2.175</td>\n",
       "      <td>816</td>\n",
       "      <td>28</td>\n",
       "      <td>2.500</td>\n",
       "      <td>0.000</td>\n",
       "    </tr>\n",
       "  </tbody>\n",
       "</table>\n",
       "</div>"
      ],
      "text/plain": [
       "      Attrition_Flag  Customer_Age Gender  Dependent_count Education_Level  \\\n",
       "0  Existing Customer            45      M                3     High School   \n",
       "1  Existing Customer            49      F                5        Graduate   \n",
       "2  Existing Customer            51      M                3        Graduate   \n",
       "3  Existing Customer            40      F                4     High School   \n",
       "4  Existing Customer            40      M                3      Uneducated   \n",
       "\n",
       "  Marital_Status Income_Category Card_Category  Months_on_book  \\\n",
       "0        Married     $60K - $80K          Blue              39   \n",
       "1         Single  Less than $40K          Blue              44   \n",
       "2        Married    $80K - $120K          Blue              36   \n",
       "3        Unknown  Less than $40K          Blue              34   \n",
       "4        Married     $60K - $80K          Blue              21   \n",
       "\n",
       "   Total_Relationship_Count  Months_Inactive_12_mon  Contacts_Count_12_mon  \\\n",
       "0                         5                       1                      3   \n",
       "1                         6                       1                      2   \n",
       "2                         4                       1                      0   \n",
       "3                         3                       4                      1   \n",
       "4                         5                       1                      0   \n",
       "\n",
       "   Credit_Limit  Total_Revolving_Bal  Avg_Open_To_Buy  Total_Amt_Chng_Q4_Q1  \\\n",
       "0       12691.0                  777          11914.0                 1.335   \n",
       "1        8256.0                  864           7392.0                 1.541   \n",
       "2        3418.0                    0           3418.0                 2.594   \n",
       "3        3313.0                 2517            796.0                 1.405   \n",
       "4        4716.0                    0           4716.0                 2.175   \n",
       "\n",
       "   Total_Trans_Amt  Total_Trans_Ct  Total_Ct_Chng_Q4_Q1  Avg_Utilization_Ratio  \n",
       "0             1144              42                1.625                  0.061  \n",
       "1             1291              33                3.714                  0.105  \n",
       "2             1887              20                2.333                  0.000  \n",
       "3             1171              20                2.333                  0.760  \n",
       "4              816              28                2.500                  0.000  "
      ]
     },
     "execution_count": 26,
     "metadata": {},
     "output_type": "execute_result"
    }
   ],
   "source": [
    "df_pandas.head()"
   ]
  },
  {
   "cell_type": "markdown",
   "id": "75670484-0187-4b52-bfaf-fdd28803301b",
   "metadata": {},
   "source": [
    "**PySpark**\n",
    "---"
   ]
  },
  {
   "cell_type": "code",
   "execution_count": 27,
   "id": "1d09594a-3819-46d3-bcb3-7e30a1e14717",
   "metadata": {},
   "outputs": [],
   "source": [
    "def read_big_table_pyspark(filename: str):\n",
    "    start_time = time.time()\n",
    "    \n",
    "    df = spark \\\n",
    "        .read \\\n",
    "        .option(\"header\", \"true\")\\\n",
    "        .csv(DATA_PATH + filename)\n",
    "    \n",
    "    end_time = time.time()\n",
    "    \n",
    "    elapsed_time = end_time - start_time\n",
    "    \n",
    "    return elapsed_time, df"
   ]
  },
  {
   "cell_type": "code",
   "execution_count": 28,
   "id": "1f08d1f5-86d5-415c-8834-660a95f31ca5",
   "metadata": {},
   "outputs": [
    {
     "name": "stdout",
     "output_type": "stream",
     "text": [
      "Time to read CSV: 0.3867511749267578 seconds\n"
     ]
    }
   ],
   "source": [
    "elapsed_time, df_pyspark = read_big_table_pyspark(filename = \"bank_churners.csv\")\n",
    "print(f\"Time to read CSV: {elapsed_time} seconds\")"
   ]
  },
  {
   "cell_type": "code",
   "execution_count": 29,
   "id": "158fff66-b92d-4022-839b-7a0b30e915c3",
   "metadata": {},
   "outputs": [
    {
     "name": "stdout",
     "output_type": "stream",
     "text": [
      "+-----------------+------------+------+---------------+---------------+--------------+---------------+-------------+--------------+------------------------+----------------------+---------------------+------------+-------------------+---------------+--------------------+---------------+--------------+-------------------+---------------------+\n",
      "|   Attrition_Flag|Customer_Age|Gender|Dependent_count|Education_Level|Marital_Status|Income_Category|Card_Category|Months_on_book|Total_Relationship_Count|Months_Inactive_12_mon|Contacts_Count_12_mon|Credit_Limit|Total_Revolving_Bal|Avg_Open_To_Buy|Total_Amt_Chng_Q4_Q1|Total_Trans_Amt|Total_Trans_Ct|Total_Ct_Chng_Q4_Q1|Avg_Utilization_Ratio|\n",
      "+-----------------+------------+------+---------------+---------------+--------------+---------------+-------------+--------------+------------------------+----------------------+---------------------+------------+-------------------+---------------+--------------------+---------------+--------------+-------------------+---------------------+\n",
      "|Existing Customer|          45|     M|              3|    High School|       Married|    $60K - $80K|         Blue|            39|                       5|                     1|                    3|       12691|                777|          11914|               1.335|           1144|            42|              1.625|                0.061|\n",
      "|Existing Customer|          49|     F|              5|       Graduate|        Single| Less than $40K|         Blue|            44|                       6|                     1|                    2|        8256|                864|           7392|               1.541|           1291|            33|              3.714|                0.105|\n",
      "|Existing Customer|          51|     M|              3|       Graduate|       Married|   $80K - $120K|         Blue|            36|                       4|                     1|                    0|        3418|                  0|           3418|               2.594|           1887|            20|              2.333|                    0|\n",
      "|Existing Customer|          40|     F|              4|    High School|       Unknown| Less than $40K|         Blue|            34|                       3|                     4|                    1|        3313|               2517|            796|               1.405|           1171|            20|              2.333|                 0.76|\n",
      "|Existing Customer|          40|     M|              3|     Uneducated|       Married|    $60K - $80K|         Blue|            21|                       5|                     1|                    0|        4716|                  0|           4716|               2.175|            816|            28|                2.5|                    0|\n",
      "+-----------------+------------+------+---------------+---------------+--------------+---------------+-------------+--------------+------------------------+----------------------+---------------------+------------+-------------------+---------------+--------------------+---------------+--------------+-------------------+---------------------+\n",
      "only showing top 5 rows\n",
      "\n"
     ]
    }
   ],
   "source": [
    "df_pyspark.show(5)"
   ]
  },
  {
   "cell_type": "markdown",
   "id": "05f42f65-7cc2-4858-8d9c-c73eb0791312",
   "metadata": {},
   "source": [
    "# <font color='blue'>Read Data using PySpark\n",
    "---"
   ]
  },
  {
   "cell_type": "markdown",
   "id": "6a0ca954-f0bc-4c2c-9504-590b4ce91cea",
   "metadata": {},
   "source": [
    "- Just like in Pandas, when using PySpark we can read data from various formats like:\n",
    "    - File\n",
    "    - Database\n",
    "    - JSON\n",
    "    - API\n",
    "    - etc\n",
    "- For more detailed what kind of format data that PySpark can read, you can check in this [documentation](https://spark.apache.org/docs/latest/api/python/reference/pyspark.sql/io.html)\n",
    "- PySpark also can treat the data into DataFrame"
   ]
  },
  {
   "cell_type": "markdown",
   "id": "9a36331f-3c4c-4f92-9ee7-35309d3d33e2",
   "metadata": {},
   "source": [
    "---\n",
    "In this section, we're going to learn how to read data from csv file and Postgres database "
   ]
  },
  {
   "cell_type": "markdown",
   "id": "eefb7876-c43b-417b-b5f3-db8e29b0149d",
   "metadata": {},
   "source": [
    "**Read csv file**\n",
    "---"
   ]
  },
  {
   "cell_type": "markdown",
   "id": "42e025a2-7763-4a74-99e5-ea002c60c36c",
   "metadata": {},
   "source": [
    "- Say, we're using Flights Transactional Data\n",
    "- The file in directory `data/bank_churners.csv`\n",
    "- To read data using PySpark, first we can use `SparkSession` that we've already created\n",
    "- So, for the next of this course we will use the variable `spark`\n",
    "- The snippet code will be like this\n",
    "\n",
    "```python\n",
    "df = spark.read.option(\"header\", \"true\").FORMAT_DATA(...) \n",
    "```\n",
    "\n",
    "- In `FORMAT_DATA`we can adjust with the format data that we have\n",
    "- So, in this case if we're going to read the `csv` file the `FORMAT_DATA` will be `csv`\n",
    "- Then, inside `csv` we can put the filename of the data\n",
    "\n",
    "```python\n",
    "df = spark.read.csv(filename)\n",
    "```"
   ]
  },
  {
   "cell_type": "code",
   "execution_count": 7,
   "id": "e9b73ce7-8de6-4146-8f80-73f9c4675dbc",
   "metadata": {},
   "outputs": [],
   "source": [
    "df = spark.read.option(\"header\", \"true\").csv(\"../data/bank_churners.csv\")"
   ]
  },
  {
   "cell_type": "code",
   "execution_count": 8,
   "id": "bcc1f90e-6d7b-4882-afe6-75cffc8092df",
   "metadata": {},
   "outputs": [
    {
     "name": "stdout",
     "output_type": "stream",
     "text": [
      "+-----------------+------------+------+---------------+---------------+--------------+---------------+-------------+--------------+------------------------+----------------------+---------------------+------------+-------------------+---------------+--------------------+---------------+--------------+-------------------+---------------------+\n",
      "|   Attrition_Flag|Customer_Age|Gender|Dependent_count|Education_Level|Marital_Status|Income_Category|Card_Category|Months_on_book|Total_Relationship_Count|Months_Inactive_12_mon|Contacts_Count_12_mon|Credit_Limit|Total_Revolving_Bal|Avg_Open_To_Buy|Total_Amt_Chng_Q4_Q1|Total_Trans_Amt|Total_Trans_Ct|Total_Ct_Chng_Q4_Q1|Avg_Utilization_Ratio|\n",
      "+-----------------+------------+------+---------------+---------------+--------------+---------------+-------------+--------------+------------------------+----------------------+---------------------+------------+-------------------+---------------+--------------------+---------------+--------------+-------------------+---------------------+\n",
      "|Existing Customer|          45|     M|              3|    High School|       Married|    $60K - $80K|         Blue|            39|                       5|                     1|                    3|       12691|                777|          11914|               1.335|           1144|            42|              1.625|                0.061|\n",
      "|Existing Customer|          49|     F|              5|       Graduate|        Single| Less than $40K|         Blue|            44|                       6|                     1|                    2|        8256|                864|           7392|               1.541|           1291|            33|              3.714|                0.105|\n",
      "|Existing Customer|          51|     M|              3|       Graduate|       Married|   $80K - $120K|         Blue|            36|                       4|                     1|                    0|        3418|                  0|           3418|               2.594|           1887|            20|              2.333|                    0|\n",
      "|Existing Customer|          40|     F|              4|    High School|       Unknown| Less than $40K|         Blue|            34|                       3|                     4|                    1|        3313|               2517|            796|               1.405|           1171|            20|              2.333|                 0.76|\n",
      "|Existing Customer|          40|     M|              3|     Uneducated|       Married|    $60K - $80K|         Blue|            21|                       5|                     1|                    0|        4716|                  0|           4716|               2.175|            816|            28|                2.5|                    0|\n",
      "|Existing Customer|          44|     M|              2|       Graduate|       Married|    $40K - $60K|         Blue|            36|                       3|                     1|                    2|        4010|               1247|           2763|               1.376|           1088|            24|              0.846|                0.311|\n",
      "|Existing Customer|          32|     M|              0|    High School|       Unknown|    $60K - $80K|       Silver|            27|                       2|                     2|                    2|       29081|               1396|          27685|               2.204|           1538|            36|              0.714|                0.048|\n",
      "|Existing Customer|          37|     M|              3|     Uneducated|        Single|    $60K - $80K|         Blue|            36|                       5|                     2|                    0|       22352|               2517|          19835|               3.355|           1350|            24|              1.182|                0.113|\n",
      "|Existing Customer|          48|     M|              2|           NULL|        Single|   $80K - $120K|         Blue|            36|                       6|                     3|                    3|       11656|               1677|           9979|               1.524|           1441|            32|              0.882|                0.144|\n",
      "|Existing Customer|          65|     M|              1|        Unknown|       Married|    $40K - $60K|         Blue|            54|                       6|                     2|                    3|        9095|               1587|           7508|               1.433|           1314|            26|              1.364|                0.174|\n",
      "|Existing Customer|          56|     M|              1|        College|        Single|   $80K - $120K|         Blue|            36|                       3|                     6|                    0|       11751|                  0|          11751|               3.397|           1539|            17|               3.25|                    0|\n",
      "|Existing Customer|          35|     M|              3|       Graduate|       Unknown|    $60K - $80K|         Blue|            30|                       5|                     1|                    3|        8547|               1666|           6881|               1.163|           1311|            33|                  2|                0.195|\n",
      "|Existing Customer|          57|     F|              2|       Graduate|       Married| Less than $40K|         Blue|            48|                       5|                     2|                    2|        2436|                680|           1756|                1.19|           1570|            29|              0.611|                0.279|\n",
      "|Existing Customer|          44|     M|              4|        Unknown|       Unknown|   $80K - $120K|         Blue|            37|                       5|                     1|                    2|        4234|                972|           3262|               1.707|           1348|            27|                1.7|                 0.23|\n",
      "|Existing Customer|          48|     M|              4|  Post-Graduate|        Single|   $80K - $120K|         Blue|            36|                       6|                     2|                    3|       30367|               2362|          28005|               1.708|           1671|            27|              0.929|                0.078|\n",
      "|Existing Customer|          41|     M|              3|        Unknown|       Married|   $80K - $120K|         Blue|            34|                       4|                     4|                    1|       13535|               1291|          12244|               0.653|           1028|            21|              1.625|                0.095|\n",
      "|Existing Customer|          61|     M|              1|    High School|       Married|    $40K - $60K|         Blue|            56|                       2|                     2|                    3|        3193|               2517|            676|               1.831|           1336|            30|              1.143|                0.788|\n",
      "|Existing Customer|          45|     F|              2|       Graduate|       Married|        Unknown|         Blue|            37|                       6|                     1|                    2|       14470|               1157|          13313|               0.966|           1207|            21|              0.909|                 0.08|\n",
      "|Existing Customer|          47|     M|              1|      Doctorate|      Divorced|    $60K - $80K|         Blue|            42|                       5|                     2|                    0|       20979|               1800|          19179|               0.906|           1178|            27|              0.929|                0.086|\n",
      "|Attrited Customer|          62|     F|              0|       Graduate|       Married| Less than $40K|         Blue|            49|                       2|                     3|                    3|      1438.3|                  0|         1438.3|               1.047|            692|            16|                0.6|                    0|\n",
      "+-----------------+------------+------+---------------+---------------+--------------+---------------+-------------+--------------+------------------------+----------------------+---------------------+------------+-------------------+---------------+--------------------+---------------+--------------+-------------------+---------------------+\n",
      "only showing top 20 rows\n",
      "\n"
     ]
    }
   ],
   "source": [
    "df.show()"
   ]
  },
  {
   "cell_type": "markdown",
   "id": "d9edff07-27f9-46bb-941c-199967b6e3ce",
   "metadata": {},
   "source": [
    "**Read Database data**\n",
    "---"
   ]
  },
  {
   "cell_type": "markdown",
   "id": "f051eaa0-2812-47ea-9f3d-7818dfe8e6ef",
   "metadata": {},
   "source": [
    "- To read data from the database, first we must own the database driver\n",
    "- Because PySpark is run in Scala and Java, so our database driver must be in `jar` files\n",
    "- If you're using PySpark Docker from Pacmann's repo, we've already included `jar` files in that repo\n",
    "- Next step, we can copy the `jar` files into our docker container by running this command in the terminal\n",
    "  \n",
    "  `docker cp driver/postgresql-42.6.0.jar pyspark_container:/usr/local/spark-3.5.0-bin-hadoop3/jars/postgresql-42.6.0.jar`\n",
    "\n",
    "- After we set up the database driver, we can start reading the database by using PySpark"
   ]
  },
  {
   "cell_type": "markdown",
   "id": "e833727a-52db-4319-98d6-28a8eb133cbe",
   "metadata": {},
   "source": [
    "- Say, we're already have a database from our docker compose and this is our config for database and we want to read `payments` table\n",
    "\n",
    "```python\n",
    "    DB_URL = jdbc:postgresql://pachotel_db_container:5432/pachotel\n",
    "    DB_TABLE = payment\n",
    "    DB_USER = postgres\n",
    "    DB_PASS = cobapassword\n",
    "```"
   ]
  },
  {
   "cell_type": "code",
   "execution_count": 2,
   "id": "6cc3a344-092f-433b-8724-9f40a19c94a5",
   "metadata": {},
   "outputs": [],
   "source": [
    "# set variable for database\n",
    "\n",
    "DB_URL = \"jdbc:postgresql://pachotel_db_container:5432/pachotel\"\n",
    "DB_TABLE = \"payment\" \n",
    "DB_USER = \"postgres\"\n",
    "DB_PASS = \"cobapassword\""
   ]
  },
  {
   "cell_type": "code",
   "execution_count": 3,
   "id": "c3d2330b-9f70-43fb-9a29-4a101a9c18a3",
   "metadata": {},
   "outputs": [],
   "source": [
    "# set config\n",
    "jdbc_url = DB_URL\n",
    "table_name = DB_TABLE\n",
    "connection_properties = {\n",
    "    \"user\": DB_USER,\n",
    "    \"password\": DB_PASS,\n",
    "    \"driver\": \"org.postgresql.Driver\" # set driver postgres\n",
    "}"
   ]
  },
  {
   "cell_type": "markdown",
   "id": "573b1860-c53d-41b4-a2d6-c0646e916362",
   "metadata": {},
   "source": [
    "- To read the database using PySpark, we can use `jdbc`\n",
    "- Then, we set parameters for:\n",
    "    - `url`: URL for database\n",
    "    - `table`: table name that we want to access\n",
    "    - `properties`: database config"
   ]
  },
  {
   "cell_type": "code",
   "execution_count": 8,
   "id": "9acdd7cf-821c-453a-87f4-d189b65ed0a1",
   "metadata": {},
   "outputs": [
    {
     "name": "stdout",
     "output_type": "stream",
     "text": [
      "+----------+--------------+--------+--------------+--------------+--------------------+--------------------+--------------------+\n",
      "|payment_id|reservation_id|provider|account_number|payment_status|        payment_date|         expire_date|          created_at|\n",
      "+----------+--------------+--------+--------------+--------------+--------------------+--------------------+--------------------+\n",
      "|         1|             1|     Ovo|     038137149|       Success|2020-10-20 17:07:...|2020-10-28 18:10:...|2024-02-09 13:59:...|\n",
      "|         2|             2|     BCA|     042103729|       Success|2015-02-28 16:44:...|2015-03-08 05:27:...|2024-02-09 13:59:...|\n",
      "|         3|             3| Permata|     058689635|       Success|2022-04-03 13:27:...|2022-04-06 14:20:...|2024-02-09 13:59:...|\n",
      "|         4|             4|     BNI|     107161965|       Success|2019-10-04 08:39:...|2019-10-08 02:01:...|2024-02-09 13:59:...|\n",
      "|         5|             5|     BSI|     014334131|        Failed|                NULL|2020-06-14 12:02:...|2024-02-09 13:59:...|\n",
      "|         6|             6|     Ovo|     043583173|       Waiting|                NULL|2020-03-25 03:35:...|2024-02-09 13:59:...|\n",
      "|         7|             7|     BSI|     021381685|       Waiting|                NULL|2017-10-12 03:15:...|2024-02-09 13:59:...|\n",
      "|         8|             8| Permata|     119636925|       Success|2019-07-06 00:27:...|2019-07-16 05:38:...|2024-02-09 13:59:...|\n",
      "|         9|             9| Mandiri|     128447299|       Success|2020-10-22 21:58:...|2020-11-07 21:05:...|2024-02-09 13:59:...|\n",
      "|        10|            10|     BCA|     021032743|        Failed|                NULL|2021-03-23 15:28:...|2024-02-09 13:59:...|\n",
      "|        11|            11|     BCA|     016173439|       Success|2015-12-30 19:38:...|2016-01-04 23:05:...|2024-02-09 13:59:...|\n",
      "|        12|            12| Mandiri|     104632264|       Success|2016-04-20 11:00:...|2016-04-29 02:21:...|2024-02-09 13:59:...|\n",
      "|        13|            13|     BSI|     043534397|        Failed|                NULL|2021-03-09 03:35:...|2024-02-09 13:59:...|\n",
      "|        14|            14|     BNI|     049889648|       Success|2015-08-30 02:50:...|2015-09-06 15:20:...|2024-02-09 13:59:...|\n",
      "|        15|            15|     Ovo|     018430413|       Success|2015-08-25 14:16:...|2015-09-11 10:50:...|2024-02-09 13:59:...|\n",
      "|        16|            16|     BSI|     050658732|       Success|2015-06-20 02:46:...|2015-07-14 03:01:...|2024-02-09 13:59:...|\n",
      "|        17|            17| Permata|     127295361|       Waiting|                NULL|2017-07-04 16:06:...|2024-02-09 13:59:...|\n",
      "|        18|            18|     Ovo|     017623865|        Failed|                NULL|2022-02-07 12:28:...|2024-02-09 13:59:...|\n",
      "|        19|            19| Permata|     045720659|       Success|2020-08-13 21:31:...|2020-08-18 00:19:...|2024-02-09 13:59:...|\n",
      "|        20|            20|     BRI|     024522616|       Success|2019-04-29 02:30:...|2019-05-04 07:50:...|2024-02-09 13:59:...|\n",
      "+----------+--------------+--------+--------------+--------------+--------------------+--------------------+--------------------+\n",
      "only showing top 20 rows\n",
      "\n"
     ]
    }
   ],
   "source": [
    "df = spark.read.jdbc(url=jdbc_url, table=table_name, properties=connection_properties)\n",
    "\n",
    "# Display the DataFrame\n",
    "df.show()"
   ]
  },
  {
   "cell_type": "markdown",
   "id": "8d9bd27d-c50f-4ec9-9198-1dcc2b7278c6",
   "metadata": {},
   "source": [
    "- We've already select and filtered data based on the requirements given to us\n",
    "- The next step is to **store the results** or export the data\n",
    "- By using PySpark, we can save the output into a file or database\n",
    "- When export the data we can use method `write` then followed by format data we want"
   ]
  },
  {
   "cell_type": "markdown",
   "id": "4f78ebee-0851-4260-8cc2-89b33ecf74ce",
   "metadata": {},
   "source": [
    "**Save to File**\n",
    "---"
   ]
  },
  {
   "cell_type": "markdown",
   "id": "e8ed14b3-a60d-4ad9-a4b3-a3547db38ecd",
   "metadata": {},
   "source": [
    "- In this case, we will try to save the output into CSV files\n",
    "- When exporting the file into CSV by using PySpark, we can choose the output format:\n",
    "    - can be only one file: `output.csv`\n",
    "    - split the output: `output_1.csv`, `output_2.csv`, `output_n.csv`"
   ]
  },
  {
   "cell_type": "markdown",
   "id": "6c9da037-643c-476f-92ac-e12182b31c76",
   "metadata": {},
   "source": [
    "---\n",
    "- Given the flight dataset, we're going to selecting and filtering the data\n",
    "- Selected columns:\n",
    "    - `ACCOUNT_NUMBER`\n",
    "    - `PAYMENT_STATUS`\n",
    "    - `PAYMENT_DATE`\n",
    "    - `EXPIRE_DATE`\n",
    "    - `PROVIDER`"
   ]
  },
  {
   "cell_type": "code",
   "execution_count": 30,
   "id": "a2b07d74-8eca-4cb5-a0c0-96e082ef5c6b",
   "metadata": {},
   "outputs": [],
   "source": [
    "SELECTED_COLS = [\"ACCOUNT_NUMBER\", \"PAYMENT_STATUS\", \"PAYMENT_DATE\",\"EXPIRE_DATE\",\"PROVIDER\"]"
   ]
  },
  {
   "cell_type": "code",
   "execution_count": 31,
   "id": "30b89e43-cb9d-4077-aef9-9fc371562aba",
   "metadata": {},
   "outputs": [
    {
     "name": "stdout",
     "output_type": "stream",
     "text": [
      "+--------------+--------------+--------------------+--------------------+--------+\n",
      "|ACCOUNT_NUMBER|PAYMENT_STATUS|        PAYMENT_DATE|         EXPIRE_DATE|PROVIDER|\n",
      "+--------------+--------------+--------------------+--------------------+--------+\n",
      "|     038137149|       Success|2020-10-20 17:07:...|2020-10-28 18:10:...|     Ovo|\n",
      "|     042103729|       Success|2015-02-28 16:44:...|2015-03-08 05:27:...|     BCA|\n",
      "|     058689635|       Success|2022-04-03 13:27:...|2022-04-06 14:20:...| Permata|\n",
      "|     107161965|       Success|2019-10-04 08:39:...|2019-10-08 02:01:...|     BNI|\n",
      "|     014334131|        Failed|                NULL|2020-06-14 12:02:...|     BSI|\n",
      "|     043583173|       Waiting|                NULL|2020-03-25 03:35:...|     Ovo|\n",
      "|     021381685|       Waiting|                NULL|2017-10-12 03:15:...|     BSI|\n",
      "|     119636925|       Success|2019-07-06 00:27:...|2019-07-16 05:38:...| Permata|\n",
      "|     128447299|       Success|2020-10-22 21:58:...|2020-11-07 21:05:...| Mandiri|\n",
      "|     021032743|        Failed|                NULL|2021-03-23 15:28:...|     BCA|\n",
      "|     016173439|       Success|2015-12-30 19:38:...|2016-01-04 23:05:...|     BCA|\n",
      "|     104632264|       Success|2016-04-20 11:00:...|2016-04-29 02:21:...| Mandiri|\n",
      "|     043534397|        Failed|                NULL|2021-03-09 03:35:...|     BSI|\n",
      "|     049889648|       Success|2015-08-30 02:50:...|2015-09-06 15:20:...|     BNI|\n",
      "|     018430413|       Success|2015-08-25 14:16:...|2015-09-11 10:50:...|     Ovo|\n",
      "|     050658732|       Success|2015-06-20 02:46:...|2015-07-14 03:01:...|     BSI|\n",
      "|     127295361|       Waiting|                NULL|2017-07-04 16:06:...| Permata|\n",
      "|     017623865|        Failed|                NULL|2022-02-07 12:28:...|     Ovo|\n",
      "|     045720659|       Success|2020-08-13 21:31:...|2020-08-18 00:19:...| Permata|\n",
      "|     024522616|       Success|2019-04-29 02:30:...|2019-05-04 07:50:...|     BRI|\n",
      "+--------------+--------------+--------------------+--------------------+--------+\n",
      "only showing top 20 rows\n",
      "\n"
     ]
    }
   ],
   "source": [
    "new_df = df.select(SELECTED_COLS)\n",
    "\n",
    "new_df.show()"
   ]
  },
  {
   "cell_type": "markdown",
   "id": "44d9d88f-2da0-4bd4-95c7-3d82a1a89780",
   "metadata": {},
   "source": [
    "Next, we're going to filter the data when the `PROVIDER` is `BSI` and the status is `Waiting`"
   ]
  },
  {
   "cell_type": "code",
   "execution_count": 37,
   "id": "d2b60630-7405-45ae-ae64-76e46cf65b49",
   "metadata": {},
   "outputs": [
    {
     "name": "stdout",
     "output_type": "stream",
     "text": [
      "+--------------+--------------+------------+--------------------+--------+\n",
      "|ACCOUNT_NUMBER|PAYMENT_STATUS|PAYMENT_DATE|         EXPIRE_DATE|PROVIDER|\n",
      "+--------------+--------------+------------+--------------------+--------+\n",
      "|     043583173|       Waiting|        NULL|2020-03-25 03:35:...|     Ovo|\n",
      "|     021381685|       Waiting|        NULL|2017-10-12 03:15:...|     BSI|\n",
      "|     067955907|       Waiting|        NULL|2018-01-23 00:35:...|     Ovo|\n",
      "|     117651601|       Waiting|        NULL|2019-05-23 21:16:...|     BSI|\n",
      "|     117451542|       Waiting|        NULL|2016-10-09 18:40:...|     BSI|\n",
      "|     042230919|       Waiting|        NULL|2016-07-31 02:22:...|     BSI|\n",
      "|     071579340|       Waiting|        NULL|2018-05-28 17:52:...|     Ovo|\n",
      "|     041985553|       Waiting|        NULL|2015-08-12 03:03:...|     BSI|\n",
      "|     065955077|       Waiting|        NULL|2020-05-07 08:32:...|     Ovo|\n",
      "+--------------+--------------+------------+--------------------+--------+\n",
      "\n"
     ]
    }
   ],
   "source": [
    "filter_new_df = new_df.filter(\"PROVIDER in ('BSI','Ovo') and PAYMENT_STATUS = 'Waiting'\")\n",
    "filter_new_df.show()"
   ]
  },
  {
   "cell_type": "markdown",
   "id": "9da495d4-1fbc-4d94-b6f6-a7befdae9bca",
   "metadata": {},
   "source": [
    "To save it only one file, we can use this snippet code\n",
    "\n",
    "```python\n",
    "df.coalesce(numPartitions = 1).write.csv(filename)\n",
    "```"
   ]
  },
  {
   "cell_type": "markdown",
   "id": "dd6a7f9f-0e05-4651-8ea8-36250d7fa2de",
   "metadata": {},
   "source": [
    "---\n",
    "Say we want to save the output into directory `data/output/`"
   ]
  },
  {
   "cell_type": "code",
   "execution_count": 39,
   "id": "fd798f75-c32e-4180-a510-e588a26cf518",
   "metadata": {},
   "outputs": [],
   "source": [
    "new_df.coalesce(numPartitions = 1).write.csv(\"../data/output/filtered_data_single\", header = True)"
   ]
  },
  {
   "cell_type": "markdown",
   "id": "ef949658-ff1b-4d9c-b1cb-5dc40a0681a6",
   "metadata": {},
   "source": [
    "Then, if we want to save the output into partition files we can use without method `coalesce`"
   ]
  },
  {
   "cell_type": "code",
   "execution_count": 40,
   "id": "84babc69-737e-44f5-bd95-5355847947d1",
   "metadata": {},
   "outputs": [],
   "source": [
    "new_df.write.option(\"header\", True).csv(\"../data/output/filtered_data_partition\")"
   ]
  },
  {
   "cell_type": "markdown",
   "id": "7565a880-0cb4-4aa5-9d84-4e2daa444582",
   "metadata": {},
   "source": [
    "**Save to Database**\n",
    "---"
   ]
  },
  {
   "cell_type": "markdown",
   "id": "7cb5e154-2dfb-4d47-bc63-e37db95ea538",
   "metadata": {},
   "source": [
    "- To save to a database is just like when we read data from a database\n",
    "- We must config the connection first and use the `jdbc` method"
   ]
  },
  {
   "cell_type": "markdown",
   "id": "8e5197bd-c35f-4d8e-b733-cc2858350812",
   "metadata": {},
   "source": [
    "---\n",
    "- When load to the database, PySpark can generate the table automatically\n",
    "- But, you're also can build the table first and then load the data\n",
    "\n",
    "Schema Table\n",
    "\n",
    "```sqlrk;\n",
    "\n",
    "CREATE TABLE public.payment_pyspark (\n",
    "\t\"ACCOUNT_NUMBER\" text NULL,\n",
    "\t\"PAYMENT_STATUS\" varchar NULL,\n",
    "\t\"PAYMENT_DATE\" datetime NULL,\n",
    "\t\"EXPIRE_DATE\" datetime NULL,\n",
    "\t\"PROVIDER\" varchar NULL,\n",
    ");\n",
    "```"
   ]
  },
  {
   "cell_type": "code",
   "execution_count": 43,
   "id": "f8a7e786-ac38-4bb4-be4a-fe7272312d48",
   "metadata": {},
   "outputs": [],
   "source": [
    "# set variable for database\n",
    "DB_URL = \"jdbc:postgresql://pachotel_db_container:5432/pachotel\"\n",
    "DB_TABLE = \"payment\" \n",
    "DB_USER = \"postgres\"\n",
    "DB_PASS = \"cobapassword\""
   ]
  },
  {
   "cell_type": "code",
   "execution_count": 44,
   "id": "40e1d402-792f-40e6-a831-1220b4e356bf",
   "metadata": {},
   "outputs": [],
   "source": [
    "url = f\"jdbc:postgresql://pachotel_db_container:5432/pachotel\"\n",
    "properties = {\n",
    "    \"user\": DB_USER,\n",
    "    \"password\": DB_PASS\n",
    "}"
   ]
  },
  {
   "cell_type": "code",
   "execution_count": 46,
   "id": "0189b153-2577-4c28-b769-112a862a7bb7",
   "metadata": {},
   "outputs": [],
   "source": [
    "new_df.write.jdbc(url = url,\n",
    "                          table = \"payment_pyspark\",\n",
    "                          mode = \"overwrite\",\n",
    "                          properties = properties)"
   ]
  },
  {
   "cell_type": "markdown",
   "id": "20032859-46ed-44e5-9470-66380f54faee",
   "metadata": {},
   "source": [
    "# <font color='blue'>Select Data using PySpark\n",
    "---"
   ]
  },
  {
   "cell_type": "markdown",
   "id": "14487e31-7f95-4be1-97c2-1c479d6d0594",
   "metadata": {},
   "source": [
    "- To Select Data using PySpark it's like in Pandas\n",
    "- To access the data that we want, we can select the columns that we want\n",
    "- Say, we want to access the flight transactional data"
   ]
  },
  {
   "cell_type": "code",
   "execution_count": 49,
   "id": "81b3656f-47be-4eab-8301-1eebd7bf054a",
   "metadata": {},
   "outputs": [
    {
     "name": "stdout",
     "output_type": "stream",
     "text": [
      "+-----------------+------------+------+---------------+---------------+--------------+---------------+-------------+--------------+------------------------+----------------------+---------------------+------------+-------------------+---------------+--------------------+---------------+--------------+-------------------+---------------------+\n",
      "|   Attrition_Flag|Customer_Age|Gender|Dependent_count|Education_Level|Marital_Status|Income_Category|Card_Category|Months_on_book|Total_Relationship_Count|Months_Inactive_12_mon|Contacts_Count_12_mon|Credit_Limit|Total_Revolving_Bal|Avg_Open_To_Buy|Total_Amt_Chng_Q4_Q1|Total_Trans_Amt|Total_Trans_Ct|Total_Ct_Chng_Q4_Q1|Avg_Utilization_Ratio|\n",
      "+-----------------+------------+------+---------------+---------------+--------------+---------------+-------------+--------------+------------------------+----------------------+---------------------+------------+-------------------+---------------+--------------------+---------------+--------------+-------------------+---------------------+\n",
      "|Existing Customer|          45|     M|              3|    High School|       Married|    $60K - $80K|         Blue|            39|                       5|                     1|                    3|       12691|                777|          11914|               1.335|           1144|            42|              1.625|                0.061|\n",
      "|Existing Customer|          49|     F|              5|       Graduate|        Single| Less than $40K|         Blue|            44|                       6|                     1|                    2|        8256|                864|           7392|               1.541|           1291|            33|              3.714|                0.105|\n",
      "|Existing Customer|          51|     M|              3|       Graduate|       Married|   $80K - $120K|         Blue|            36|                       4|                     1|                    0|        3418|                  0|           3418|               2.594|           1887|            20|              2.333|                    0|\n",
      "|Existing Customer|          40|     F|              4|    High School|       Unknown| Less than $40K|         Blue|            34|                       3|                     4|                    1|        3313|               2517|            796|               1.405|           1171|            20|              2.333|                 0.76|\n",
      "|Existing Customer|          40|     M|              3|     Uneducated|       Married|    $60K - $80K|         Blue|            21|                       5|                     1|                    0|        4716|                  0|           4716|               2.175|            816|            28|                2.5|                    0|\n",
      "+-----------------+------------+------+---------------+---------------+--------------+---------------+-------------+--------------+------------------------+----------------------+---------------------+------------+-------------------+---------------+--------------------+---------------+--------------+-------------------+---------------------+\n",
      "only showing top 5 rows\n",
      "\n"
     ]
    }
   ],
   "source": [
    "df_churns = spark \\\n",
    "            .read \\\n",
    "            .option(\"header\", \"true\") \\\n",
    "            .csv(\"../data/bank_churners.csv\")\n",
    "\n",
    "df_churns.show(5)"
   ]
  },
  {
   "cell_type": "markdown",
   "id": "8505c452-f508-453d-9f17-9c5c5c840e10",
   "metadata": {},
   "source": [
    "- To select the columns, we can store them first in the Python list for easier use\n",
    "- Then, to select the data we can use syntax `select(col_1, col_2, col_n)"
   ]
  },
  {
   "cell_type": "code",
   "execution_count": 51,
   "id": "6b4947fe-08dd-47d9-8a88-88dbb8748bd0",
   "metadata": {},
   "outputs": [
    {
     "name": "stdout",
     "output_type": "stream",
     "text": [
      "+------------+------+---------------+---------------+--------------+---------------+\n",
      "|Customer_Age|Gender|Dependent_count|Education_Level|Marital_Status|Income_Category|\n",
      "+------------+------+---------------+---------------+--------------+---------------+\n",
      "|          45|     M|              3|    High School|       Married|    $60K - $80K|\n",
      "|          49|     F|              5|       Graduate|        Single| Less than $40K|\n",
      "|          51|     M|              3|       Graduate|       Married|   $80K - $120K|\n",
      "|          40|     F|              4|    High School|       Unknown| Less than $40K|\n",
      "|          40|     M|              3|     Uneducated|       Married|    $60K - $80K|\n",
      "|          44|     M|              2|       Graduate|       Married|    $40K - $60K|\n",
      "|          32|     M|              0|    High School|       Unknown|    $60K - $80K|\n",
      "|          37|     M|              3|     Uneducated|        Single|    $60K - $80K|\n",
      "|          48|     M|              2|           NULL|        Single|   $80K - $120K|\n",
      "|          65|     M|              1|        Unknown|       Married|    $40K - $60K|\n",
      "|          56|     M|              1|        College|        Single|   $80K - $120K|\n",
      "|          35|     M|              3|       Graduate|       Unknown|    $60K - $80K|\n",
      "|          57|     F|              2|       Graduate|       Married| Less than $40K|\n",
      "|          44|     M|              4|        Unknown|       Unknown|   $80K - $120K|\n",
      "|          48|     M|              4|  Post-Graduate|        Single|   $80K - $120K|\n",
      "|          41|     M|              3|        Unknown|       Married|   $80K - $120K|\n",
      "|          61|     M|              1|    High School|       Married|    $40K - $60K|\n",
      "|          45|     F|              2|       Graduate|       Married|        Unknown|\n",
      "|          47|     M|              1|      Doctorate|      Divorced|    $60K - $80K|\n",
      "|          62|     F|              0|       Graduate|       Married| Less than $40K|\n",
      "+------------+------+---------------+---------------+--------------+---------------+\n",
      "only showing top 20 rows\n",
      "\n"
     ]
    }
   ],
   "source": [
    "SELECTED_COLUMNS = [\"Customer_Age\",\"Gender\",\"Dependent_count\",\"Education_Level\",\"Marital_Status\",\"Income_Category\"]\n",
    "\n",
    "selected_df_churns = df_churns.select(SELECTED_COLUMNS)\n",
    "selected_df_churns.show()"
   ]
  },
  {
   "cell_type": "markdown",
   "id": "882b4d33-4d10-45aa-b504-e415607f819a",
   "metadata": {},
   "source": [
    "# <font color='blue'>Filter Data using PySpark\n",
    "---"
   ]
  },
  {
   "cell_type": "markdown",
   "id": "185ef2a6-0d43-43dc-af0e-7b22e9750478",
   "metadata": {},
   "source": [
    "- To filter data in PySpark we can use the function `.filter()`\n",
    "- Also, when filtering in PySpark we can access via column or SQL based\n",
    "- So, when we're doing filtering data we can use **comparison operators**\n",
    "\n",
    "<center>\n",
    "\n",
    "| **Comparison Operators** | **Description**           |\n",
    "|--------------------------|-------------------------|\n",
    "| <                        | Less than             |\n",
    "| >                        | More than              |\n",
    "| <=                       | Less than equal to  |\n",
    "| >=                       | More than equal to  |\n",
    "| ==                       | Equal to             |\n",
    "| !=                       | Not equal to       |\n",
    "\n",
    "</center>\n",
    "\n",
    "- When filtering data in PySpark we can do single or multiple filter\n",
    "- When do multiple filtering we can use **boolean logic** like **and (`&`)** **or (`|`)**"
   ]
  },
  {
   "cell_type": "markdown",
   "id": "bf31ac84-4c48-49be-a4c0-672feb35829d",
   "metadata": {},
   "source": [
    "**Single Filter**\n",
    "---"
   ]
  },
  {
   "cell_type": "markdown",
   "id": "7bf3eda1-9920-4f1c-9b9c-4a448a6e92d4",
   "metadata": {},
   "source": [
    "When filtering only one column we can use this snippet code\n",
    "\n",
    "```python\n",
    "df_filtered = df.filter(df[col_1] > value)\n",
    "```"
   ]
  },
  {
   "cell_type": "code",
   "execution_count": 54,
   "id": "0c3fa5ec-4048-4c35-9579-dc9e1df9d4a5",
   "metadata": {},
   "outputs": [
    {
     "name": "stdout",
     "output_type": "stream",
     "text": [
      "+-----------------+------------+------+---------------+---------------+--------------+---------------+-------------+--------------+------------------------+----------------------+---------------------+------------+-------------------+---------------+--------------------+---------------+--------------+-------------------+---------------------+\n",
      "|   Attrition_Flag|Customer_Age|Gender|Dependent_count|Education_Level|Marital_Status|Income_Category|Card_Category|Months_on_book|Total_Relationship_Count|Months_Inactive_12_mon|Contacts_Count_12_mon|Credit_Limit|Total_Revolving_Bal|Avg_Open_To_Buy|Total_Amt_Chng_Q4_Q1|Total_Trans_Amt|Total_Trans_Ct|Total_Ct_Chng_Q4_Q1|Avg_Utilization_Ratio|\n",
      "+-----------------+------------+------+---------------+---------------+--------------+---------------+-------------+--------------+------------------------+----------------------+---------------------+------------+-------------------+---------------+--------------------+---------------+--------------+-------------------+---------------------+\n",
      "|Existing Customer|          49|     F|              5|       Graduate|        Single| Less than $40K|         Blue|            44|                       6|                     1|                    2|        8256|                864|           7392|               1.541|           1291|            33|              3.714|                0.105|\n",
      "|Existing Customer|          40|     F|              4|    High School|       Unknown| Less than $40K|         Blue|            34|                       3|                     4|                    1|        3313|               2517|            796|               1.405|           1171|            20|              2.333|                 0.76|\n",
      "|Existing Customer|          57|     F|              2|       Graduate|       Married| Less than $40K|         Blue|            48|                       5|                     2|                    2|        2436|                680|           1756|                1.19|           1570|            29|              0.611|                0.279|\n",
      "|Existing Customer|          45|     F|              2|       Graduate|       Married|        Unknown|         Blue|            37|                       6|                     1|                    2|       14470|               1157|          13313|               0.966|           1207|            21|              0.909|                 0.08|\n",
      "|Attrited Customer|          62|     F|              0|       Graduate|       Married| Less than $40K|         Blue|            49|                       2|                     3|                    3|      1438.3|                  0|         1438.3|               1.047|            692|            16|                0.6|                    0|\n",
      "+-----------------+------------+------+---------------+---------------+--------------+---------------+-------------+--------------+------------------------+----------------------+---------------------+------------+-------------------+---------------+--------------------+---------------+--------------+-------------------+---------------------+\n",
      "only showing top 5 rows\n",
      "\n"
     ]
    }
   ],
   "source": [
    "df_filtered = df_churns.filter(df_churns['Gender'] =='F')\n",
    "df_filtered.show(5)"
   ]
  },
  {
   "cell_type": "markdown",
   "id": "e1c6426c-28a6-44e9-93b7-788eaa45db10",
   "metadata": {},
   "source": [
    "**Multiple Filter**\n",
    "---"
   ]
  },
  {
   "cell_type": "markdown",
   "id": "12529afa-5b56-468e-a463-478b25da385f",
   "metadata": {},
   "source": [
    "When do multiple filtering in PySpark, we can use **boolean logic**\n",
    "\n",
    "```python\n",
    "\n",
    "# using columns based\n",
    "filtered_df = df.filter((df[col_1] > value_1) & (df[col_2] == value_2))\n",
    "\n",
    "# using sql based\n",
    "filtered_df = df.filter(\"col_1 > value_1 AND col_2 = value_2\")\n",
    "```"
   ]
  },
  {
   "cell_type": "code",
   "execution_count": 55,
   "id": "220e3aca-724a-450c-bc99-e2efcff803a6",
   "metadata": {},
   "outputs": [
    {
     "name": "stdout",
     "output_type": "stream",
     "text": [
      "+-----------------+------------+------+---------------+---------------+--------------+---------------+-------------+--------------+------------------------+----------------------+---------------------+------------+-------------------+---------------+--------------------+---------------+--------------+-------------------+---------------------+\n",
      "|   Attrition_Flag|Customer_Age|Gender|Dependent_count|Education_Level|Marital_Status|Income_Category|Card_Category|Months_on_book|Total_Relationship_Count|Months_Inactive_12_mon|Contacts_Count_12_mon|Credit_Limit|Total_Revolving_Bal|Avg_Open_To_Buy|Total_Amt_Chng_Q4_Q1|Total_Trans_Amt|Total_Trans_Ct|Total_Ct_Chng_Q4_Q1|Avg_Utilization_Ratio|\n",
      "+-----------------+------------+------+---------------+---------------+--------------+---------------+-------------+--------------+------------------------+----------------------+---------------------+------------+-------------------+---------------+--------------------+---------------+--------------+-------------------+---------------------+\n",
      "|Existing Customer|          51|     M|              3|       Graduate|       Married|   $80K - $120K|         Blue|            36|                       4|                     1|                    0|        3418|                  0|           3418|               2.594|           1887|            20|              2.333|                    0|\n",
      "|Existing Customer|          44|     M|              2|       Graduate|       Married|    $40K - $60K|         Blue|            36|                       3|                     1|                    2|        4010|               1247|           2763|               1.376|           1088|            24|              0.846|                0.311|\n",
      "|Existing Customer|          35|     M|              3|       Graduate|       Unknown|    $60K - $80K|         Blue|            30|                       5|                     1|                    3|        8547|               1666|           6881|               1.163|           1311|            33|                  2|                0.195|\n",
      "|Existing Customer|          41|     M|              4|       Graduate|       Married|    $60K - $80K|         Blue|            36|                       4|                     1|                    2|        8923|               2517|           6406|               1.726|           1589|            24|              1.667|                0.282|\n",
      "|Existing Customer|          58|     M|              0|       Graduate|       Married|   $80K - $120K|         Blue|            49|                       6|                     2|                    2|       12555|               1696|          10859|               0.519|           1291|            24|              0.714|                0.135|\n",
      "+-----------------+------------+------+---------------+---------------+--------------+---------------+-------------+--------------+------------------------+----------------------+---------------------+------------+-------------------+---------------+--------------------+---------------+--------------+-------------------+---------------------+\n",
      "only showing top 5 rows\n",
      "\n"
     ]
    }
   ],
   "source": [
    "df_filtered = df_churns.filter((df_churns['Gender'] =='M')& (df_churns['Education_Level'] =='Graduate'))\n",
    "df_filtered.show(5)"
   ]
  },
  {
   "cell_type": "markdown",
   "id": "2c53a269-05d4-4b2c-8f41-bf21a18fa551",
   "metadata": {},
   "source": [
    "# <font color='blue'>Data Transformation using PySpark\n",
    "---"
   ]
  },
  {
   "cell_type": "markdown",
   "id": "0439cd07-117f-4904-bd03-f7f75074e940",
   "metadata": {},
   "source": [
    "- In this section, we're going to learn how to do Data Wrangling or Data Transformation in PySpark\n",
    "- Just like in Pandas, we can also do Data Transformation using PySpark\n",
    "- There are so many tasks that we can do in Data Transformation by using PySpark\n",
    "- But, in this session we will focus to:\n",
    "    - Rename Column\n",
    "    - Slicing Data\n",
    "    - Create a New Column using the Existing Column\n",
    "    - Impute Missing Values\n"
   ]
  },
  {
   "cell_type": "markdown",
   "id": "5680e45a-031e-44ed-a790-cdae493b26ec",
   "metadata": {},
   "source": [
    "Just like in the previous section, make sure we've already created `SparkSession`"
   ]
  },
  {
   "cell_type": "code",
   "execution_count": 1,
   "id": "7b04d187-3439-44ea-a053-ee576e58f8a0",
   "metadata": {},
   "outputs": [],
   "source": [
    "# import SparkSession\n",
    "from pyspark.sql import SparkSession\n",
    "import pyspark"
   ]
  },
  {
   "cell_type": "code",
   "execution_count": 2,
   "id": "29ad786d-c8d3-4a7f-b773-e75ca04f757f",
   "metadata": {},
   "outputs": [],
   "source": [
    "spark = SparkSession \\\n",
    "    .builder \\\n",
    "    .appName(\"Data Transformation using PySpark\") \\\n",
    "    .config(\"spark.sql.legacy.timeParserPolicy\", \"LEGACY\") \\\n",
    "    .getOrCreate()"
   ]
  },
  {
   "cell_type": "code",
   "execution_count": 3,
   "id": "63ffc8c7-5b16-45c0-b303-5bd7d6e3c400",
   "metadata": {},
   "outputs": [
    {
     "data": {
      "text/html": [
       "\n",
       "            <div>\n",
       "                <p><b>SparkSession - in-memory</b></p>\n",
       "                \n",
       "        <div>\n",
       "            <p><b>SparkContext</b></p>\n",
       "\n",
       "            <p><a href=\"http://pyspark:4040\">Spark UI</a></p>\n",
       "\n",
       "            <dl>\n",
       "              <dt>Version</dt>\n",
       "                <dd><code>v3.5.0</code></dd>\n",
       "              <dt>Master</dt>\n",
       "                <dd><code>local[*]</code></dd>\n",
       "              <dt>AppName</dt>\n",
       "                <dd><code>Data Transformation using PySpark</code></dd>\n",
       "            </dl>\n",
       "        </div>\n",
       "        \n",
       "            </div>\n",
       "        "
      ],
      "text/plain": [
       "<pyspark.sql.session.SparkSession at 0x7f76d4198890>"
      ]
     },
     "execution_count": 3,
     "metadata": {},
     "output_type": "execute_result"
    }
   ],
   "source": [
    "spark"
   ]
  },
  {
   "cell_type": "markdown",
   "id": "94916b3a-1cc6-4bfc-ba18-a654f5dd3724",
   "metadata": {},
   "source": [
    "- We will be using data from the previous section\n",
    "- The data is in this directory `data/materi_10/flights_filtered.csv`\n",
    "- We can also create a Python function to read the data"
   ]
  },
  {
   "cell_type": "code",
   "execution_count": 4,
   "id": "f23e2a8a-b8c4-4dfe-b2d1-5d88429f58d5",
   "metadata": {},
   "outputs": [],
   "source": [
    "def read_csv_data(filename: str) -> pyspark.sql.dataframe.DataFrame:\n",
    "    \"\"\"Function to read csv file using PySpark\"\"\"\n",
    "    df = spark \\\n",
    "        .read \\\n",
    "        .option(\"header\", \"true\") \\\n",
    "        .csv(filename)\n",
    "\n",
    "    return df"
   ]
  },
  {
   "cell_type": "code",
   "execution_count": 5,
   "id": "70b5d187-1246-490e-a583-b86719bb0bb9",
   "metadata": {},
   "outputs": [],
   "source": [
    "# define data path\n",
    "DATA_PATH = \"../data/\""
   ]
  },
  {
   "cell_type": "code",
   "execution_count": 6,
   "id": "7c2ca52b-7642-4c5b-bdd9-cebe67bb962d",
   "metadata": {},
   "outputs": [
    {
     "name": "stdout",
     "output_type": "stream",
     "text": [
      "+-----------------+------------+------+---------------+---------------+--------------+---------------+-------------+--------------+------------------------+----------------------+---------------------+------------+-------------------+---------------+--------------------+---------------+--------------+-------------------+---------------------+\n",
      "|   Attrition_Flag|Customer_Age|Gender|Dependent_count|Education_Level|Marital_Status|Income_Category|Card_Category|Months_on_book|Total_Relationship_Count|Months_Inactive_12_mon|Contacts_Count_12_mon|Credit_Limit|Total_Revolving_Bal|Avg_Open_To_Buy|Total_Amt_Chng_Q4_Q1|Total_Trans_Amt|Total_Trans_Ct|Total_Ct_Chng_Q4_Q1|Avg_Utilization_Ratio|\n",
      "+-----------------+------------+------+---------------+---------------+--------------+---------------+-------------+--------------+------------------------+----------------------+---------------------+------------+-------------------+---------------+--------------------+---------------+--------------+-------------------+---------------------+\n",
      "|Existing Customer|          45|     M|              3|    High School|       Married|    $60K - $80K|         Blue|            39|                       5|                     1|                    3|       12691|                777|          11914|               1.335|           1144|            42|              1.625|                0.061|\n",
      "|Existing Customer|          49|     F|              5|       Graduate|        Single| Less than $40K|         Blue|            44|                       6|                     1|                    2|        8256|                864|           7392|               1.541|           1291|            33|              3.714|                0.105|\n",
      "|Existing Customer|          51|     M|              3|       Graduate|       Married|   $80K - $120K|         Blue|            36|                       4|                     1|                    0|        3418|                  0|           3418|               2.594|           1887|            20|              2.333|                    0|\n",
      "|Existing Customer|          40|     F|              4|    High School|       Unknown| Less than $40K|         Blue|            34|                       3|                     4|                    1|        3313|               2517|            796|               1.405|           1171|            20|              2.333|                 0.76|\n",
      "|Existing Customer|          40|     M|              3|     Uneducated|       Married|    $60K - $80K|         Blue|            21|                       5|                     1|                    0|        4716|                  0|           4716|               2.175|            816|            28|                2.5|                    0|\n",
      "+-----------------+------------+------+---------------+---------------+--------------+---------------+-------------+--------------+------------------------+----------------------+---------------------+------------+-------------------+---------------+--------------------+---------------+--------------+-------------------+---------------------+\n",
      "only showing top 5 rows\n",
      "\n"
     ]
    }
   ],
   "source": [
    "df_data = read_csv_data(DATA_PATH + \"bank_churners.csv\")\n",
    "\n",
    "df_data.show(5) # get 5 data"
   ]
  },
  {
   "cell_type": "markdown",
   "id": "9af08d63-1bf6-42a5-92e0-ef953485ce34",
   "metadata": {},
   "source": [
    "### **Rename Column**\n",
    "---"
   ]
  },
  {
   "cell_type": "markdown",
   "id": "2ed1197c-c76a-479b-9fcb-6cf7505c5b9f",
   "metadata": {},
   "source": [
    "- When reading data directly from data sources, usually there's a problem\n",
    "- The naming convention for column names is not proper\n",
    "- For naming convention usually each person may differ, we can use camelCase or snake_case\n",
    "- In this course, we will use snake_case\n",
    "- To rename column names in PySpark we can use two methods:\n",
    "    - `withColumnRenamed()`: can be used when rename one column only\n",
    "    - `withColumnsRenamed()`: can be used when rename multiple columns\n",
    "\n",
    "**Syntax Rename One Column**\n",
    "\n",
    "```python\n",
    "df = df.withColumnRenamed(existing = old_column, new = new_column)\n",
    "```\n",
    "\n",
    "**Syntax Rename Multiple Columns**\n",
    "\n",
    "```python\n",
    "# initiate dictionary\n",
    "RENAME_COLS = {\n",
    "    \"old_col_1\": \"new_col_1\",\n",
    "    \"old_col_2\": \"new_col_2\",\n",
    "    \"old_col_n\": \"new_col_n\"\n",
    "}\n",
    "\n",
    "df = df.withColumnsRenamed(colsMap = RENAME_COLS)\n",
    "```"
   ]
  },
  {
   "cell_type": "markdown",
   "id": "1ec92ce3-f33c-49fe-ac73-6bbbec04dc26",
   "metadata": {},
   "source": [
    "**Rename One Column**"
   ]
  },
  {
   "cell_type": "markdown",
   "id": "8e2e25a9-a093-45f9-b09d-74907fcac07c",
   "metadata": {},
   "source": [
    "By using data in variable `df_fligts`, we want to rename column `AIRLINE` to `airline`"
   ]
  },
  {
   "cell_type": "code",
   "execution_count": 8,
   "id": "91fdb5c6-eac2-42c2-bbb7-8f45d330f05c",
   "metadata": {},
   "outputs": [
    {
     "name": "stdout",
     "output_type": "stream",
     "text": [
      "+-----------------+------------+------+---------------+---------------+--------------+---------------+-------------+--------------+------------------------+----------------------+---------------------+------------+-------------------+---------------+--------------------+---------------+--------------+-------------------+---------------------+\n",
      "|   Attrition_Flag|Customer_Age|Gender|Dependent_Count|Education_Level|Marital_Status|Income_Category|Card_Category|Months_on_book|Total_Relationship_Count|Months_Inactive_12_mon|Contacts_Count_12_mon|Credit_Limit|Total_Revolving_Bal|Avg_Open_To_Buy|Total_Amt_Chng_Q4_Q1|Total_Trans_Amt|Total_Trans_Ct|Total_Ct_Chng_Q4_Q1|Avg_Utilization_Ratio|\n",
      "+-----------------+------------+------+---------------+---------------+--------------+---------------+-------------+--------------+------------------------+----------------------+---------------------+------------+-------------------+---------------+--------------------+---------------+--------------+-------------------+---------------------+\n",
      "|Existing Customer|          45|     M|              3|    High School|       Married|    $60K - $80K|         Blue|            39|                       5|                     1|                    3|       12691|                777|          11914|               1.335|           1144|            42|              1.625|                0.061|\n",
      "|Existing Customer|          49|     F|              5|       Graduate|        Single| Less than $40K|         Blue|            44|                       6|                     1|                    2|        8256|                864|           7392|               1.541|           1291|            33|              3.714|                0.105|\n",
      "|Existing Customer|          51|     M|              3|       Graduate|       Married|   $80K - $120K|         Blue|            36|                       4|                     1|                    0|        3418|                  0|           3418|               2.594|           1887|            20|              2.333|                    0|\n",
      "|Existing Customer|          40|     F|              4|    High School|       Unknown| Less than $40K|         Blue|            34|                       3|                     4|                    1|        3313|               2517|            796|               1.405|           1171|            20|              2.333|                 0.76|\n",
      "|Existing Customer|          40|     M|              3|     Uneducated|       Married|    $60K - $80K|         Blue|            21|                       5|                     1|                    0|        4716|                  0|           4716|               2.175|            816|            28|                2.5|                    0|\n",
      "|Existing Customer|          44|     M|              2|       Graduate|       Married|    $40K - $60K|         Blue|            36|                       3|                     1|                    2|        4010|               1247|           2763|               1.376|           1088|            24|              0.846|                0.311|\n",
      "|Existing Customer|          32|     M|              0|    High School|       Unknown|    $60K - $80K|       Silver|            27|                       2|                     2|                    2|       29081|               1396|          27685|               2.204|           1538|            36|              0.714|                0.048|\n",
      "|Existing Customer|          37|     M|              3|     Uneducated|        Single|    $60K - $80K|         Blue|            36|                       5|                     2|                    0|       22352|               2517|          19835|               3.355|           1350|            24|              1.182|                0.113|\n",
      "|Existing Customer|          48|     M|              2|           NULL|        Single|   $80K - $120K|         Blue|            36|                       6|                     3|                    3|       11656|               1677|           9979|               1.524|           1441|            32|              0.882|                0.144|\n",
      "|Existing Customer|          65|     M|              1|        Unknown|       Married|    $40K - $60K|         Blue|            54|                       6|                     2|                    3|        9095|               1587|           7508|               1.433|           1314|            26|              1.364|                0.174|\n",
      "|Existing Customer|          56|     M|              1|        College|        Single|   $80K - $120K|         Blue|            36|                       3|                     6|                    0|       11751|                  0|          11751|               3.397|           1539|            17|               3.25|                    0|\n",
      "|Existing Customer|          35|     M|              3|       Graduate|       Unknown|    $60K - $80K|         Blue|            30|                       5|                     1|                    3|        8547|               1666|           6881|               1.163|           1311|            33|                  2|                0.195|\n",
      "|Existing Customer|          57|     F|              2|       Graduate|       Married| Less than $40K|         Blue|            48|                       5|                     2|                    2|        2436|                680|           1756|                1.19|           1570|            29|              0.611|                0.279|\n",
      "|Existing Customer|          44|     M|              4|        Unknown|       Unknown|   $80K - $120K|         Blue|            37|                       5|                     1|                    2|        4234|                972|           3262|               1.707|           1348|            27|                1.7|                 0.23|\n",
      "|Existing Customer|          48|     M|              4|  Post-Graduate|        Single|   $80K - $120K|         Blue|            36|                       6|                     2|                    3|       30367|               2362|          28005|               1.708|           1671|            27|              0.929|                0.078|\n",
      "|Existing Customer|          41|     M|              3|        Unknown|       Married|   $80K - $120K|         Blue|            34|                       4|                     4|                    1|       13535|               1291|          12244|               0.653|           1028|            21|              1.625|                0.095|\n",
      "|Existing Customer|          61|     M|              1|    High School|       Married|    $40K - $60K|         Blue|            56|                       2|                     2|                    3|        3193|               2517|            676|               1.831|           1336|            30|              1.143|                0.788|\n",
      "|Existing Customer|          45|     F|              2|       Graduate|       Married|        Unknown|         Blue|            37|                       6|                     1|                    2|       14470|               1157|          13313|               0.966|           1207|            21|              0.909|                 0.08|\n",
      "|Existing Customer|          47|     M|              1|      Doctorate|      Divorced|    $60K - $80K|         Blue|            42|                       5|                     2|                    0|       20979|               1800|          19179|               0.906|           1178|            27|              0.929|                0.086|\n",
      "|Attrited Customer|          62|     F|              0|       Graduate|       Married| Less than $40K|         Blue|            49|                       2|                     3|                    3|      1438.3|                  0|         1438.3|               1.047|            692|            16|                0.6|                    0|\n",
      "+-----------------+------------+------+---------------+---------------+--------------+---------------+-------------+--------------+------------------------+----------------------+---------------------+------------+-------------------+---------------+--------------------+---------------+--------------+-------------------+---------------------+\n",
      "only showing top 20 rows\n",
      "\n"
     ]
    }
   ],
   "source": [
    "df_data.withColumnRenamed(existing = \"Dependent_count\", new = \"Dependent_Count\").show()"
   ]
  },
  {
   "cell_type": "code",
   "execution_count": 15,
   "id": "f60d13e6-0207-43b3-88e8-166b1cee815c",
   "metadata": {},
   "outputs": [],
   "source": [
    "rename_columns = {\n",
    "                    \"Months_on_book\":\"Months_On_Book\",\n",
    "                    \"Contacts_Count_12_mon\":\"Contacts_Count_12_Mon\",\n",
    "                    \"Months_Inactive_12_mon\":\"Months_Inactive_12_Mon\"\n",
    "                 }"
   ]
  },
  {
   "cell_type": "code",
   "execution_count": 16,
   "id": "69b6dfee-1186-463f-9117-5c7ac7023ead",
   "metadata": {},
   "outputs": [],
   "source": [
    "df_data = df_data.withColumnsRenamed(colsMap = rename_columns)"
   ]
  },
  {
   "cell_type": "code",
   "execution_count": 17,
   "id": "bd8c8b67-4925-4d11-8a1c-710ff031d176",
   "metadata": {},
   "outputs": [
    {
     "name": "stdout",
     "output_type": "stream",
     "text": [
      "+-----------------+------------+------+---------------+---------------+--------------+---------------+-------------+--------------+------------------------+----------------------+---------------------+------------+-------------------+---------------+--------------------+---------------+--------------+-------------------+---------------------+\n",
      "|   Attrition_Flag|Customer_Age|Gender|Dependent_count|Education_Level|Marital_Status|Income_Category|Card_Category|Months_On_Book|Total_Relationship_Count|Months_Inactive_12_Mon|Contacts_Count_12_Mon|Credit_Limit|Total_Revolving_Bal|Avg_Open_To_Buy|Total_Amt_Chng_Q4_Q1|Total_Trans_Amt|Total_Trans_Ct|Total_Ct_Chng_Q4_Q1|Avg_Utilization_Ratio|\n",
      "+-----------------+------------+------+---------------+---------------+--------------+---------------+-------------+--------------+------------------------+----------------------+---------------------+------------+-------------------+---------------+--------------------+---------------+--------------+-------------------+---------------------+\n",
      "|Existing Customer|          45|     M|              3|    High School|       Married|    $60K - $80K|         Blue|            39|                       5|                     1|                    3|       12691|                777|          11914|               1.335|           1144|            42|              1.625|                0.061|\n",
      "|Existing Customer|          49|     F|              5|       Graduate|        Single| Less than $40K|         Blue|            44|                       6|                     1|                    2|        8256|                864|           7392|               1.541|           1291|            33|              3.714|                0.105|\n",
      "|Existing Customer|          51|     M|              3|       Graduate|       Married|   $80K - $120K|         Blue|            36|                       4|                     1|                    0|        3418|                  0|           3418|               2.594|           1887|            20|              2.333|                    0|\n",
      "|Existing Customer|          40|     F|              4|    High School|       Unknown| Less than $40K|         Blue|            34|                       3|                     4|                    1|        3313|               2517|            796|               1.405|           1171|            20|              2.333|                 0.76|\n",
      "|Existing Customer|          40|     M|              3|     Uneducated|       Married|    $60K - $80K|         Blue|            21|                       5|                     1|                    0|        4716|                  0|           4716|               2.175|            816|            28|                2.5|                    0|\n",
      "+-----------------+------------+------+---------------+---------------+--------------+---------------+-------------+--------------+------------------------+----------------------+---------------------+------------+-------------------+---------------+--------------------+---------------+--------------+-------------------+---------------------+\n",
      "only showing top 5 rows\n",
      "\n"
     ]
    }
   ],
   "source": [
    "df_data.show(5)"
   ]
  },
  {
   "cell_type": "markdown",
   "id": "de5ca414-249f-452d-9759-f8c723beb9cc",
   "metadata": {},
   "source": [
    "### **Slicing Data**\n",
    "---"
   ]
  },
  {
   "cell_type": "markdown",
   "id": "caeb7f34-2ed8-4975-bc99-ef14b8664f03",
   "metadata": {},
   "source": [
    "- In the previous section we already learn how to select data using columns in PySpark\n",
    "- But did you know, we can select the data using rows based like in Pandas like this?\n",
    "\n",
    "<center>\n",
    "    <img src=\"https://www.boardinfinity.com/blog/content/images/2023/02/iloc-python.png\" width=65%>\n",
    "    <br>\n",
    "    <a href=\"https://www.boardinfinity.com/blog/iloc-in-python/\">img src</a>\n",
    "</center>"
   ]
  },
  {
   "cell_type": "markdown",
   "id": "04a2f999-3282-4ea7-a386-c4aa62e0666c",
   "metadata": {},
   "source": [
    "- We can do that also in PySpark, but there's no method to do it in PySpark\n",
    "- So, we must convert it first to Pandas.\n",
    "- Yes, in PySpark we can convert the data into Pandas!\n",
    "- If we want to use a Pandas method in PySpark we must convert it first to Pandas\n",
    "- So our workflow will be like this\n",
    "\n",
    "<center>\n",
    "    <img src=\"https://sekolahdata-assets.s3.ap-southeast-1.amazonaws.com/notebook-images/mde-data-ingestion-spark/workflow_slicing_data.png\">\n",
    "</center>\n",
    "\n",
    "- To convert to Pandas, we can use method `.toPandas()`\n",
    "\n",
    "**Syntax**\n",
    "\n",
    "```python\n",
    "df = df.toPandas()\n",
    "```"
   ]
  },
  {
   "cell_type": "markdown",
   "id": "818f47d9-4b2a-4247-82b1-86c6f6d7606f",
   "metadata": {},
   "source": [
    "- After that, we can do data slicing like in pandas by using `.loc` or `.iloc`\n",
    "    - `.iloc`: access data based on index position\n",
    "    - `.loc`: access data based on labels (column or index name) in rows or columns\n",
    "\n",
    "**Syntax**\n",
    "\n",
    "```python\n",
    "# slicing using .iloc\n",
    "df.iloc[rows_start_index:rows_end_index, cols_start_index:cols_end_index]\n",
    "\n",
    "# slicing using .loc\n",
    "df.loc[rows_index_name_start:rows_index_name_end, cols_index_name_start:cols_index_name_end]\n",
    "```"
   ]
  },
  {
   "cell_type": "markdown",
   "id": "4348fec7-a370-402e-a3cf-053c104f1c07",
   "metadata": {},
   "source": [
    "---\n",
    "- In this section, we're going to use a dataset from this directory `data/materi_10/new_filtered_data.csv`\n",
    "- The first step, we're going to convert the data to Pandas"
   ]
  },
  {
   "cell_type": "code",
   "execution_count": 67,
   "id": "8b2a697e-da21-4745-aa2f-2ae180db92e2",
   "metadata": {},
   "outputs": [
    {
     "name": "stdout",
     "output_type": "stream",
     "text": [
      "+-----------------+------------+------+---------------+---------------+--------------+---------------+-------------+--------------+------------------------+----------------------+---------------------+------------+-------------------+---------------+--------------------+---------------+--------------+-------------------+---------------------+\n",
      "|   Attrition_Flag|Customer_Age|Gender|Dependent_count|Education_Level|Marital_Status|Income_Category|Card_Category|Months_on_book|Total_Relationship_Count|Months_Inactive_12_mon|Contacts_Count_12_mon|Credit_Limit|Total_Revolving_Bal|Avg_Open_To_Buy|Total_Amt_Chng_Q4_Q1|Total_Trans_Amt|Total_Trans_Ct|Total_Ct_Chng_Q4_Q1|Avg_Utilization_Ratio|\n",
      "+-----------------+------------+------+---------------+---------------+--------------+---------------+-------------+--------------+------------------------+----------------------+---------------------+------------+-------------------+---------------+--------------------+---------------+--------------+-------------------+---------------------+\n",
      "|Existing Customer|          45|     M|              3|    High School|       Married|    $60K - $80K|         Blue|            39|                       5|                     1|                    3|       12691|                777|          11914|               1.335|           1144|            42|              1.625|                0.061|\n",
      "|Existing Customer|          49|     F|              5|       Graduate|        Single| Less than $40K|         Blue|            44|                       6|                     1|                    2|        8256|                864|           7392|               1.541|           1291|            33|              3.714|                0.105|\n",
      "|Existing Customer|          51|     M|              3|       Graduate|       Married|   $80K - $120K|         Blue|            36|                       4|                     1|                    0|        3418|                  0|           3418|               2.594|           1887|            20|              2.333|                    0|\n",
      "|Existing Customer|          40|     F|              4|    High School|       Unknown| Less than $40K|         Blue|            34|                       3|                     4|                    1|        3313|               2517|            796|               1.405|           1171|            20|              2.333|                 0.76|\n",
      "|Existing Customer|          40|     M|              3|     Uneducated|       Married|    $60K - $80K|         Blue|            21|                       5|                     1|                    0|        4716|                  0|           4716|               2.175|            816|            28|                2.5|                    0|\n",
      "+-----------------+------------+------+---------------+---------------+--------------+---------------+-------------+--------------+------------------------+----------------------+---------------------+------------+-------------------+---------------+--------------------+---------------+--------------+-------------------+---------------------+\n",
      "only showing top 5 rows\n",
      "\n"
     ]
    }
   ],
   "source": [
    "# read data \n",
    "df_churners = spark.read.option(\"header\", \"true\").csv(\"../data/bank_churners.csv\")\n",
    "\n",
    "df_churners.show(5)"
   ]
  },
  {
   "cell_type": "code",
   "execution_count": 20,
   "id": "5d0e614b-0c7b-4a1f-82cd-7e0e16de6773",
   "metadata": {},
   "outputs": [
    {
     "data": {
      "text/plain": [
       "9776"
      ]
     },
     "execution_count": 20,
     "metadata": {},
     "output_type": "execute_result"
    }
   ],
   "source": [
    "df_churners.count()"
   ]
  },
  {
   "cell_type": "code",
   "execution_count": 24,
   "id": "949eb418-f8bb-4cd2-8240-6e7f412b6c7b",
   "metadata": {},
   "outputs": [],
   "source": [
    "df_churners = df_churners.toPandas()"
   ]
  },
  {
   "cell_type": "code",
   "execution_count": 25,
   "id": "598c1491-7e43-44e1-8587-af74330d42e4",
   "metadata": {},
   "outputs": [
    {
     "data": {
      "text/html": [
       "<div>\n",
       "<style scoped>\n",
       "    .dataframe tbody tr th:only-of-type {\n",
       "        vertical-align: middle;\n",
       "    }\n",
       "\n",
       "    .dataframe tbody tr th {\n",
       "        vertical-align: top;\n",
       "    }\n",
       "\n",
       "    .dataframe thead th {\n",
       "        text-align: right;\n",
       "    }\n",
       "</style>\n",
       "<table border=\"1\" class=\"dataframe\">\n",
       "  <thead>\n",
       "    <tr style=\"text-align: right;\">\n",
       "      <th></th>\n",
       "      <th>Attrition_Flag</th>\n",
       "      <th>Customer_Age</th>\n",
       "      <th>Gender</th>\n",
       "      <th>Dependent_count</th>\n",
       "      <th>Education_Level</th>\n",
       "      <th>Marital_Status</th>\n",
       "      <th>Income_Category</th>\n",
       "      <th>Card_Category</th>\n",
       "      <th>Months_on_book</th>\n",
       "      <th>Total_Relationship_Count</th>\n",
       "      <th>Months_Inactive_12_mon</th>\n",
       "      <th>Contacts_Count_12_mon</th>\n",
       "      <th>Credit_Limit</th>\n",
       "      <th>Total_Revolving_Bal</th>\n",
       "      <th>Avg_Open_To_Buy</th>\n",
       "      <th>Total_Amt_Chng_Q4_Q1</th>\n",
       "      <th>Total_Trans_Amt</th>\n",
       "      <th>Total_Trans_Ct</th>\n",
       "      <th>Total_Ct_Chng_Q4_Q1</th>\n",
       "      <th>Avg_Utilization_Ratio</th>\n",
       "    </tr>\n",
       "  </thead>\n",
       "  <tbody>\n",
       "    <tr>\n",
       "      <th>0</th>\n",
       "      <td>Existing Customer</td>\n",
       "      <td>45</td>\n",
       "      <td>M</td>\n",
       "      <td>3</td>\n",
       "      <td>High School</td>\n",
       "      <td>Married</td>\n",
       "      <td>$60K - $80K</td>\n",
       "      <td>Blue</td>\n",
       "      <td>39</td>\n",
       "      <td>5</td>\n",
       "      <td>1</td>\n",
       "      <td>3</td>\n",
       "      <td>12691</td>\n",
       "      <td>777</td>\n",
       "      <td>11914</td>\n",
       "      <td>1.335</td>\n",
       "      <td>1144</td>\n",
       "      <td>42</td>\n",
       "      <td>1.625</td>\n",
       "      <td>0.061</td>\n",
       "    </tr>\n",
       "    <tr>\n",
       "      <th>1</th>\n",
       "      <td>Existing Customer</td>\n",
       "      <td>49</td>\n",
       "      <td>F</td>\n",
       "      <td>5</td>\n",
       "      <td>Graduate</td>\n",
       "      <td>Single</td>\n",
       "      <td>Less than $40K</td>\n",
       "      <td>Blue</td>\n",
       "      <td>44</td>\n",
       "      <td>6</td>\n",
       "      <td>1</td>\n",
       "      <td>2</td>\n",
       "      <td>8256</td>\n",
       "      <td>864</td>\n",
       "      <td>7392</td>\n",
       "      <td>1.541</td>\n",
       "      <td>1291</td>\n",
       "      <td>33</td>\n",
       "      <td>3.714</td>\n",
       "      <td>0.105</td>\n",
       "    </tr>\n",
       "    <tr>\n",
       "      <th>2</th>\n",
       "      <td>Existing Customer</td>\n",
       "      <td>51</td>\n",
       "      <td>M</td>\n",
       "      <td>3</td>\n",
       "      <td>Graduate</td>\n",
       "      <td>Married</td>\n",
       "      <td>$80K - $120K</td>\n",
       "      <td>Blue</td>\n",
       "      <td>36</td>\n",
       "      <td>4</td>\n",
       "      <td>1</td>\n",
       "      <td>0</td>\n",
       "      <td>3418</td>\n",
       "      <td>0</td>\n",
       "      <td>3418</td>\n",
       "      <td>2.594</td>\n",
       "      <td>1887</td>\n",
       "      <td>20</td>\n",
       "      <td>2.333</td>\n",
       "      <td>0</td>\n",
       "    </tr>\n",
       "    <tr>\n",
       "      <th>3</th>\n",
       "      <td>Existing Customer</td>\n",
       "      <td>40</td>\n",
       "      <td>F</td>\n",
       "      <td>4</td>\n",
       "      <td>High School</td>\n",
       "      <td>Unknown</td>\n",
       "      <td>Less than $40K</td>\n",
       "      <td>Blue</td>\n",
       "      <td>34</td>\n",
       "      <td>3</td>\n",
       "      <td>4</td>\n",
       "      <td>1</td>\n",
       "      <td>3313</td>\n",
       "      <td>2517</td>\n",
       "      <td>796</td>\n",
       "      <td>1.405</td>\n",
       "      <td>1171</td>\n",
       "      <td>20</td>\n",
       "      <td>2.333</td>\n",
       "      <td>0.76</td>\n",
       "    </tr>\n",
       "    <tr>\n",
       "      <th>4</th>\n",
       "      <td>Existing Customer</td>\n",
       "      <td>40</td>\n",
       "      <td>M</td>\n",
       "      <td>3</td>\n",
       "      <td>Uneducated</td>\n",
       "      <td>Married</td>\n",
       "      <td>$60K - $80K</td>\n",
       "      <td>Blue</td>\n",
       "      <td>21</td>\n",
       "      <td>5</td>\n",
       "      <td>1</td>\n",
       "      <td>0</td>\n",
       "      <td>4716</td>\n",
       "      <td>0</td>\n",
       "      <td>4716</td>\n",
       "      <td>2.175</td>\n",
       "      <td>816</td>\n",
       "      <td>28</td>\n",
       "      <td>2.5</td>\n",
       "      <td>0</td>\n",
       "    </tr>\n",
       "  </tbody>\n",
       "</table>\n",
       "</div>"
      ],
      "text/plain": [
       "      Attrition_Flag Customer_Age Gender Dependent_count Education_Level  \\\n",
       "0  Existing Customer           45      M               3     High School   \n",
       "1  Existing Customer           49      F               5        Graduate   \n",
       "2  Existing Customer           51      M               3        Graduate   \n",
       "3  Existing Customer           40      F               4     High School   \n",
       "4  Existing Customer           40      M               3      Uneducated   \n",
       "\n",
       "  Marital_Status Income_Category Card_Category Months_on_book  \\\n",
       "0        Married     $60K - $80K          Blue             39   \n",
       "1         Single  Less than $40K          Blue             44   \n",
       "2        Married    $80K - $120K          Blue             36   \n",
       "3        Unknown  Less than $40K          Blue             34   \n",
       "4        Married     $60K - $80K          Blue             21   \n",
       "\n",
       "  Total_Relationship_Count Months_Inactive_12_mon Contacts_Count_12_mon  \\\n",
       "0                        5                      1                     3   \n",
       "1                        6                      1                     2   \n",
       "2                        4                      1                     0   \n",
       "3                        3                      4                     1   \n",
       "4                        5                      1                     0   \n",
       "\n",
       "  Credit_Limit Total_Revolving_Bal Avg_Open_To_Buy Total_Amt_Chng_Q4_Q1  \\\n",
       "0        12691                 777           11914                1.335   \n",
       "1         8256                 864            7392                1.541   \n",
       "2         3418                   0            3418                2.594   \n",
       "3         3313                2517             796                1.405   \n",
       "4         4716                   0            4716                2.175   \n",
       "\n",
       "  Total_Trans_Amt Total_Trans_Ct Total_Ct_Chng_Q4_Q1 Avg_Utilization_Ratio  \n",
       "0            1144             42               1.625                 0.061  \n",
       "1            1291             33               3.714                 0.105  \n",
       "2            1887             20               2.333                     0  \n",
       "3            1171             20               2.333                  0.76  \n",
       "4             816             28                 2.5                     0  "
      ]
     },
     "execution_count": 25,
     "metadata": {},
     "output_type": "execute_result"
    }
   ],
   "source": [
    "df_churners.head()"
   ]
  },
  {
   "cell_type": "markdown",
   "id": "8d1b410a-0db4-4db5-ba24-c4f011876ee2",
   "metadata": {},
   "source": [
    "---\n",
    "- As you can see from the output at the top, is in Pandas DataFrame format!\n",
    "- Now, we can slice the data using either `.loc` or `.iloc`\n",
    "- Say, we're going to slice the data from index rows `57424` to `102114`"
   ]
  },
  {
   "cell_type": "code",
   "execution_count": 30,
   "id": "ef81b481-f109-4738-b5ec-0bdb29e19818",
   "metadata": {},
   "outputs": [
    {
     "data": {
      "text/html": [
       "<div>\n",
       "<style scoped>\n",
       "    .dataframe tbody tr th:only-of-type {\n",
       "        vertical-align: middle;\n",
       "    }\n",
       "\n",
       "    .dataframe tbody tr th {\n",
       "        vertical-align: top;\n",
       "    }\n",
       "\n",
       "    .dataframe thead th {\n",
       "        text-align: right;\n",
       "    }\n",
       "</style>\n",
       "<table border=\"1\" class=\"dataframe\">\n",
       "  <thead>\n",
       "    <tr style=\"text-align: right;\">\n",
       "      <th></th>\n",
       "      <th>Attrition_Flag</th>\n",
       "      <th>Customer_Age</th>\n",
       "      <th>Gender</th>\n",
       "      <th>Dependent_count</th>\n",
       "      <th>Education_Level</th>\n",
       "      <th>Marital_Status</th>\n",
       "      <th>Income_Category</th>\n",
       "      <th>Card_Category</th>\n",
       "      <th>Months_on_book</th>\n",
       "      <th>Total_Relationship_Count</th>\n",
       "      <th>Months_Inactive_12_mon</th>\n",
       "      <th>Contacts_Count_12_mon</th>\n",
       "      <th>Credit_Limit</th>\n",
       "      <th>Total_Revolving_Bal</th>\n",
       "      <th>Avg_Open_To_Buy</th>\n",
       "      <th>Total_Amt_Chng_Q4_Q1</th>\n",
       "      <th>Total_Trans_Amt</th>\n",
       "      <th>Total_Trans_Ct</th>\n",
       "      <th>Total_Ct_Chng_Q4_Q1</th>\n",
       "      <th>Avg_Utilization_Ratio</th>\n",
       "    </tr>\n",
       "  </thead>\n",
       "  <tbody>\n",
       "    <tr>\n",
       "      <th>0</th>\n",
       "      <td>Existing Customer</td>\n",
       "      <td>45</td>\n",
       "      <td>M</td>\n",
       "      <td>3</td>\n",
       "      <td>High School</td>\n",
       "      <td>Married</td>\n",
       "      <td>$60K - $80K</td>\n",
       "      <td>Blue</td>\n",
       "      <td>39</td>\n",
       "      <td>5</td>\n",
       "      <td>1</td>\n",
       "      <td>3</td>\n",
       "      <td>12691</td>\n",
       "      <td>777</td>\n",
       "      <td>11914</td>\n",
       "      <td>1.335</td>\n",
       "      <td>1144</td>\n",
       "      <td>42</td>\n",
       "      <td>1.625</td>\n",
       "      <td>0.061</td>\n",
       "    </tr>\n",
       "    <tr>\n",
       "      <th>1</th>\n",
       "      <td>Existing Customer</td>\n",
       "      <td>49</td>\n",
       "      <td>F</td>\n",
       "      <td>5</td>\n",
       "      <td>Graduate</td>\n",
       "      <td>Single</td>\n",
       "      <td>Less than $40K</td>\n",
       "      <td>Blue</td>\n",
       "      <td>44</td>\n",
       "      <td>6</td>\n",
       "      <td>1</td>\n",
       "      <td>2</td>\n",
       "      <td>8256</td>\n",
       "      <td>864</td>\n",
       "      <td>7392</td>\n",
       "      <td>1.541</td>\n",
       "      <td>1291</td>\n",
       "      <td>33</td>\n",
       "      <td>3.714</td>\n",
       "      <td>0.105</td>\n",
       "    </tr>\n",
       "    <tr>\n",
       "      <th>2</th>\n",
       "      <td>Existing Customer</td>\n",
       "      <td>51</td>\n",
       "      <td>M</td>\n",
       "      <td>3</td>\n",
       "      <td>Graduate</td>\n",
       "      <td>Married</td>\n",
       "      <td>$80K - $120K</td>\n",
       "      <td>Blue</td>\n",
       "      <td>36</td>\n",
       "      <td>4</td>\n",
       "      <td>1</td>\n",
       "      <td>0</td>\n",
       "      <td>3418</td>\n",
       "      <td>0</td>\n",
       "      <td>3418</td>\n",
       "      <td>2.594</td>\n",
       "      <td>1887</td>\n",
       "      <td>20</td>\n",
       "      <td>2.333</td>\n",
       "      <td>0</td>\n",
       "    </tr>\n",
       "    <tr>\n",
       "      <th>3</th>\n",
       "      <td>Existing Customer</td>\n",
       "      <td>40</td>\n",
       "      <td>F</td>\n",
       "      <td>4</td>\n",
       "      <td>High School</td>\n",
       "      <td>Unknown</td>\n",
       "      <td>Less than $40K</td>\n",
       "      <td>Blue</td>\n",
       "      <td>34</td>\n",
       "      <td>3</td>\n",
       "      <td>4</td>\n",
       "      <td>1</td>\n",
       "      <td>3313</td>\n",
       "      <td>2517</td>\n",
       "      <td>796</td>\n",
       "      <td>1.405</td>\n",
       "      <td>1171</td>\n",
       "      <td>20</td>\n",
       "      <td>2.333</td>\n",
       "      <td>0.76</td>\n",
       "    </tr>\n",
       "    <tr>\n",
       "      <th>4</th>\n",
       "      <td>Existing Customer</td>\n",
       "      <td>40</td>\n",
       "      <td>M</td>\n",
       "      <td>3</td>\n",
       "      <td>Uneducated</td>\n",
       "      <td>Married</td>\n",
       "      <td>$60K - $80K</td>\n",
       "      <td>Blue</td>\n",
       "      <td>21</td>\n",
       "      <td>5</td>\n",
       "      <td>1</td>\n",
       "      <td>0</td>\n",
       "      <td>4716</td>\n",
       "      <td>0</td>\n",
       "      <td>4716</td>\n",
       "      <td>2.175</td>\n",
       "      <td>816</td>\n",
       "      <td>28</td>\n",
       "      <td>2.5</td>\n",
       "      <td>0</td>\n",
       "    </tr>\n",
       "    <tr>\n",
       "      <th>...</th>\n",
       "      <td>...</td>\n",
       "      <td>...</td>\n",
       "      <td>...</td>\n",
       "      <td>...</td>\n",
       "      <td>...</td>\n",
       "      <td>...</td>\n",
       "      <td>...</td>\n",
       "      <td>...</td>\n",
       "      <td>...</td>\n",
       "      <td>...</td>\n",
       "      <td>...</td>\n",
       "      <td>...</td>\n",
       "      <td>...</td>\n",
       "      <td>...</td>\n",
       "      <td>...</td>\n",
       "      <td>...</td>\n",
       "      <td>...</td>\n",
       "      <td>...</td>\n",
       "      <td>...</td>\n",
       "      <td>...</td>\n",
       "    </tr>\n",
       "    <tr>\n",
       "      <th>9771</th>\n",
       "      <td>Attrited Customer</td>\n",
       "      <td>46</td>\n",
       "      <td>M</td>\n",
       "      <td>4</td>\n",
       "      <td>Uneducated</td>\n",
       "      <td>Single</td>\n",
       "      <td>None</td>\n",
       "      <td>Gold</td>\n",
       "      <td>41</td>\n",
       "      <td>6</td>\n",
       "      <td>3</td>\n",
       "      <td>2</td>\n",
       "      <td>34516</td>\n",
       "      <td>1104</td>\n",
       "      <td>33412</td>\n",
       "      <td>0.591</td>\n",
       "      <td>1989</td>\n",
       "      <td>47</td>\n",
       "      <td>0.741</td>\n",
       "      <td>0.032</td>\n",
       "    </tr>\n",
       "    <tr>\n",
       "      <th>9772</th>\n",
       "      <td>Existing Customer</td>\n",
       "      <td>59</td>\n",
       "      <td>M</td>\n",
       "      <td>0</td>\n",
       "      <td>College</td>\n",
       "      <td>Married</td>\n",
       "      <td>Less than $40K</td>\n",
       "      <td>Blue</td>\n",
       "      <td>49</td>\n",
       "      <td>3</td>\n",
       "      <td>3</td>\n",
       "      <td>3</td>\n",
       "      <td>4250</td>\n",
       "      <td>1095</td>\n",
       "      <td>3155</td>\n",
       "      <td>0.947</td>\n",
       "      <td>1174</td>\n",
       "      <td>27</td>\n",
       "      <td>0.8</td>\n",
       "      <td>0.258</td>\n",
       "    </tr>\n",
       "    <tr>\n",
       "      <th>9773</th>\n",
       "      <td>Existing Customer</td>\n",
       "      <td>42</td>\n",
       "      <td>M</td>\n",
       "      <td>3</td>\n",
       "      <td>High School</td>\n",
       "      <td>Single</td>\n",
       "      <td>$80K - $120K</td>\n",
       "      <td>Silver</td>\n",
       "      <td>32</td>\n",
       "      <td>3</td>\n",
       "      <td>3</td>\n",
       "      <td>3</td>\n",
       "      <td>34516</td>\n",
       "      <td>1396</td>\n",
       "      <td>33120</td>\n",
       "      <td>0.688</td>\n",
       "      <td>3748</td>\n",
       "      <td>62</td>\n",
       "      <td>0.938</td>\n",
       "      <td>0.04</td>\n",
       "    </tr>\n",
       "    <tr>\n",
       "      <th>9774</th>\n",
       "      <td>Existing Customer</td>\n",
       "      <td>52</td>\n",
       "      <td>F</td>\n",
       "      <td>3</td>\n",
       "      <td>Uneducated</td>\n",
       "      <td>Married</td>\n",
       "      <td>Less than $40K</td>\n",
       "      <td>Blue</td>\n",
       "      <td>33</td>\n",
       "      <td>6</td>\n",
       "      <td>3</td>\n",
       "      <td>3</td>\n",
       "      <td>5677</td>\n",
       "      <td>1403</td>\n",
       "      <td>4274</td>\n",
       "      <td>0.951</td>\n",
       "      <td>2730</td>\n",
       "      <td>58</td>\n",
       "      <td>0.758</td>\n",
       "      <td>0.247</td>\n",
       "    </tr>\n",
       "    <tr>\n",
       "      <th>9775</th>\n",
       "      <td>Existing Customer</td>\n",
       "      <td>45</td>\n",
       "      <td>M</td>\n",
       "      <td>3</td>\n",
       "      <td>Graduate</td>\n",
       "      <td>Unknown</td>\n",
       "      <td>$80K - $120K</td>\n",
       "      <td>Blue</td>\n",
       "      <td>34</td>\n",
       "      <td>6</td>\n",
       "      <td>6</td>\n",
       "      <td>3</td>\n",
       "      <td>2210</td>\n",
       "      <td>759</td>\n",
       "      <td>1451</td>\n",
       "      <td>0.892</td>\n",
       "      <td>2755</td>\n",
       "      <td>53</td>\n",
       "      <td>0.559</td>\n",
       "      <td>0.343</td>\n",
       "    </tr>\n",
       "  </tbody>\n",
       "</table>\n",
       "<p>9776 rows × 20 columns</p>\n",
       "</div>"
      ],
      "text/plain": [
       "         Attrition_Flag Customer_Age Gender Dependent_count Education_Level  \\\n",
       "0     Existing Customer           45      M               3     High School   \n",
       "1     Existing Customer           49      F               5        Graduate   \n",
       "2     Existing Customer           51      M               3        Graduate   \n",
       "3     Existing Customer           40      F               4     High School   \n",
       "4     Existing Customer           40      M               3      Uneducated   \n",
       "...                 ...          ...    ...             ...             ...   \n",
       "9771  Attrited Customer           46      M               4      Uneducated   \n",
       "9772  Existing Customer           59      M               0         College   \n",
       "9773  Existing Customer           42      M               3     High School   \n",
       "9774  Existing Customer           52      F               3      Uneducated   \n",
       "9775  Existing Customer           45      M               3        Graduate   \n",
       "\n",
       "     Marital_Status Income_Category Card_Category Months_on_book  \\\n",
       "0           Married     $60K - $80K          Blue             39   \n",
       "1            Single  Less than $40K          Blue             44   \n",
       "2           Married    $80K - $120K          Blue             36   \n",
       "3           Unknown  Less than $40K          Blue             34   \n",
       "4           Married     $60K - $80K          Blue             21   \n",
       "...             ...             ...           ...            ...   \n",
       "9771         Single            None          Gold             41   \n",
       "9772        Married  Less than $40K          Blue             49   \n",
       "9773         Single    $80K - $120K        Silver             32   \n",
       "9774        Married  Less than $40K          Blue             33   \n",
       "9775        Unknown    $80K - $120K          Blue             34   \n",
       "\n",
       "     Total_Relationship_Count Months_Inactive_12_mon Contacts_Count_12_mon  \\\n",
       "0                           5                      1                     3   \n",
       "1                           6                      1                     2   \n",
       "2                           4                      1                     0   \n",
       "3                           3                      4                     1   \n",
       "4                           5                      1                     0   \n",
       "...                       ...                    ...                   ...   \n",
       "9771                        6                      3                     2   \n",
       "9772                        3                      3                     3   \n",
       "9773                        3                      3                     3   \n",
       "9774                        6                      3                     3   \n",
       "9775                        6                      6                     3   \n",
       "\n",
       "     Credit_Limit Total_Revolving_Bal Avg_Open_To_Buy Total_Amt_Chng_Q4_Q1  \\\n",
       "0           12691                 777           11914                1.335   \n",
       "1            8256                 864            7392                1.541   \n",
       "2            3418                   0            3418                2.594   \n",
       "3            3313                2517             796                1.405   \n",
       "4            4716                   0            4716                2.175   \n",
       "...           ...                 ...             ...                  ...   \n",
       "9771        34516                1104           33412                0.591   \n",
       "9772         4250                1095            3155                0.947   \n",
       "9773        34516                1396           33120                0.688   \n",
       "9774         5677                1403            4274                0.951   \n",
       "9775         2210                 759            1451                0.892   \n",
       "\n",
       "     Total_Trans_Amt Total_Trans_Ct Total_Ct_Chng_Q4_Q1 Avg_Utilization_Ratio  \n",
       "0               1144             42               1.625                 0.061  \n",
       "1               1291             33               3.714                 0.105  \n",
       "2               1887             20               2.333                     0  \n",
       "3               1171             20               2.333                  0.76  \n",
       "4                816             28                 2.5                     0  \n",
       "...              ...            ...                 ...                   ...  \n",
       "9771            1989             47               0.741                 0.032  \n",
       "9772            1174             27                 0.8                 0.258  \n",
       "9773            3748             62               0.938                  0.04  \n",
       "9774            2730             58               0.758                 0.247  \n",
       "9775            2755             53               0.559                 0.343  \n",
       "\n",
       "[9776 rows x 20 columns]"
      ]
     },
     "execution_count": 30,
     "metadata": {},
     "output_type": "execute_result"
    }
   ],
   "source": [
    "df_churners"
   ]
  },
  {
   "cell_type": "code",
   "execution_count": 34,
   "id": "3504bc7f-5099-48ce-ae84-21cc5c192865",
   "metadata": {},
   "outputs": [
    {
     "data": {
      "text/html": [
       "<div>\n",
       "<style scoped>\n",
       "    .dataframe tbody tr th:only-of-type {\n",
       "        vertical-align: middle;\n",
       "    }\n",
       "\n",
       "    .dataframe tbody tr th {\n",
       "        vertical-align: top;\n",
       "    }\n",
       "\n",
       "    .dataframe thead th {\n",
       "        text-align: right;\n",
       "    }\n",
       "</style>\n",
       "<table border=\"1\" class=\"dataframe\">\n",
       "  <thead>\n",
       "    <tr style=\"text-align: right;\">\n",
       "      <th></th>\n",
       "      <th>Attrition_Flag</th>\n",
       "      <th>Customer_Age</th>\n",
       "      <th>Gender</th>\n",
       "      <th>Dependent_count</th>\n",
       "      <th>Education_Level</th>\n",
       "      <th>Marital_Status</th>\n",
       "      <th>Income_Category</th>\n",
       "      <th>Card_Category</th>\n",
       "      <th>Months_on_book</th>\n",
       "      <th>Total_Relationship_Count</th>\n",
       "      <th>Months_Inactive_12_mon</th>\n",
       "      <th>Contacts_Count_12_mon</th>\n",
       "      <th>Credit_Limit</th>\n",
       "      <th>Total_Revolving_Bal</th>\n",
       "      <th>Avg_Open_To_Buy</th>\n",
       "      <th>Total_Amt_Chng_Q4_Q1</th>\n",
       "      <th>Total_Trans_Amt</th>\n",
       "      <th>Total_Trans_Ct</th>\n",
       "      <th>Total_Ct_Chng_Q4_Q1</th>\n",
       "      <th>Avg_Utilization_Ratio</th>\n",
       "    </tr>\n",
       "  </thead>\n",
       "  <tbody>\n",
       "    <tr>\n",
       "      <th>9430</th>\n",
       "      <td>Existing Customer</td>\n",
       "      <td>40</td>\n",
       "      <td>F</td>\n",
       "      <td>4</td>\n",
       "      <td>College</td>\n",
       "      <td>Married</td>\n",
       "      <td>Less than $40K</td>\n",
       "      <td>Blue</td>\n",
       "      <td>26</td>\n",
       "      <td>3</td>\n",
       "      <td>1</td>\n",
       "      <td>1</td>\n",
       "      <td>2972</td>\n",
       "      <td>0</td>\n",
       "      <td>2972</td>\n",
       "      <td>0.593</td>\n",
       "      <td>3840</td>\n",
       "      <td>69</td>\n",
       "      <td>0.769</td>\n",
       "      <td>0</td>\n",
       "    </tr>\n",
       "    <tr>\n",
       "      <th>9431</th>\n",
       "      <td>Attrited Customer</td>\n",
       "      <td>50</td>\n",
       "      <td>F</td>\n",
       "      <td>1</td>\n",
       "      <td>Uneducated</td>\n",
       "      <td>Single</td>\n",
       "      <td>Less than $40K</td>\n",
       "      <td>Blue</td>\n",
       "      <td>37</td>\n",
       "      <td>3</td>\n",
       "      <td>2</td>\n",
       "      <td>4</td>\n",
       "      <td>1838</td>\n",
       "      <td>0</td>\n",
       "      <td>1838</td>\n",
       "      <td>0.743</td>\n",
       "      <td>2461</td>\n",
       "      <td>47</td>\n",
       "      <td>1.136</td>\n",
       "      <td>0</td>\n",
       "    </tr>\n",
       "    <tr>\n",
       "      <th>9432</th>\n",
       "      <td>Existing Customer</td>\n",
       "      <td>33</td>\n",
       "      <td>F</td>\n",
       "      <td>3</td>\n",
       "      <td>College</td>\n",
       "      <td>Single</td>\n",
       "      <td>$40K - $60K</td>\n",
       "      <td>Blue</td>\n",
       "      <td>26</td>\n",
       "      <td>6</td>\n",
       "      <td>3</td>\n",
       "      <td>5</td>\n",
       "      <td>6316</td>\n",
       "      <td>1344</td>\n",
       "      <td>4972</td>\n",
       "      <td>0.823</td>\n",
       "      <td>2401</td>\n",
       "      <td>71</td>\n",
       "      <td>0.732</td>\n",
       "      <td>0.213</td>\n",
       "    </tr>\n",
       "    <tr>\n",
       "      <th>9433</th>\n",
       "      <td>Existing Customer</td>\n",
       "      <td>48</td>\n",
       "      <td>M</td>\n",
       "      <td>2</td>\n",
       "      <td>Graduate</td>\n",
       "      <td>Unknown</td>\n",
       "      <td>$40K - $60K</td>\n",
       "      <td>Blue</td>\n",
       "      <td>36</td>\n",
       "      <td>5</td>\n",
       "      <td>1</td>\n",
       "      <td>2</td>\n",
       "      <td>13068</td>\n",
       "      <td>1718</td>\n",
       "      <td>11350</td>\n",
       "      <td>0.607</td>\n",
       "      <td>937</td>\n",
       "      <td>28</td>\n",
       "      <td>0.556</td>\n",
       "      <td>0.131</td>\n",
       "    </tr>\n",
       "    <tr>\n",
       "      <th>9434</th>\n",
       "      <td>Existing Customer</td>\n",
       "      <td>44</td>\n",
       "      <td>Female</td>\n",
       "      <td>4</td>\n",
       "      <td>Uneducated</td>\n",
       "      <td>Married</td>\n",
       "      <td>Less than $40K</td>\n",
       "      <td>Blue</td>\n",
       "      <td>33</td>\n",
       "      <td>5</td>\n",
       "      <td>4</td>\n",
       "      <td>2</td>\n",
       "      <td>9671</td>\n",
       "      <td>704</td>\n",
       "      <td>8967</td>\n",
       "      <td>0.699</td>\n",
       "      <td>2955</td>\n",
       "      <td>66</td>\n",
       "      <td>0.941</td>\n",
       "      <td>0.073</td>\n",
       "    </tr>\n",
       "    <tr>\n",
       "      <th>...</th>\n",
       "      <td>...</td>\n",
       "      <td>...</td>\n",
       "      <td>...</td>\n",
       "      <td>...</td>\n",
       "      <td>...</td>\n",
       "      <td>...</td>\n",
       "      <td>...</td>\n",
       "      <td>...</td>\n",
       "      <td>...</td>\n",
       "      <td>...</td>\n",
       "      <td>...</td>\n",
       "      <td>...</td>\n",
       "      <td>...</td>\n",
       "      <td>...</td>\n",
       "      <td>...</td>\n",
       "      <td>...</td>\n",
       "      <td>...</td>\n",
       "      <td>...</td>\n",
       "      <td>...</td>\n",
       "      <td>...</td>\n",
       "    </tr>\n",
       "    <tr>\n",
       "      <th>9771</th>\n",
       "      <td>Attrited Customer</td>\n",
       "      <td>46</td>\n",
       "      <td>M</td>\n",
       "      <td>4</td>\n",
       "      <td>Uneducated</td>\n",
       "      <td>Single</td>\n",
       "      <td>None</td>\n",
       "      <td>Gold</td>\n",
       "      <td>41</td>\n",
       "      <td>6</td>\n",
       "      <td>3</td>\n",
       "      <td>2</td>\n",
       "      <td>34516</td>\n",
       "      <td>1104</td>\n",
       "      <td>33412</td>\n",
       "      <td>0.591</td>\n",
       "      <td>1989</td>\n",
       "      <td>47</td>\n",
       "      <td>0.741</td>\n",
       "      <td>0.032</td>\n",
       "    </tr>\n",
       "    <tr>\n",
       "      <th>9772</th>\n",
       "      <td>Existing Customer</td>\n",
       "      <td>59</td>\n",
       "      <td>M</td>\n",
       "      <td>0</td>\n",
       "      <td>College</td>\n",
       "      <td>Married</td>\n",
       "      <td>Less than $40K</td>\n",
       "      <td>Blue</td>\n",
       "      <td>49</td>\n",
       "      <td>3</td>\n",
       "      <td>3</td>\n",
       "      <td>3</td>\n",
       "      <td>4250</td>\n",
       "      <td>1095</td>\n",
       "      <td>3155</td>\n",
       "      <td>0.947</td>\n",
       "      <td>1174</td>\n",
       "      <td>27</td>\n",
       "      <td>0.8</td>\n",
       "      <td>0.258</td>\n",
       "    </tr>\n",
       "    <tr>\n",
       "      <th>9773</th>\n",
       "      <td>Existing Customer</td>\n",
       "      <td>42</td>\n",
       "      <td>M</td>\n",
       "      <td>3</td>\n",
       "      <td>High School</td>\n",
       "      <td>Single</td>\n",
       "      <td>$80K - $120K</td>\n",
       "      <td>Silver</td>\n",
       "      <td>32</td>\n",
       "      <td>3</td>\n",
       "      <td>3</td>\n",
       "      <td>3</td>\n",
       "      <td>34516</td>\n",
       "      <td>1396</td>\n",
       "      <td>33120</td>\n",
       "      <td>0.688</td>\n",
       "      <td>3748</td>\n",
       "      <td>62</td>\n",
       "      <td>0.938</td>\n",
       "      <td>0.04</td>\n",
       "    </tr>\n",
       "    <tr>\n",
       "      <th>9774</th>\n",
       "      <td>Existing Customer</td>\n",
       "      <td>52</td>\n",
       "      <td>F</td>\n",
       "      <td>3</td>\n",
       "      <td>Uneducated</td>\n",
       "      <td>Married</td>\n",
       "      <td>Less than $40K</td>\n",
       "      <td>Blue</td>\n",
       "      <td>33</td>\n",
       "      <td>6</td>\n",
       "      <td>3</td>\n",
       "      <td>3</td>\n",
       "      <td>5677</td>\n",
       "      <td>1403</td>\n",
       "      <td>4274</td>\n",
       "      <td>0.951</td>\n",
       "      <td>2730</td>\n",
       "      <td>58</td>\n",
       "      <td>0.758</td>\n",
       "      <td>0.247</td>\n",
       "    </tr>\n",
       "    <tr>\n",
       "      <th>9775</th>\n",
       "      <td>Existing Customer</td>\n",
       "      <td>45</td>\n",
       "      <td>M</td>\n",
       "      <td>3</td>\n",
       "      <td>Graduate</td>\n",
       "      <td>Unknown</td>\n",
       "      <td>$80K - $120K</td>\n",
       "      <td>Blue</td>\n",
       "      <td>34</td>\n",
       "      <td>6</td>\n",
       "      <td>6</td>\n",
       "      <td>3</td>\n",
       "      <td>2210</td>\n",
       "      <td>759</td>\n",
       "      <td>1451</td>\n",
       "      <td>0.892</td>\n",
       "      <td>2755</td>\n",
       "      <td>53</td>\n",
       "      <td>0.559</td>\n",
       "      <td>0.343</td>\n",
       "    </tr>\n",
       "  </tbody>\n",
       "</table>\n",
       "<p>346 rows × 20 columns</p>\n",
       "</div>"
      ],
      "text/plain": [
       "         Attrition_Flag Customer_Age  Gender Dependent_count Education_Level  \\\n",
       "9430  Existing Customer           40       F               4         College   \n",
       "9431  Attrited Customer           50       F               1      Uneducated   \n",
       "9432  Existing Customer           33       F               3         College   \n",
       "9433  Existing Customer           48       M               2        Graduate   \n",
       "9434  Existing Customer           44  Female               4      Uneducated   \n",
       "...                 ...          ...     ...             ...             ...   \n",
       "9771  Attrited Customer           46       M               4      Uneducated   \n",
       "9772  Existing Customer           59       M               0         College   \n",
       "9773  Existing Customer           42       M               3     High School   \n",
       "9774  Existing Customer           52       F               3      Uneducated   \n",
       "9775  Existing Customer           45       M               3        Graduate   \n",
       "\n",
       "     Marital_Status Income_Category Card_Category Months_on_book  \\\n",
       "9430        Married  Less than $40K          Blue             26   \n",
       "9431         Single  Less than $40K          Blue             37   \n",
       "9432         Single     $40K - $60K          Blue             26   \n",
       "9433        Unknown     $40K - $60K          Blue             36   \n",
       "9434        Married  Less than $40K          Blue             33   \n",
       "...             ...             ...           ...            ...   \n",
       "9771         Single            None          Gold             41   \n",
       "9772        Married  Less than $40K          Blue             49   \n",
       "9773         Single    $80K - $120K        Silver             32   \n",
       "9774        Married  Less than $40K          Blue             33   \n",
       "9775        Unknown    $80K - $120K          Blue             34   \n",
       "\n",
       "     Total_Relationship_Count Months_Inactive_12_mon Contacts_Count_12_mon  \\\n",
       "9430                        3                      1                     1   \n",
       "9431                        3                      2                     4   \n",
       "9432                        6                      3                     5   \n",
       "9433                        5                      1                     2   \n",
       "9434                        5                      4                     2   \n",
       "...                       ...                    ...                   ...   \n",
       "9771                        6                      3                     2   \n",
       "9772                        3                      3                     3   \n",
       "9773                        3                      3                     3   \n",
       "9774                        6                      3                     3   \n",
       "9775                        6                      6                     3   \n",
       "\n",
       "     Credit_Limit Total_Revolving_Bal Avg_Open_To_Buy Total_Amt_Chng_Q4_Q1  \\\n",
       "9430         2972                   0            2972                0.593   \n",
       "9431         1838                   0            1838                0.743   \n",
       "9432         6316                1344            4972                0.823   \n",
       "9433        13068                1718           11350                0.607   \n",
       "9434         9671                 704            8967                0.699   \n",
       "...           ...                 ...             ...                  ...   \n",
       "9771        34516                1104           33412                0.591   \n",
       "9772         4250                1095            3155                0.947   \n",
       "9773        34516                1396           33120                0.688   \n",
       "9774         5677                1403            4274                0.951   \n",
       "9775         2210                 759            1451                0.892   \n",
       "\n",
       "     Total_Trans_Amt Total_Trans_Ct Total_Ct_Chng_Q4_Q1 Avg_Utilization_Ratio  \n",
       "9430            3840             69               0.769                     0  \n",
       "9431            2461             47               1.136                     0  \n",
       "9432            2401             71               0.732                 0.213  \n",
       "9433             937             28               0.556                 0.131  \n",
       "9434            2955             66               0.941                 0.073  \n",
       "...              ...            ...                 ...                   ...  \n",
       "9771            1989             47               0.741                 0.032  \n",
       "9772            1174             27                 0.8                 0.258  \n",
       "9773            3748             62               0.938                  0.04  \n",
       "9774            2730             58               0.758                 0.247  \n",
       "9775            2755             53               0.559                 0.343  \n",
       "\n",
       "[346 rows x 20 columns]"
      ]
     },
     "execution_count": 34,
     "metadata": {},
     "output_type": "execute_result"
    }
   ],
   "source": [
    "val = df_churners.iloc[9430:9776]\n",
    "val"
   ]
  },
  {
   "cell_type": "markdown",
   "id": "c9554136-d4da-4315-9fef-4748179f6db8",
   "metadata": {},
   "source": [
    "---\n",
    "- After we slice the data we can convert it back to PySpark\n",
    "- To do that, we can use the method `spark.createDataFrame(pandas_df)`\n",
    "\n",
    "**Syntax**\n",
    "\n",
    "```python\n",
    "df_pyspark = spark.createDataFrame(df_pandas)\n",
    "```"
   ]
  },
  {
   "cell_type": "code",
   "execution_count": 35,
   "id": "dda9cf81-ba09-401a-aaf2-6ddae3dc09f4",
   "metadata": {},
   "outputs": [],
   "source": [
    "df_pyspark = spark.createDataFrame(val)"
   ]
  },
  {
   "cell_type": "code",
   "execution_count": 36,
   "id": "c72667b5-71f0-41d3-9731-f26c53ae63fa",
   "metadata": {},
   "outputs": [
    {
     "name": "stdout",
     "output_type": "stream",
     "text": [
      "+-----------------+------------+------+---------------+---------------+--------------+---------------+-------------+--------------+------------------------+----------------------+---------------------+------------+-------------------+---------------+--------------------+---------------+--------------+-------------------+---------------------+\n",
      "|   Attrition_Flag|Customer_Age|Gender|Dependent_count|Education_Level|Marital_Status|Income_Category|Card_Category|Months_on_book|Total_Relationship_Count|Months_Inactive_12_mon|Contacts_Count_12_mon|Credit_Limit|Total_Revolving_Bal|Avg_Open_To_Buy|Total_Amt_Chng_Q4_Q1|Total_Trans_Amt|Total_Trans_Ct|Total_Ct_Chng_Q4_Q1|Avg_Utilization_Ratio|\n",
      "+-----------------+------------+------+---------------+---------------+--------------+---------------+-------------+--------------+------------------------+----------------------+---------------------+------------+-------------------+---------------+--------------------+---------------+--------------+-------------------+---------------------+\n",
      "|Existing Customer|          40|     F|              4|        College|       Married| Less than $40K|         Blue|            26|                       3|                     1|                    1|        2972|                  0|           2972|               0.593|           3840|            69|              0.769|                    0|\n",
      "|Attrited Customer|          50|     F|              1|     Uneducated|        Single| Less than $40K|         Blue|            37|                       3|                     2|                    4|        1838|                  0|           1838|               0.743|           2461|            47|              1.136|                    0|\n",
      "|Existing Customer|          33|     F|              3|        College|        Single|    $40K - $60K|         Blue|            26|                       6|                     3|                    5|        6316|               1344|           4972|               0.823|           2401|            71|              0.732|                0.213|\n",
      "|Existing Customer|          48|     M|              2|       Graduate|       Unknown|    $40K - $60K|         Blue|            36|                       5|                     1|                    2|       13068|               1718|          11350|               0.607|            937|            28|              0.556|                0.131|\n",
      "|Existing Customer|          44|Female|              4|     Uneducated|       Married| Less than $40K|         Blue|            33|                       5|                     4|                    2|        9671|                704|           8967|               0.699|           2955|            66|              0.941|                0.073|\n",
      "|Existing Customer|          49|     F|              2|     Uneducated|       Married| Less than $40K|         Blue|            38|                       6|                     3|                    3|        2468|                  0|           2468|               1.057|           3371|            62|              0.676|                    0|\n",
      "|Attrited Customer|          55|     F|              3|     Uneducated|        Single|        Unknown|         Blue|            47|                       4|                     3|                    3|       14657|               2517|          12140|               0.166|           6009|            53|              0.514|                0.172|\n",
      "|Existing Customer|          36|     M|              3|        Unknown|       Married|    $60K - $80K|         Blue|            30|                       5|                     2|                    3|       13080|                  0|          13080|               0.685|           1999|            44|              0.571|                    0|\n",
      "|Existing Customer|          42|     F|              4|        Unknown|        Single|    $40K - $60K|         Blue|            35|                       4|                     3|                    3|        1786|               1316|            470|               0.704|           4306|            73|              1.086|                0.737|\n",
      "|Attrited Customer|          45|     F|              3|       Graduate|       Married|        Unknown|         Blue|            40|                       3|                     5|                    3|        4462|                706|           3756|               0.886|           2526|            41|              0.414|                0.158|\n",
      "|Existing Customer|          45|     M|              4|       Graduate|        Single|   $80K - $120K|         Blue|            33|                       3|                     5|                    3|       31458|               1202|          30256|               0.673|           4202|            66|               0.61|                0.038|\n",
      "|Existing Customer|          29|     M|              0|       Graduate|       Married|    $40K - $60K|         Blue|            36|                       3|                     3|                    4|        1459|                590|            869|               1.164|           2229|            52|               1.08|                0.404|\n",
      "|Existing Customer|          48|     F|              1|    High School|        Single| Less than $40K|         Blue|            36|                       4|                     3|                    3|      1438.3|                812|          626.3|               0.667|           3868|            80|              0.702|                0.565|\n",
      "|Existing Customer|          53|     F|              1|    High School|        Single| Less than $40K|         Blue|            41|                       6|                     2|                    2|        8693|                796|           7897|               0.864|           4755|            69|              0.533|                0.092|\n",
      "|Existing Customer|          44|     F|              3|       Graduate|      Divorced|    $40K - $60K|         Blue|            38|                       3|                     2|                    2|        4269|               1852|           2417|               0.682|           4178|            75|               0.63|                0.434|\n",
      "|Existing Customer|          57|     F|              2|        Unknown|       Married| Less than $40K|         Blue|            49|                       5|                     3|                    1|        2679|               2011|            668|               0.466|           1723|            28|               0.75|                0.751|\n",
      "|Attrited Customer|          57|     F|              2|    High School|       Married|    $40K - $60K|         Blue|            45|                       2|                     1|                    3|      1438.3|                  0|         1438.3|               1.036|           1254|            35|              0.842|                    0|\n",
      "|Existing Customer|          44|     M|              5|    High School|        Single|    $60K - $80K|         Blue|            35|                       3|                     2|                    2|        5947|                995|           4952|               0.724|           4984|            90|              0.765|                0.167|\n",
      "|Existing Customer|          52|     M|              4|     Uneducated|       Married|   $80K - $120K|         Blue|            36|                       5|                     2|                    2|        7474|               2444|           5030|               0.619|           5100|            79|              0.717|                0.327|\n",
      "|Attrited Customer|          41|     M|              3|        Unknown|       Married|    $60K - $80K|       Silver|            29|                       1|                     3|                    4|       27945|                  0|          27945|               0.902|           8345|            70|              1.059|                    0|\n",
      "+-----------------+------------+------+---------------+---------------+--------------+---------------+-------------+--------------+------------------------+----------------------+---------------------+------------+-------------------+---------------+--------------------+---------------+--------------+-------------------+---------------------+\n",
      "only showing top 20 rows\n",
      "\n"
     ]
    }
   ],
   "source": [
    "df_pyspark.show()"
   ]
  },
  {
   "cell_type": "code",
   "execution_count": 37,
   "id": "21d6f481-732b-4c8b-a528-f922b5cbf50f",
   "metadata": {},
   "outputs": [
    {
     "data": {
      "text/plain": [
       "346"
      ]
     },
     "execution_count": 37,
     "metadata": {},
     "output_type": "execute_result"
    }
   ],
   "source": [
    "df_pyspark.count()"
   ]
  },
  {
   "cell_type": "markdown",
   "id": "96f89531-3438-49b9-981e-62959cfbacbc",
   "metadata": {},
   "source": [
    "### **Create New Column using Existing Column**\n",
    "---"
   ]
  },
  {
   "cell_type": "markdown",
   "id": "0c491e09-7047-47e2-b298-ee7558583468",
   "metadata": {},
   "source": [
    "- In Data Transformation, we can also create a new column using an existing column!\n",
    "- Why are we creating new information? There are so many reasons why we create new columns using existing columns, like:\n",
    "    - For enhancing data analysis\n",
    "    - Data Enrichment\n",
    "    - Capture more information\n",
    "    - and many more\n",
    "\n",
    "**Example Create New Column using Existing Column**\n",
    "\n",
    "<center>\n",
    "    <img src=\"https://sekolahdata-assets.s3.ap-southeast-1.amazonaws.com/notebook-images/mde-data-ingestion-spark/feature_engineering.png\">\n",
    "</center>"
   ]
  },
  {
   "cell_type": "markdown",
   "id": "8362a8a7-7658-4210-8fd5-943819e642da",
   "metadata": {},
   "source": [
    "---\n",
    "- In this section, we're going to use `data/materi_10/superstore.csv`\n",
    "- The first step, we're going to read the csv data"
   ]
  },
  {
   "cell_type": "code",
   "execution_count": 40,
   "id": "6a76c79a-4472-4c26-b7d2-f1d486fad4cd",
   "metadata": {},
   "outputs": [
    {
     "name": "stdout",
     "output_type": "stream",
     "text": [
      "+---------------+-----------+-------------+-----------+----------------+--------+------+-------------------+--------------+--------------+---------------+--------------------+-------+--------+------+------+-----+--------+-------------------+--------------+-------------+----------+------------+-------+\n",
      "|       Category|       City|      Country|Customer.ID|   Customer.Name|Discount|Market|         Order.Date|      Order.ID|Order.Priority|     Product.ID|        Product.Name| Profit|Quantity|Region|Row.ID|Sales| Segment|          Ship.Date|     Ship.Mode|Shipping.Cost|     State|Sub.Category|weeknum|\n",
      "+---------------+-----------+-------------+-----------+----------------+--------+------+-------------------+--------------+--------------+---------------+--------------------+-------+--------+------+------+-----+--------+-------------------+--------------+-------------+----------+------------+-------+\n",
      "|Office Supplies|Los Angeles|United States|  LS-172304|Lycoris Saunders|     0.0|    US|2011-01-07 00:00:00|CA-2011-130813|          High|OFF-PA-10002005|           Xerox 225| 9.3312|       3|  West| 36624|   19|Consumer|2011-01-09 00:00:00|  Second Class|         4.37|California|       Paper|      2|\n",
      "|Office Supplies|Los Angeles|United States|  MV-174854|   Mark Van Huff|     0.0|    US|2011-01-21 00:00:00|CA-2011-148614|        Medium|OFF-PA-10002893|\"Wirebound Servic...| 9.2928|       2|  West| 37033|   19|Consumer|2011-01-26 00:00:00|Standard Class|         0.94|California|       Paper|      4|\n",
      "|Office Supplies|Los Angeles|United States|  CS-121304|    Chad Sievert|     0.0|    US|2011-08-05 00:00:00|CA-2011-118962|        Medium|OFF-PA-10000659|Adams Phone Messa...| 9.8418|       3|  West| 31468|   21|Consumer|2011-08-09 00:00:00|Standard Class|         1.81|California|       Paper|     32|\n",
      "|Office Supplies|Los Angeles|United States|  CS-121304|    Chad Sievert|     0.0|    US|2011-08-05 00:00:00|CA-2011-118962|        Medium|OFF-PA-10001144|          Xerox 1913|53.2608|       2|  West| 31469|  111|Consumer|2011-08-09 00:00:00|Standard Class|         4.59|California|       Paper|     32|\n",
      "|Office Supplies|Los Angeles|United States|  AP-109154|  Arthur Prichep|     0.0|    US|2011-09-29 00:00:00|CA-2011-146969|          High|OFF-PA-10002105|           Xerox 223| 3.1104|       1|  West| 32440|    6|Consumer|2011-10-03 00:00:00|Standard Class|         1.32|California|       Paper|     40|\n",
      "+---------------+-----------+-------------+-----------+----------------+--------+------+-------------------+--------------+--------------+---------------+--------------------+-------+--------+------+------+-----+--------+-------------------+--------------+-------------+----------+------------+-------+\n",
      "only showing top 5 rows\n",
      "\n"
     ]
    }
   ],
   "source": [
    "df_superstore = spark \\\n",
    "                .read \\\n",
    "                .option(\"header\", \"true\") \\\n",
    "                .csv(\"../data/superstore.csv\")\n",
    "\n",
    "df_superstore.show(5)"
   ]
  },
  {
   "cell_type": "markdown",
   "id": "72556afd-323e-4bc5-aa9c-066a64bad15f",
   "metadata": {},
   "source": [
    "- Before we generate new columns, this is our workflow for this case:\n",
    "    1. Rename all the columns according to criteria.\n",
    "    2. Cast data types.\n",
    "    3. Create new columns based on existing columns.\n",
    "    4. Create new columns by extracting from existing columns."
   ]
  },
  {
   "cell_type": "markdown",
   "id": "c0672e54-f226-4bcb-95c2-b65dd5336702",
   "metadata": {},
   "source": [
    "**1. Rename all the columns**"
   ]
  },
  {
   "cell_type": "markdown",
   "id": "fe2ae380-58d8-4601-80cf-f939186547fc",
   "metadata": {},
   "source": [
    "- We want to rename all the columns, so we will use the method withColumnsRenamed().\n",
    "- Because we will rename all the columns, we will pass the old and new values using a Python dictionary.\n",
    "- These are the columns that we want to rename:\n",
    "    - `Category`: `category`\n",
    "    - `City`: `city`\n",
    "    - `Country`: `country`\n",
    "    - `Customer.ID`: `customer_id`\n",
    "    - `Customer.Name`: `customer_name`\n",
    "    - `Discount`: `discount`\n",
    "    - `Market`: `market`\n",
    "    - `Order.Date`: `order_date`\n",
    "    - `Order.ID`: `order_id`\n",
    "    - `Order.Priority`: `order_priority`\n",
    "    - `Product.ID`: `product_id`\n",
    "    - `Product.Name`: `product_name`\n",
    "    - `Profit`: `profit`\n",
    "    - `Quantity`: `quantity`\n",
    "    - `Region`: `region`\n",
    "    - `Row.ID`: `row_id`\n",
    "    - `Sales`: `sales`\n",
    "    - `Segment`: `segment`\n",
    "    - `Ship.Date`: `ship_date`\n",
    "    - `Ship.Mode`: `ship_mode`\n",
    "    - `Shipping.Cost`: `shipping_cost`\n",
    "    - `State`: `state`\n",
    "    - `Sub.Category`: `sub_category`\n",
    "    - `weeknum`: `week_num`"
   ]
  },
  {
   "cell_type": "code",
   "execution_count": 42,
   "id": "2c26ebca-5e63-494a-8085-df42936e68bd",
   "metadata": {},
   "outputs": [],
   "source": [
    "# create dictionary to rename columns\n",
    "RENAME_COLS = {\n",
    "    \"Category\": \"category\",\n",
    "    \"City\": \"city\",\n",
    "    \"Country\": \"country\",\n",
    "    \"Customer.ID\": \"customer_id\",\n",
    "    \"Customer.Name\": \"customer_name\",\n",
    "    \"Discount\": \"discount\",\n",
    "    \"Market\": \"market\",\n",
    "    \"Order.Date\": \"order_date\",\n",
    "    \"Order.ID\": \"order_id\",\n",
    "    \"Order.Priority\": \"order_priority\",\n",
    "    \"Product.ID\": \"product_id\",\n",
    "    \"Product.Name\": \"product_name\",\n",
    "    \"Profit\": \"profit\",\n",
    "    \"Quantity\": \"quantity\",\n",
    "    \"Region\": \"region\",\n",
    "    \"Row.ID\": \"row_id\",\n",
    "    \"Sales\": \"sales\",\n",
    "    \"Segment\": \"segment\",\n",
    "    \"Ship.Date\": \"ship_date\",\n",
    "    \"Ship.Mode\": \"ship_mode\",\n",
    "    \"Shipping.Cost\": \"shipping_cost\",\n",
    "    \"State\": \"state\",\n",
    "    \"Sub.Category\": \"sub_category\",\n",
    "    \"weeknum\": \"week_num\"\n",
    "}"
   ]
  },
  {
   "cell_type": "code",
   "execution_count": 43,
   "id": "6e498bea-7e12-428d-ad48-49d4c80595d6",
   "metadata": {},
   "outputs": [
    {
     "name": "stdout",
     "output_type": "stream",
     "text": [
      "+---------------+-----------+-------------+-----------+----------------+--------+------+-------------------+--------------+--------------+---------------+--------------------+-------+--------+------+------+-----+--------+-------------------+--------------+-------------+----------+------------+--------+\n",
      "|       category|       city|      country|customer_id|   customer_name|discount|market|         order_date|      order_id|order_priority|     product_id|        product_name| profit|quantity|region|row_id|sales| segment|          ship_date|     ship_mode|shipping_cost|     state|sub_category|week_num|\n",
      "+---------------+-----------+-------------+-----------+----------------+--------+------+-------------------+--------------+--------------+---------------+--------------------+-------+--------+------+------+-----+--------+-------------------+--------------+-------------+----------+------------+--------+\n",
      "|Office Supplies|Los Angeles|United States|  LS-172304|Lycoris Saunders|     0.0|    US|2011-01-07 00:00:00|CA-2011-130813|          High|OFF-PA-10002005|           Xerox 225| 9.3312|       3|  West| 36624|   19|Consumer|2011-01-09 00:00:00|  Second Class|         4.37|California|       Paper|       2|\n",
      "|Office Supplies|Los Angeles|United States|  MV-174854|   Mark Van Huff|     0.0|    US|2011-01-21 00:00:00|CA-2011-148614|        Medium|OFF-PA-10002893|\"Wirebound Servic...| 9.2928|       2|  West| 37033|   19|Consumer|2011-01-26 00:00:00|Standard Class|         0.94|California|       Paper|       4|\n",
      "|Office Supplies|Los Angeles|United States|  CS-121304|    Chad Sievert|     0.0|    US|2011-08-05 00:00:00|CA-2011-118962|        Medium|OFF-PA-10000659|Adams Phone Messa...| 9.8418|       3|  West| 31468|   21|Consumer|2011-08-09 00:00:00|Standard Class|         1.81|California|       Paper|      32|\n",
      "|Office Supplies|Los Angeles|United States|  CS-121304|    Chad Sievert|     0.0|    US|2011-08-05 00:00:00|CA-2011-118962|        Medium|OFF-PA-10001144|          Xerox 1913|53.2608|       2|  West| 31469|  111|Consumer|2011-08-09 00:00:00|Standard Class|         4.59|California|       Paper|      32|\n",
      "|Office Supplies|Los Angeles|United States|  AP-109154|  Arthur Prichep|     0.0|    US|2011-09-29 00:00:00|CA-2011-146969|          High|OFF-PA-10002105|           Xerox 223| 3.1104|       1|  West| 32440|    6|Consumer|2011-10-03 00:00:00|Standard Class|         1.32|California|       Paper|      40|\n",
      "+---------------+-----------+-------------+-----------+----------------+--------+------+-------------------+--------------+--------------+---------------+--------------------+-------+--------+------+------+-----+--------+-------------------+--------------+-------------+----------+------------+--------+\n",
      "only showing top 5 rows\n",
      "\n"
     ]
    }
   ],
   "source": [
    "# rename all the columns using .withColumnsRenamed()\n",
    "\n",
    "df_superstore = df_superstore.withColumnsRenamed(colsMap = RENAME_COLS)\n",
    "\n",
    "df_superstore.show(5)"
   ]
  },
  {
   "cell_type": "markdown",
   "id": "6a60bff9-c3ab-42dc-b2e2-ae095404c6be",
   "metadata": {},
   "source": [
    "**2. Casting Data Types**"
   ]
  },
  {
   "cell_type": "markdown",
   "id": "f920e897-382a-48e9-ab76-3dbd660a55a1",
   "metadata": {},
   "source": [
    "- There are some cases when values from columns are not in the correct data types.\n",
    "- To check the data types in each column, we can use the printSchema() method.\n",
    "\n",
    "**Syntax**\n",
    "\n",
    "```python\n",
    "df.printSchema()\n",
    "```\n",
    "\n",
    "**Example Output**\n",
    "\n",
    "<center>\n",
    "    <img src=\"https://sekolahdata-assets.s3.ap-southeast-1.amazonaws.com/notebook-images/mde-data-ingestion-spark/printSchema.png\">\n",
    "</center>\n",
    "\n",
    "- The output on the left side is the column names, and the other side shows the data types for each column."
   ]
  },
  {
   "cell_type": "code",
   "execution_count": 44,
   "id": "d021e77a-4c1e-4841-b7fb-744666ca42fc",
   "metadata": {},
   "outputs": [
    {
     "name": "stdout",
     "output_type": "stream",
     "text": [
      "root\n",
      " |-- category: string (nullable = true)\n",
      " |-- city: string (nullable = true)\n",
      " |-- country: string (nullable = true)\n",
      " |-- customer_id: string (nullable = true)\n",
      " |-- customer_name: string (nullable = true)\n",
      " |-- discount: string (nullable = true)\n",
      " |-- market: string (nullable = true)\n",
      " |-- order_date: string (nullable = true)\n",
      " |-- order_id: string (nullable = true)\n",
      " |-- order_priority: string (nullable = true)\n",
      " |-- product_id: string (nullable = true)\n",
      " |-- product_name: string (nullable = true)\n",
      " |-- profit: string (nullable = true)\n",
      " |-- quantity: string (nullable = true)\n",
      " |-- region: string (nullable = true)\n",
      " |-- row_id: string (nullable = true)\n",
      " |-- sales: string (nullable = true)\n",
      " |-- segment: string (nullable = true)\n",
      " |-- ship_date: string (nullable = true)\n",
      " |-- ship_mode: string (nullable = true)\n",
      " |-- shipping_cost: string (nullable = true)\n",
      " |-- state: string (nullable = true)\n",
      " |-- sub_category: string (nullable = true)\n",
      " |-- week_num: string (nullable = true)\n",
      "\n"
     ]
    }
   ],
   "source": [
    "df_superstore.printSchema()"
   ]
  },
  {
   "cell_type": "markdown",
   "id": "acc720e4-8c9b-40ce-a638-349d24477a77",
   "metadata": {},
   "source": [
    "- Turns out, there are some values of the columns are not in the correct data types\n",
    "- So, we must cast the data\n",
    "- To cast data types in PySpark, we can use method `withColumn()` to access all the column that we want to cast and use method `cast()` to cast the data type that we want\n",
    "\n",
    "**Syntax**\n",
    "\n",
    "```python\n",
    "df_pyspark.withColumn(col_name, df_pyspark[col_name].cast(data_type))\n",
    "```"
   ]
  },
  {
   "cell_type": "markdown",
   "id": "2649d443-2f18-4cb2-addb-2dd3ad16cb01",
   "metadata": {},
   "source": [
    "---\n",
    "- The columns that we want to cast are these columns:\n",
    "    - `discount`: `int`\n",
    "    - `profit`: `float`\n",
    "    - `quantity`: `int`\n",
    "    - `sales`: `int`\n",
    "    - `shipping_cost`: `float`\n",
    "    - `order_date`: `date`\n",
    "    - `ship_date`: `date`"
   ]
  },
  {
   "cell_type": "code",
   "execution_count": 48,
   "id": "6ec3f220-f8fe-468a-bbb2-fe5a75a1a801",
   "metadata": {},
   "outputs": [],
   "source": [
    "CAST_COLUMNS = {\n",
    "    \"discount\": \"int\",\n",
    "    \"profit\": \"float\",\n",
    "    \"quantity\": \"int\",\n",
    "    \"sales\": \"int\",\n",
    "    \"shipping_cost\": \"float\"\n",
    "}\n",
    "\n",
    "for col_name, data_type in CAST_COLUMNS.items():\n",
    "    df_superstore = df_superstore.withColumn(col_name, df_superstore[col_name].cast(data_type))"
   ]
  },
  {
   "cell_type": "code",
   "execution_count": 47,
   "id": "7f24201c-be25-4cce-bee1-598ce589cefe",
   "metadata": {},
   "outputs": [
    {
     "name": "stdout",
     "output_type": "stream",
     "text": [
      "root\n",
      " |-- category: string (nullable = true)\n",
      " |-- city: string (nullable = true)\n",
      " |-- country: string (nullable = true)\n",
      " |-- customer_id: string (nullable = true)\n",
      " |-- customer_name: string (nullable = true)\n",
      " |-- discount: integer (nullable = true)\n",
      " |-- market: string (nullable = true)\n",
      " |-- order_date: date (nullable = true)\n",
      " |-- order_id: string (nullable = true)\n",
      " |-- order_priority: string (nullable = true)\n",
      " |-- product_id: string (nullable = true)\n",
      " |-- product_name: string (nullable = true)\n",
      " |-- profit: float (nullable = true)\n",
      " |-- quantity: integer (nullable = true)\n",
      " |-- region: string (nullable = true)\n",
      " |-- row_id: string (nullable = true)\n",
      " |-- sales: integer (nullable = true)\n",
      " |-- segment: string (nullable = true)\n",
      " |-- ship_date: date (nullable = true)\n",
      " |-- ship_mode: string (nullable = true)\n",
      " |-- shipping_cost: float (nullable = true)\n",
      " |-- state: string (nullable = true)\n",
      " |-- sub_category: string (nullable = true)\n",
      " |-- week_num: string (nullable = true)\n",
      "\n"
     ]
    }
   ],
   "source": [
    "df_superstore.printSchema()"
   ]
  },
  {
   "cell_type": "markdown",
   "id": "187ec4fa-dade-4db5-823f-0a529f888021",
   "metadata": {},
   "source": [
    "- Then, to cast the data type in `date` it's a little bit different\n",
    "- We must use the specific method in PySpark called `to_date()` and we must import the functions first\n",
    "- Then, we must set the format of our date data type. In this case, we will use `yyyy-MM-dd` format\n",
    "- After that, we pass it to the `withColumn()` method like before\n",
    "\n",
    "**Syntax**\n",
    "\n",
    "```python\n",
    "from pyspark.sql.functions import to_date\n",
    "\n",
    "df_pyspark.withColumn(col_name, to_date(df_pyspark[col_name]), \"yyyy-MM-dd\")\n",
    "```"
   ]
  },
  {
   "cell_type": "code",
   "execution_count": 49,
   "id": "8935f4ff-6c87-455b-997d-3370454b70f6",
   "metadata": {},
   "outputs": [],
   "source": [
    "# import to_date method \n",
    "from pyspark.sql.functions import to_date"
   ]
  },
  {
   "cell_type": "markdown",
   "id": "c2fb8e92-ec6c-4983-8e9e-586e376de0c4",
   "metadata": {},
   "source": [
    "Now, we will cast `order_date` and `ship_date` to `date` data type"
   ]
  },
  {
   "cell_type": "code",
   "execution_count": 50,
   "id": "de64f31c-6320-43a2-82ce-9f870a404f06",
   "metadata": {},
   "outputs": [],
   "source": [
    "# cast order_date\n",
    "df_superstore = df_superstore.withColumn(\"order_date\", to_date(df_superstore[\"order_date\"], \"yyyy-MM-dd\"))\n",
    "\n",
    "# cast ship_date\n",
    "df_superstore = df_superstore.withColumn(\"ship_date\", to_date(df_superstore[\"ship_date\"], \"yyyy-MM-dd\"))"
   ]
  },
  {
   "cell_type": "code",
   "execution_count": 54,
   "id": "934b773e-dcb8-4438-8e69-61846796fb2d",
   "metadata": {},
   "outputs": [
    {
     "name": "stdout",
     "output_type": "stream",
     "text": [
      "+---------------+-----------+-------------+-----------+----------------+--------+------+----------+--------------+--------------+---------------+--------------------+-------+--------+------+------+-----+--------+----------+--------------+-------------+----------+------------+--------+\n",
      "|       category|       city|      country|customer_id|   customer_name|discount|market|order_date|      order_id|order_priority|     product_id|        product_name| profit|quantity|region|row_id|sales| segment| ship_date|     ship_mode|shipping_cost|     state|sub_category|week_num|\n",
      "+---------------+-----------+-------------+-----------+----------------+--------+------+----------+--------------+--------------+---------------+--------------------+-------+--------+------+------+-----+--------+----------+--------------+-------------+----------+------------+--------+\n",
      "|Office Supplies|Los Angeles|United States|  LS-172304|Lycoris Saunders|       0|    US|2011-01-07|CA-2011-130813|          High|OFF-PA-10002005|           Xerox 225| 9.3312|       3|  West| 36624|   19|Consumer|2011-01-09|  Second Class|         4.37|California|       Paper|       2|\n",
      "|Office Supplies|Los Angeles|United States|  MV-174854|   Mark Van Huff|       0|    US|2011-01-21|CA-2011-148614|        Medium|OFF-PA-10002893|\"Wirebound Servic...| 9.2928|       2|  West| 37033|   19|Consumer|2011-01-26|Standard Class|         0.94|California|       Paper|       4|\n",
      "|Office Supplies|Los Angeles|United States|  CS-121304|    Chad Sievert|       0|    US|2011-08-05|CA-2011-118962|        Medium|OFF-PA-10000659|Adams Phone Messa...| 9.8418|       3|  West| 31468|   21|Consumer|2011-08-09|Standard Class|         1.81|California|       Paper|      32|\n",
      "|Office Supplies|Los Angeles|United States|  CS-121304|    Chad Sievert|       0|    US|2011-08-05|CA-2011-118962|        Medium|OFF-PA-10001144|          Xerox 1913|53.2608|       2|  West| 31469|  111|Consumer|2011-08-09|Standard Class|         4.59|California|       Paper|      32|\n",
      "|Office Supplies|Los Angeles|United States|  AP-109154|  Arthur Prichep|       0|    US|2011-09-29|CA-2011-146969|          High|OFF-PA-10002105|           Xerox 223| 3.1104|       1|  West| 32440|    6|Consumer|2011-10-03|Standard Class|         1.32|California|       Paper|      40|\n",
      "+---------------+-----------+-------------+-----------+----------------+--------+------+----------+--------------+--------------+---------------+--------------------+-------+--------+------+------+-----+--------+----------+--------------+-------------+----------+------------+--------+\n",
      "only showing top 5 rows\n",
      "\n"
     ]
    }
   ],
   "source": [
    "df_superstore.show(5)"
   ]
  },
  {
   "cell_type": "code",
   "execution_count": 55,
   "id": "b734efa6-143c-4d83-858f-ffe8bdf28873",
   "metadata": {},
   "outputs": [
    {
     "name": "stdout",
     "output_type": "stream",
     "text": [
      "root\n",
      " |-- category: string (nullable = true)\n",
      " |-- city: string (nullable = true)\n",
      " |-- country: string (nullable = true)\n",
      " |-- customer_id: string (nullable = true)\n",
      " |-- customer_name: string (nullable = true)\n",
      " |-- discount: integer (nullable = true)\n",
      " |-- market: string (nullable = true)\n",
      " |-- order_date: date (nullable = true)\n",
      " |-- order_id: string (nullable = true)\n",
      " |-- order_priority: string (nullable = true)\n",
      " |-- product_id: string (nullable = true)\n",
      " |-- product_name: string (nullable = true)\n",
      " |-- profit: float (nullable = true)\n",
      " |-- quantity: integer (nullable = true)\n",
      " |-- region: string (nullable = true)\n",
      " |-- row_id: string (nullable = true)\n",
      " |-- sales: integer (nullable = true)\n",
      " |-- segment: string (nullable = true)\n",
      " |-- ship_date: date (nullable = true)\n",
      " |-- ship_mode: string (nullable = true)\n",
      " |-- shipping_cost: float (nullable = true)\n",
      " |-- state: string (nullable = true)\n",
      " |-- sub_category: string (nullable = true)\n",
      " |-- week_num: string (nullable = true)\n",
      "\n"
     ]
    }
   ],
   "source": [
    "df_superstore.printSchema()"
   ]
  },
  {
   "cell_type": "markdown",
   "id": "e9503abc-9ae8-4b9f-a6b6-f0984f57703c",
   "metadata": {},
   "source": [
    "**3. Create new columns based on existing columns**"
   ]
  },
  {
   "cell_type": "markdown",
   "id": "a13fd087-7826-40fd-bdce-a3f2691e1d58",
   "metadata": {},
   "source": [
    "---\n",
    "- Now, we will create a new column called `total_sales`\n",
    "- That column is generate by multiplying `quantity` with `sales`\n",
    "\n",
    "So, our formula to calculate `total_sales` is like this\n",
    "\n",
    "$$\n",
    "\\text{total\\_sales} = \\text{quantity} \\cdot \\text{sales}\n",
    "$$"
   ]
  },
  {
   "cell_type": "markdown",
   "id": "a3b3b271-f050-402d-808f-2060ba8524a6",
   "metadata": {},
   "source": [
    "- To generate new column `total_sales`, we can use `withColumn()` method\n",
    "- Then, we can do mathematical operation inside the method\n",
    "\n",
    "**Syntax**\n",
    "\n",
    "```python\n",
    "df_pyspark = df_pyspark.withColumn(col_name, df_pyspark[col_a] + df_pyspark[col_b])\n",
    "```"
   ]
  },
  {
   "cell_type": "code",
   "execution_count": 56,
   "id": "079a4355-b1c8-4d15-ad1a-154229bb51c6",
   "metadata": {},
   "outputs": [],
   "source": [
    "df_superstore = df_superstore.withColumn('total_sales', df_superstore['quantity']*df_superstore['sales'])"
   ]
  },
  {
   "cell_type": "code",
   "execution_count": 59,
   "id": "2089035d-0655-4849-9614-02163ddad688",
   "metadata": {},
   "outputs": [
    {
     "name": "stdout",
     "output_type": "stream",
     "text": [
      "+---------------+-----------+-------------+-----------+----------------+--------+------+----------+--------------+--------------+---------------+--------------------+-------+--------+------+------+-----+--------+----------+--------------+-------------+----------+------------+--------+-----------+\n",
      "|       category|       city|      country|customer_id|   customer_name|discount|market|order_date|      order_id|order_priority|     product_id|        product_name| profit|quantity|region|row_id|sales| segment| ship_date|     ship_mode|shipping_cost|     state|sub_category|week_num|total_sales|\n",
      "+---------------+-----------+-------------+-----------+----------------+--------+------+----------+--------------+--------------+---------------+--------------------+-------+--------+------+------+-----+--------+----------+--------------+-------------+----------+------------+--------+-----------+\n",
      "|Office Supplies|Los Angeles|United States|  LS-172304|Lycoris Saunders|       0|    US|2011-01-07|CA-2011-130813|          High|OFF-PA-10002005|           Xerox 225| 9.3312|       3|  West| 36624|   19|Consumer|2011-01-09|  Second Class|         4.37|California|       Paper|       2|         57|\n",
      "|Office Supplies|Los Angeles|United States|  MV-174854|   Mark Van Huff|       0|    US|2011-01-21|CA-2011-148614|        Medium|OFF-PA-10002893|\"Wirebound Servic...| 9.2928|       2|  West| 37033|   19|Consumer|2011-01-26|Standard Class|         0.94|California|       Paper|       4|         38|\n",
      "|Office Supplies|Los Angeles|United States|  CS-121304|    Chad Sievert|       0|    US|2011-08-05|CA-2011-118962|        Medium|OFF-PA-10000659|Adams Phone Messa...| 9.8418|       3|  West| 31468|   21|Consumer|2011-08-09|Standard Class|         1.81|California|       Paper|      32|         63|\n",
      "|Office Supplies|Los Angeles|United States|  CS-121304|    Chad Sievert|       0|    US|2011-08-05|CA-2011-118962|        Medium|OFF-PA-10001144|          Xerox 1913|53.2608|       2|  West| 31469|  111|Consumer|2011-08-09|Standard Class|         4.59|California|       Paper|      32|        222|\n",
      "|Office Supplies|Los Angeles|United States|  AP-109154|  Arthur Prichep|       0|    US|2011-09-29|CA-2011-146969|          High|OFF-PA-10002105|           Xerox 223| 3.1104|       1|  West| 32440|    6|Consumer|2011-10-03|Standard Class|         1.32|California|       Paper|      40|          6|\n",
      "+---------------+-----------+-------------+-----------+----------------+--------+------+----------+--------------+--------------+---------------+--------------------+-------+--------+------+------+-----+--------+----------+--------------+-------------+----------+------------+--------+-----------+\n",
      "only showing top 5 rows\n",
      "\n"
     ]
    }
   ],
   "source": [
    "df_superstore.show(5)"
   ]
  },
  {
   "cell_type": "markdown",
   "id": "c4028e5e-6d8b-4f9e-8b28-b490666cbc94",
   "metadata": {},
   "source": [
    "**4. Create new columns by extracting from existing columns**"
   ]
  },
  {
   "cell_type": "markdown",
   "id": "dec41af3-7b45-4983-ae3f-b8048e242961",
   "metadata": {},
   "source": [
    "---\n",
    "- For the last step, we will create new columns called `year_order`, `month_order`, and `day_order` by extracting data from column `order_date`\n",
    "- To do that, we can use functions that are already provided by PySpark called `year,` `month`, and `dayofmonth`\n",
    "\n",
    "**Example**\n",
    "\n",
    "```python\n",
    "from pyspark.sql.functions import year, month, dayofmonth\n",
    "\n",
    "# extract day\n",
    "df_pyspark.withColumn(new_col_name, dayofmonth(df_pyspark[col_name]))\n",
    "\n",
    "# extract month\n",
    "df_pyspark.withColumn(new_col_name, month(df_pyspark[col_name]))\n",
    "\n",
    "# extract year\n",
    "df_pyspark.withColumn(new_col_name, year(df_pyspark[col_name]))\n",
    "```"
   ]
  },
  {
   "cell_type": "code",
   "execution_count": 60,
   "id": "38681572-0324-4f8a-97d2-1b01f4d32409",
   "metadata": {},
   "outputs": [],
   "source": [
    "from pyspark.sql.functions import year, month, dayofmonth"
   ]
  },
  {
   "cell_type": "code",
   "execution_count": 62,
   "id": "5c7005a7-fa38-4f04-a4fd-4f429d2f8df1",
   "metadata": {},
   "outputs": [],
   "source": [
    "df_superstore = df_superstore.withColumn('year_order', year(df_superstore['order_date']))\n",
    "df_superstore = df_superstore.withColumn('month_order', month(df_superstore['order_date']))\n",
    "df_superstore = df_superstore.withColumn('day_order', dayofmonth(df_superstore['order_date']))"
   ]
  },
  {
   "cell_type": "code",
   "execution_count": 63,
   "id": "0c3d8ad8-fad7-4fb6-a586-14d591d79a51",
   "metadata": {},
   "outputs": [
    {
     "name": "stdout",
     "output_type": "stream",
     "text": [
      "+---------------+-----------+-------------+-----------+----------------+--------+------+----------+--------------+--------------+---------------+--------------------+-------+--------+------+------+-----+--------+----------+--------------+-------------+----------+------------+--------+-----------+----------+-----------+---------+\n",
      "|       category|       city|      country|customer_id|   customer_name|discount|market|order_date|      order_id|order_priority|     product_id|        product_name| profit|quantity|region|row_id|sales| segment| ship_date|     ship_mode|shipping_cost|     state|sub_category|week_num|total_sales|year_order|month_order|day_order|\n",
      "+---------------+-----------+-------------+-----------+----------------+--------+------+----------+--------------+--------------+---------------+--------------------+-------+--------+------+------+-----+--------+----------+--------------+-------------+----------+------------+--------+-----------+----------+-----------+---------+\n",
      "|Office Supplies|Los Angeles|United States|  LS-172304|Lycoris Saunders|       0|    US|2011-01-07|CA-2011-130813|          High|OFF-PA-10002005|           Xerox 225| 9.3312|       3|  West| 36624|   19|Consumer|2011-01-09|  Second Class|         4.37|California|       Paper|       2|         57|      2011|          1|        7|\n",
      "|Office Supplies|Los Angeles|United States|  MV-174854|   Mark Van Huff|       0|    US|2011-01-21|CA-2011-148614|        Medium|OFF-PA-10002893|\"Wirebound Servic...| 9.2928|       2|  West| 37033|   19|Consumer|2011-01-26|Standard Class|         0.94|California|       Paper|       4|         38|      2011|          1|       21|\n",
      "|Office Supplies|Los Angeles|United States|  CS-121304|    Chad Sievert|       0|    US|2011-08-05|CA-2011-118962|        Medium|OFF-PA-10000659|Adams Phone Messa...| 9.8418|       3|  West| 31468|   21|Consumer|2011-08-09|Standard Class|         1.81|California|       Paper|      32|         63|      2011|          8|        5|\n",
      "|Office Supplies|Los Angeles|United States|  CS-121304|    Chad Sievert|       0|    US|2011-08-05|CA-2011-118962|        Medium|OFF-PA-10001144|          Xerox 1913|53.2608|       2|  West| 31469|  111|Consumer|2011-08-09|Standard Class|         4.59|California|       Paper|      32|        222|      2011|          8|        5|\n",
      "|Office Supplies|Los Angeles|United States|  AP-109154|  Arthur Prichep|       0|    US|2011-09-29|CA-2011-146969|          High|OFF-PA-10002105|           Xerox 223| 3.1104|       1|  West| 32440|    6|Consumer|2011-10-03|Standard Class|         1.32|California|       Paper|      40|          6|      2011|          9|       29|\n",
      "+---------------+-----------+-------------+-----------+----------------+--------+------+----------+--------------+--------------+---------------+--------------------+-------+--------+------+------+-----+--------+----------+--------------+-------------+----------+------------+--------+-----------+----------+-----------+---------+\n",
      "only showing top 5 rows\n",
      "\n"
     ]
    }
   ],
   "source": [
    "df_superstore.show(5)"
   ]
  },
  {
   "cell_type": "markdown",
   "id": "f48f641d-ffdb-4bb0-8878-8e8bc307513d",
   "metadata": {},
   "source": [
    "### **Impute Missing Values**\n",
    "---"
   ]
  },
  {
   "cell_type": "markdown",
   "id": "7aff060b-5525-4291-b6ad-d4914620f156",
   "metadata": {},
   "source": [
    "- There is a possibility that our data contains missing values.\n",
    "- The common reasons for missing values are:\n",
    "    - Errors during data collection\n",
    "    - Corruption or errors in the database\n",
    "    - Missing values on purpose\n",
    "\n",
    "**Example of Missing Values**\n",
    "\n",
    "<center>\n",
    "    \n",
    "<img src=\"https://sekolahdata-assets.s3.ap-southeast-1.amazonaws.com/notebook-images/mde-intro-to-data-eng/7-1.png\" alt=\"Drawing\" width= 500px;/>\n",
    "<centeig"
   ]
  },
  {
   "cell_type": "markdown",
   "id": "7b9e7532-7cda-4d69-862b-60e023e9f733",
   "metadata": {},
   "source": [
    "- When we have missing values in our data, it can affect the Analysis result created by the Business Team\n",
    "- So, as Data Engineer we must make sure that our data in the Data Pipeline does not contain missing values if those values can affect the analysis"
   ]
  },
  {
   "cell_type": "markdown",
   "id": "1af8c4c6-7a01-476b-902c-9273abf711c8",
   "metadata": {},
   "source": [
    "---\n",
    "In this section, we're going handle missing values in this data `data/materi_10/bank_churners.csv`"
   ]
  },
  {
   "cell_type": "code",
   "execution_count": 69,
   "id": "10080d3e-ce19-4400-9446-6038aee0661f",
   "metadata": {},
   "outputs": [
    {
     "name": "stdout",
     "output_type": "stream",
     "text": [
      "+-----------------+------------+------+---------------+---------------+--------------+---------------+-------------+--------------+------------------------+----------------------+---------------------+------------+-------------------+---------------+--------------------+---------------+--------------+-------------------+---------------------+\n",
      "|   Attrition_Flag|Customer_Age|Gender|Dependent_count|Education_Level|Marital_Status|Income_Category|Card_Category|Months_on_book|Total_Relationship_Count|Months_Inactive_12_mon|Contacts_Count_12_mon|Credit_Limit|Total_Revolving_Bal|Avg_Open_To_Buy|Total_Amt_Chng_Q4_Q1|Total_Trans_Amt|Total_Trans_Ct|Total_Ct_Chng_Q4_Q1|Avg_Utilization_Ratio|\n",
      "+-----------------+------------+------+---------------+---------------+--------------+---------------+-------------+--------------+------------------------+----------------------+---------------------+------------+-------------------+---------------+--------------------+---------------+--------------+-------------------+---------------------+\n",
      "|Existing Customer|          45|     M|              3|    High School|       Married|    $60K - $80K|         Blue|            39|                       5|                     1|                    3|       12691|                777|          11914|               1.335|           1144|            42|              1.625|                0.061|\n",
      "|Existing Customer|          49|     F|              5|       Graduate|        Single| Less than $40K|         Blue|            44|                       6|                     1|                    2|        8256|                864|           7392|               1.541|           1291|            33|              3.714|                0.105|\n",
      "|Existing Customer|          51|     M|              3|       Graduate|       Married|   $80K - $120K|         Blue|            36|                       4|                     1|                    0|        3418|                  0|           3418|               2.594|           1887|            20|              2.333|                    0|\n",
      "|Existing Customer|          40|     F|              4|    High School|       Unknown| Less than $40K|         Blue|            34|                       3|                     4|                    1|        3313|               2517|            796|               1.405|           1171|            20|              2.333|                 0.76|\n",
      "|Existing Customer|          40|     M|              3|     Uneducated|       Married|    $60K - $80K|         Blue|            21|                       5|                     1|                    0|        4716|                  0|           4716|               2.175|            816|            28|                2.5|                    0|\n",
      "+-----------------+------------+------+---------------+---------------+--------------+---------------+-------------+--------------+------------------------+----------------------+---------------------+------------+-------------------+---------------+--------------------+---------------+--------------+-------------------+---------------------+\n",
      "only showing top 5 rows\n",
      "\n"
     ]
    }
   ],
   "source": [
    "df_churners.show(5)"
   ]
  },
  {
   "cell_type": "markdown",
   "id": "a222b006-29f0-46b1-a4bf-38c7f93384e3",
   "metadata": {},
   "source": [
    "- To detect is there any missing values or not we can use `.isNull()` method then count the missing values data\n",
    "\n",
    "**Syntax**\n",
    "\n",
    "```python\n",
    "# create variable to store the columns name\n",
    "get_cols_name = df_pyspark.columns\n",
    "\n",
    "# iterate to each column data then check the missing values\n",
    "for col in get_cols_name:\n",
    "    # store the missing count value\n",
    "    missing_count = df_spark.filter(df_spark[col].isNull()).count()\n",
    "\n",
    "    # create branching to get the column name that contains missing values\n",
    "    if missing_count > 0:\n",
    "        print(f\"Column {col} has {missing_count} missing values\")\n",
    "```"
   ]
  },
  {
   "cell_type": "code",
   "execution_count": 71,
   "id": "386c6092-9bb3-4480-855f-6e8b0b8bb99e",
   "metadata": {},
   "outputs": [
    {
     "name": "stdout",
     "output_type": "stream",
     "text": [
      "['Attrition_Flag', 'Customer_Age', 'Gender', 'Dependent_count', 'Education_Level', 'Marital_Status', 'Income_Category', 'Card_Category', 'Months_on_book', 'Total_Relationship_Count', 'Months_Inactive_12_mon', 'Contacts_Count_12_mon', 'Credit_Limit', 'Total_Revolving_Bal', 'Avg_Open_To_Buy', 'Total_Amt_Chng_Q4_Q1', 'Total_Trans_Amt', 'Total_Trans_Ct', 'Total_Ct_Chng_Q4_Q1', 'Avg_Utilization_Ratio']\n"
     ]
    }
   ],
   "source": [
    "# get cols \n",
    "get_columns_name = df_churners.columns\n",
    "print(get_columns_name)"
   ]
  },
  {
   "cell_type": "code",
   "execution_count": 74,
   "id": "29370d16-082f-4473-bfe2-8b9d0d99babe",
   "metadata": {},
   "outputs": [
    {
     "name": "stdout",
     "output_type": "stream",
     "text": [
      "Column Education_Level has 109 missing values\n",
      "Column Income_Category has 37 missing values\n"
     ]
    }
   ],
   "source": [
    "for col in get_columns_name:\n",
    "    missing_val = df_churners.filter(df_churners[col].isNull()).count()\n",
    "\n",
    "    if missing_val > 0:\n",
    "        print(f\"Column {col} has {missing_val} missing values\")"
   ]
  },
  {
   "cell_type": "code",
   "execution_count": 75,
   "id": "c2fdb265-c690-4aba-a8db-581662c713db",
   "metadata": {},
   "outputs": [
    {
     "name": "stdout",
     "output_type": "stream",
     "text": [
      "root\n",
      " |-- Attrition_Flag: string (nullable = true)\n",
      " |-- Customer_Age: string (nullable = true)\n",
      " |-- Gender: string (nullable = true)\n",
      " |-- Dependent_count: string (nullable = true)\n",
      " |-- Education_Level: string (nullable = true)\n",
      " |-- Marital_Status: string (nullable = true)\n",
      " |-- Income_Category: string (nullable = true)\n",
      " |-- Card_Category: string (nullable = true)\n",
      " |-- Months_on_book: string (nullable = true)\n",
      " |-- Total_Relationship_Count: string (nullable = true)\n",
      " |-- Months_Inactive_12_mon: string (nullable = true)\n",
      " |-- Contacts_Count_12_mon: string (nullable = true)\n",
      " |-- Credit_Limit: string (nullable = true)\n",
      " |-- Total_Revolving_Bal: string (nullable = true)\n",
      " |-- Avg_Open_To_Buy: string (nullable = true)\n",
      " |-- Total_Amt_Chng_Q4_Q1: string (nullable = true)\n",
      " |-- Total_Trans_Amt: string (nullable = true)\n",
      " |-- Total_Trans_Ct: string (nullable = true)\n",
      " |-- Total_Ct_Chng_Q4_Q1: string (nullable = true)\n",
      " |-- Avg_Utilization_Ratio: string (nullable = true)\n",
      "\n"
     ]
    }
   ],
   "source": [
    "df_churners.printSchema()"
   ]
  },
  {
   "cell_type": "markdown",
   "id": "2ab715d1-6762-479b-8385-77d180f4bd48",
   "metadata": {},
   "source": [
    "---\n",
    "- Ok, we got two columns that contain missing values `Educational_Level` and `Income_Category`\n",
    "- As we can see, the columns are categorical data\n",
    "- If categorical data, we will impute or fill in the missing values using the value `UNKNOWN`"
   ]
  },
  {
   "cell_type": "code",
   "execution_count": 76,
   "id": "a080322b-0c91-4be4-9047-7ba98abb0999",
   "metadata": {},
   "outputs": [
    {
     "name": "stdout",
     "output_type": "stream",
     "text": [
      "+---------------+\n",
      "|Education_Level|\n",
      "+---------------+\n",
      "|    High School|\n",
      "|       Graduate|\n",
      "|       Graduate|\n",
      "|    High School|\n",
      "+---------------+\n",
      "only showing top 4 rows\n",
      "\n"
     ]
    }
   ],
   "source": [
    "df_churners[['Education_Level']].show(4)"
   ]
  },
  {
   "cell_type": "code",
   "execution_count": 77,
   "id": "3437fcba-a9f9-4a18-887e-17bb2f74f75b",
   "metadata": {},
   "outputs": [
    {
     "name": "stdout",
     "output_type": "stream",
     "text": [
      "+---------------+\n",
      "|Income_Category|\n",
      "+---------------+\n",
      "|    $60K - $80K|\n",
      "| Less than $40K|\n",
      "|   $80K - $120K|\n",
      "| Less than $40K|\n",
      "+---------------+\n",
      "only showing top 4 rows\n",
      "\n"
     ]
    }
   ],
   "source": [
    "df_churners[['Income_Category']].show(4)"
   ]
  },
  {
   "cell_type": "markdown",
   "id": "2082628f-c906-40b2-b8bf-a90b4721c862",
   "metadata": {},
   "source": [
    "To impute the missing values, we can use method `na.fill({col_name: impute_value})`\n",
    "\n",
    "**Syntax**\n",
    "\n",
    "```python\n",
    "df_spark.na.fill({col_name_1: impute_value_1, col_name_2: impute_value_2})\n",
    "```"
   ]
  },
  {
   "cell_type": "code",
   "execution_count": 78,
   "id": "63830ce7-3b68-408a-8ed4-d71328c5a738",
   "metadata": {},
   "outputs": [
    {
     "name": "stdout",
     "output_type": "stream",
     "text": [
      "+-----------------+------------+------+---------------+---------------+--------------+---------------+-------------+--------------+------------------------+----------------------+---------------------+------------+-------------------+---------------+--------------------+---------------+--------------+-------------------+---------------------+\n",
      "|   Attrition_Flag|Customer_Age|Gender|Dependent_count|Education_Level|Marital_Status|Income_Category|Card_Category|Months_on_book|Total_Relationship_Count|Months_Inactive_12_mon|Contacts_Count_12_mon|Credit_Limit|Total_Revolving_Bal|Avg_Open_To_Buy|Total_Amt_Chng_Q4_Q1|Total_Trans_Amt|Total_Trans_Ct|Total_Ct_Chng_Q4_Q1|Avg_Utilization_Ratio|\n",
      "+-----------------+------------+------+---------------+---------------+--------------+---------------+-------------+--------------+------------------------+----------------------+---------------------+------------+-------------------+---------------+--------------------+---------------+--------------+-------------------+---------------------+\n",
      "|Existing Customer|          45|     M|              3|    High School|       Married|    $60K - $80K|         Blue|            39|                       5|                     1|                    3|       12691|                777|          11914|               1.335|           1144|            42|              1.625|                0.061|\n",
      "|Existing Customer|          49|     F|              5|       Graduate|        Single| Less than $40K|         Blue|            44|                       6|                     1|                    2|        8256|                864|           7392|               1.541|           1291|            33|              3.714|                0.105|\n",
      "|Existing Customer|          51|     M|              3|       Graduate|       Married|   $80K - $120K|         Blue|            36|                       4|                     1|                    0|        3418|                  0|           3418|               2.594|           1887|            20|              2.333|                    0|\n",
      "|Existing Customer|          40|     F|              4|    High School|       Unknown| Less than $40K|         Blue|            34|                       3|                     4|                    1|        3313|               2517|            796|               1.405|           1171|            20|              2.333|                 0.76|\n",
      "+-----------------+------------+------+---------------+---------------+--------------+---------------+-------------+--------------+------------------------+----------------------+---------------------+------------+-------------------+---------------+--------------------+---------------+--------------+-------------------+---------------------+\n",
      "only showing top 4 rows\n",
      "\n"
     ]
    }
   ],
   "source": [
    "df_churners = df_churners.na.fill({\"Education_Level\": \"UNKNOWN\", \"Income_Category\": \"UNKNOWN\"})\n",
    "df_churners.show(4)"
   ]
  },
  {
   "cell_type": "markdown",
   "id": "e988decd-f4be-4333-bf9e-2aedd73fa00e",
   "metadata": {},
   "source": [
    "Now, we validate if the data is already impute or not "
   ]
  },
  {
   "cell_type": "code",
   "execution_count": 83,
   "id": "77034295-bb1c-452d-a67b-9416200e6a11",
   "metadata": {},
   "outputs": [
    {
     "name": "stdout",
     "output_type": "stream",
     "text": [
      "+-----------------+------------+------+---------------+---------------+--------------+---------------+-------------+--------------+------------------------+----------------------+---------------------+------------+-------------------+---------------+--------------------+---------------+--------------+-------------------+---------------------+\n",
      "|   Attrition_Flag|Customer_Age|Gender|Dependent_count|Education_Level|Marital_Status|Income_Category|Card_Category|Months_on_book|Total_Relationship_Count|Months_Inactive_12_mon|Contacts_Count_12_mon|Credit_Limit|Total_Revolving_Bal|Avg_Open_To_Buy|Total_Amt_Chng_Q4_Q1|Total_Trans_Amt|Total_Trans_Ct|Total_Ct_Chng_Q4_Q1|Avg_Utilization_Ratio|\n",
      "+-----------------+------------+------+---------------+---------------+--------------+---------------+-------------+--------------+------------------------+----------------------+---------------------+------------+-------------------+---------------+--------------------+---------------+--------------+-------------------+---------------------+\n",
      "|Existing Customer|          48|     M|              2|        UNKNOWN|        Single|   $80K - $120K|         Blue|            36|                       6|                     3|                    3|       11656|               1677|           9979|               1.524|           1441|            32|              0.882|                0.144|\n",
      "+-----------------+------------+------+---------------+---------------+--------------+---------------+-------------+--------------+------------------------+----------------------+---------------------+------------+-------------------+---------------+--------------------+---------------+--------------+-------------------+---------------------+\n",
      "only showing top 1 row\n",
      "\n"
     ]
    }
   ],
   "source": [
    "df_churners.filter(\"Education_Level = 'UNKNOWN'\").show(1)"
   ]
  }
 ],
 "metadata": {
  "kernelspec": {
   "display_name": "Python 3 (ipykernel)",
   "language": "python",
   "name": "python3"
  },
  "language_info": {
   "codemirror_mode": {
    "name": "ipython",
    "version": 3
   },
   "file_extension": ".py",
   "mimetype": "text/x-python",
   "name": "python",
   "nbconvert_exporter": "python",
   "pygments_lexer": "ipython3",
   "version": "3.11.6"
  }
 },
 "nbformat": 4,
 "nbformat_minor": 5
}

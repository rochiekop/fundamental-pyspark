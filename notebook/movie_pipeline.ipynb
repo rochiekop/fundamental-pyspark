{
 "cells": [
  {
   "cell_type": "markdown",
   "id": "c43d80aa-0a4a-4dc3-aba3-d140f0acfe0f",
   "metadata": {},
   "source": [
    "# <font color='blue'>Data Pipeline using PySpark\n",
    "---"
   ]
  },
  {
   "cell_type": "markdown",
   "id": "28b7f97e-a27f-437e-9a0d-68a8d0039e17",
   "metadata": {},
   "source": [
    "**Outline**\n",
    "\n",
    "1. Review:\n",
    "    - Introduction to Apache Spark & PySpark I\n",
    "    - Introduction to Apache Spark & PySpark II\n",
    "2. Case Study: Data Pipeline Movie Data"
   ]
  },
  {
   "cell_type": "markdown",
   "id": "5919dee0-7197-4a27-bf97-f2513b0294a3",
   "metadata": {},
   "source": [
    "### **Create Spark Session**\n",
    "---"
   ]
  },
  {
   "cell_type": "markdown",
   "id": "00c3f895-036e-4e90-bd4f-61fff0697658",
   "metadata": {},
   "source": [
    "We're going to name the session as `\"Data Pipeline using PySpark\"`"
   ]
  },
  {
   "cell_type": "code",
   "execution_count": 1,
   "id": "a85dd3c1-8b51-4f97-b330-c30c14cd98cc",
   "metadata": {},
   "outputs": [],
   "source": [
    "# import library\n",
    "import pyspark"
   ]
  },
  {
   "cell_type": "code",
   "execution_count": 2,
   "id": "b07fba06-3efe-4a2d-9021-68617df0844d",
   "metadata": {},
   "outputs": [],
   "source": [
    "import pyspark\n",
    "from pyspark.sql import SparkSession"
   ]
  },
  {
   "cell_type": "code",
   "execution_count": 3,
   "id": "70f538ad-066f-4290-a452-1436a11f6780",
   "metadata": {},
   "outputs": [],
   "source": [
    "spark = SparkSession \\\n",
    "    .builder \\\n",
    "    .config(\"spark.jars.packages\", \"org.postgresql:postgresql:42.6.0\") \\\n",
    "    .appName(\"Data Pipeline using PySpark\") \\\n",
    "    .getOrCreate()"
   ]
  },
  {
   "cell_type": "code",
   "execution_count": 4,
   "id": "50d8fa03-f3f6-47fd-83ef-48823c9a99ed",
   "metadata": {},
   "outputs": [
    {
     "data": {
      "text/html": [
       "\n",
       "            <div>\n",
       "                <p><b>SparkSession - in-memory</b></p>\n",
       "                \n",
       "        <div>\n",
       "            <p><b>SparkContext</b></p>\n",
       "\n",
       "            <p><a href=\"http://pyspark:4040\">Spark UI</a></p>\n",
       "\n",
       "            <dl>\n",
       "              <dt>Version</dt>\n",
       "                <dd><code>v3.5.0</code></dd>\n",
       "              <dt>Master</dt>\n",
       "                <dd><code>local[*]</code></dd>\n",
       "              <dt>AppName</dt>\n",
       "                <dd><code>Data Pipeline using PySpark</code></dd>\n",
       "            </dl>\n",
       "        </div>\n",
       "        \n",
       "            </div>\n",
       "        "
      ],
      "text/plain": [
       "<pyspark.sql.session.SparkSession at 0x7fe0c0fbd650>"
      ]
     },
     "execution_count": 4,
     "metadata": {},
     "output_type": "execute_result"
    }
   ],
   "source": [
    "spark"
   ]
  },
  {
   "cell_type": "markdown",
   "id": "90257aef-d617-4898-8e5a-e89ca8b69e31",
   "metadata": {},
   "source": [
    "### **1. Extract Process**\n",
    "---"
   ]
  },
  {
   "cell_type": "markdown",
   "id": "9b4c516a-a065-48e0-b9f9-a13f360ce9b7",
   "metadata": {},
   "source": [
    "#### **1a**\n",
    "---"
   ]
  },
  {
   "cell_type": "markdown",
   "id": "d238df96-1253-4716-bb07-0e99d8828b34",
   "metadata": {},
   "source": [
    "- Read the csv data first in `data/ratings.csv` using PySpark\n",
    "- Save it to `df_ratings` variable"
   ]
  },
  {
   "cell_type": "code",
   "execution_count": 5,
   "id": "7d87b9d2-0d83-4a02-80aa-1f02db1ff1ae",
   "metadata": {},
   "outputs": [],
   "source": [
    "def read_data_csv(PATH:str,filename:str):\n",
    "    try:\n",
    "        \"\"\"\n",
    "            Function to read data from csv file \n",
    "        \"\"\"\n",
    "        data = spark.read.option(\"header\", \"true\").csv(DATA_PATH + filename) \n",
    "        return data\n",
    "    except Exception as e:\n",
    "        print(f\"ERROR : {e}\")    "
   ]
  },
  {
   "cell_type": "code",
   "execution_count": 6,
   "id": "55ddf19c-96b6-4b75-8c58-f69823a07394",
   "metadata": {},
   "outputs": [
    {
     "name": "stdout",
     "output_type": "stream",
     "text": [
      "+------+-------+------+----------+\n",
      "|userId|movieId|rating| timestamp|\n",
      "+------+-------+------+----------+\n",
      "|     1|    110|   1.0|1425941529|\n",
      "|     1|    147|   4.5|1425942435|\n",
      "|     1|    858|   5.0|1425941523|\n",
      "+------+-------+------+----------+\n",
      "only showing top 3 rows\n",
      "\n"
     ]
    }
   ],
   "source": [
    "DATA_PATH = '../data/'\n",
    "filename = 'ratings.csv'\n",
    "df_ratings = read_data_csv(DATA_PATH, filename)\n",
    "df_ratings.show(3)"
   ]
  },
  {
   "cell_type": "code",
   "execution_count": 7,
   "id": "39e848f9-4a6f-463a-a39d-93655894b343",
   "metadata": {},
   "outputs": [
    {
     "data": {
      "text/plain": [
       "26024289"
      ]
     },
     "execution_count": 7,
     "metadata": {},
     "output_type": "execute_result"
    }
   ],
   "source": [
    "df_ratings.count()"
   ]
  },
  {
   "cell_type": "markdown",
   "id": "0b45db72-5298-4eff-a93b-4429b752f805",
   "metadata": {},
   "source": [
    "#### **1b**\n",
    "---"
   ]
  },
  {
   "cell_type": "code",
   "execution_count": 8,
   "id": "80981f17-4b00-40ce-9695-ca71f0f6458b",
   "metadata": {},
   "outputs": [
    {
     "name": "stdout",
     "output_type": "stream",
     "text": [
      "Collecting python-dotenv\n",
      "  Downloading python_dotenv-1.1.1-py3-none-any.whl.metadata (24 kB)\n",
      "Downloading python_dotenv-1.1.1-py3-none-any.whl (20 kB)\n",
      "Installing collected packages: python-dotenv\n",
      "Successfully installed python-dotenv-1.1.1\n",
      "Note: you may need to restart the kernel to use updated packages.\n"
     ]
    }
   ],
   "source": [
    "pip install python-dotenv"
   ]
  },
  {
   "cell_type": "code",
   "execution_count": 9,
   "id": "45f6aa5d-2980-40ef-afb7-c9a8c5855d31",
   "metadata": {},
   "outputs": [],
   "source": [
    "from dotenv import load_dotenv\n",
    "import os"
   ]
  },
  {
   "cell_type": "code",
   "execution_count": 10,
   "id": "c8db6b8e-561f-4355-9455-4185fdc3cfd1",
   "metadata": {},
   "outputs": [],
   "source": [
    "# Load .env file\n",
    "load_dotenv()\n",
    "\n",
    "# Access variables\n",
    "db_host = os.getenv(\"POSTGRES_URL_MOVIE\")\n",
    "db_name = os.getenv(\"POSTGRES_DB_MOVIE\")\n",
    "db_user = os.getenv(\"POSTGRES_USER_MOVIE\")\n",
    "db_pass = os.getenv(\"POSTGRES_PASSWORD_MOVIE\")\n",
    "conn_properties = {\n",
    "    \"user\": db_user,\n",
    "    \"password\": db_pass,\n",
    "    \"driver\": \"org.postgresql.Driver\" # set driver postgres\n",
    "}"
   ]
  },
  {
   "cell_type": "code",
   "execution_count": 11,
   "id": "8959ed99-3829-48aa-a211-698e9a479223",
   "metadata": {},
   "outputs": [],
   "source": [
    "TABLE_NAME = 'movies_metadata'\n",
    "df_metadata = spark.read.jdbc(url=db_host,table = TABLE_NAME, properties=conn_properties)"
   ]
  },
  {
   "cell_type": "code",
   "execution_count": 12,
   "id": "853eca08-6721-4634-9976-635726b9311c",
   "metadata": {},
   "outputs": [
    {
     "name": "stdout",
     "output_type": "stream",
     "text": [
      "-RECORD 0------------------------------------------------------------------------------------------------------------------------------------------------------------------------------------------------------------------------------------------------------------------------------------------------------------------------------------------------------------------------------------------------------------------------------------------------------------------------------------------------------\n",
      " adult                 | False                                                                                                                                                                                                                                                                                                                                                                                                                                                                                 \n",
      " belongs_to_collection |                                                                                                                                                                                                                                                                                                                                                                                                                                                                                       \n",
      " budget                | 28000000                                                                                                                                                                                                                                                                                                                                                                                                                                                                              \n",
      " genres                | [{'id': 12, 'name': 'Adventure'}]                                                                                                                                                                                                                                                                                                                                                                                                                                                     \n",
      " homepage              |                                                                                                                                                                                                                                                                                                                                                                                                                                                                                       \n",
      " id                    | 11780                                                                                                                                                                                                                                                                                                                                                                                                                                                                                 \n",
      " imdb_id               | tt0114287                                                                                                                                                                                                                                                                                                                                                                                                                                                                             \n",
      " original_language     | en                                                                                                                                                                                                                                                                                                                                                                                                                                                                                    \n",
      " original_title        | Rob Roy                                                                                                                                                                                                                                                                                                                                                                                                                                                                               \n",
      " overview              | In the highlands of Scotland in the 1700s, Rob Roy tries to lead his small town to a better future, by borrowing money from the local nobility to buy cattle to herd to market. When the money is stolen, Rob is forced into a Robin Hood lifestyle to defend his family and honour.                                                                                                                                                                                                  \n",
      " popularity            | 10.193549                                                                                                                                                                                                                                                                                                                                                                                                                                                                             \n",
      " poster_path           | /8O52wIIbskNl9kZnGvP9Gi4A2oN.jpg                                                                                                                                                                                                                                                                                                                                                                                                                                                      \n",
      " production_companies  | [{'name': 'United Artists', 'id': 60}, {'name': 'Talisman Productions', 'id': 8989}]                                                                                                                                                                                                                                                                                                                                                                                                  \n",
      " production_countries  | [{'iso_3166_1': 'GB', 'name': 'United Kingdom'}, {'iso_3166_1': 'US', 'name': 'United States of America'}]                                                                                                                                                                                                                                                                                                                                                                            \n",
      " release_date          | 1995-04-13                                                                                                                                                                                                                                                                                                                                                                                                                                                                            \n",
      " revenue               | 31596911                                                                                                                                                                                                                                                                                                                                                                                                                                                                              \n",
      " runtime               | 139.0                                                                                                                                                                                                                                                                                                                                                                                                                                                                                 \n",
      " spoken_languages      | [{'iso_639_1': 'en', 'name': 'English'}]                                                                                                                                                                                                                                                                                                                                                                                                                                              \n",
      " status                | Released                                                                                                                                                                                                                                                                                                                                                                                                                                                                              \n",
      " tagline               | Honor made him a man. Courage made him a hero. History made him a legend.                                                                                                                                                                                                                                                                                                                                                                                                             \n",
      " title                 | Rob Roy                                                                                                                                                                                                                                                                                                                                                                                                                                                                               \n",
      " video                 | False                                                                                                                                                                                                                                                                                                                                                                                                                                                                                 \n",
      " vote_average          | 6.5                                                                                                                                                                                                                                                                                                                                                                                                                                                                                   \n",
      " vote_count            | 151                                                                                                                                                                                                                                                                                                                                                                                                                                                                                   \n",
      "-RECORD 1------------------------------------------------------------------------------------------------------------------------------------------------------------------------------------------------------------------------------------------------------------------------------------------------------------------------------------------------------------------------------------------------------------------------------------------------------------------------------------------------------\n",
      " adult                 | False                                                                                                                                                                                                                                                                                                                                                                                                                                                                                 \n",
      " belongs_to_collection |                                                                                                                                                                                                                                                                                                                                                                                                                                                                                       \n",
      " budget                | 0                                                                                                                                                                                                                                                                                                                                                                                                                                                                                     \n",
      " genres                | [{'id': 18, 'name': 'Drama'}, {'id': 27, 'name': 'Horror'}]                                                                                                                                                                                                                                                                                                                                                                                                                           \n",
      " homepage              |                                                                                                                                                                                                                                                                                                                                                                                                                                                                                       \n",
      " id                    | 34996                                                                                                                                                                                                                                                                                                                                                                                                                                                                                 \n",
      " imdb_id               | tt0112288                                                                                                                                                                                                                                                                                                                                                                                                                                                                             \n",
      " original_language     | en                                                                                                                                                                                                                                                                                                                                                                                                                                                                                    \n",
      " original_title        | The Addiction                                                                                                                                                                                                                                                                                                                                                                                                                                                                         \n",
      " overview              | A vampiric doctoral student tries to follow the philosophy of a nocturnal comrade and control her thirst for blood.                                                                                                                                                                                                                                                                                                                                                                   \n",
      " popularity            | 3.137285                                                                                                                                                                                                                                                                                                                                                                                                                                                                              \n",
      " poster_path           | /ej0gD547grj5QMoKuzqKyHuc3Xi.jpg                                                                                                                                                                                                                                                                                                                                                                                                                                                      \n",
      " production_companies  | [{'name': 'October Films', 'id': 236}, {'name': 'Guild', 'id': 1214}, {'name': 'Fastnet Films', 'id': 5353}]                                                                                                                                                                                                                                                                                                                                                                          \n",
      " production_countries  | [{'iso_3166_1': 'US', 'name': 'United States of America'}]                                                                                                                                                                                                                                                                                                                                                                                                                            \n",
      " release_date          | 1995-01-10                                                                                                                                                                                                                                                                                                                                                                                                                                                                            \n",
      " revenue               | 0                                                                                                                                                                                                                                                                                                                                                                                                                                                                                     \n",
      " runtime               | 82.0                                                                                                                                                                                                                                                                                                                                                                                                                                                                                  \n",
      " spoken_languages      | [{'iso_639_1': 'en', 'name': 'English'}]                                                                                                                                                                                                                                                                                                                                                                                                                                              \n",
      " status                | Released                                                                                                                                                                                                                                                                                                                                                                                                                                                                              \n",
      " tagline               | The dark is their sunlight. What makes them different is what keeps them alive.                                                                                                                                                                                                                                                                                                                                                                                                       \n",
      " title                 | The Addiction                                                                                                                                                                                                                                                                                                                                                                                                                                                                         \n",
      " video                 | False                                                                                                                                                                                                                                                                                                                                                                                                                                                                                 \n",
      " vote_average          | 6.4                                                                                                                                                                                                                                                                                                                                                                                                                                                                                   \n",
      " vote_count            | 46                                                                                                                                                                                                                                                                                                                                                                                                                                                                                    \n",
      "-RECORD 2------------------------------------------------------------------------------------------------------------------------------------------------------------------------------------------------------------------------------------------------------------------------------------------------------------------------------------------------------------------------------------------------------------------------------------------------------------------------------------------------------\n",
      " adult                 | False                                                                                                                                                                                                                                                                                                                                                                                                                                                                                 \n",
      " belongs_to_collection | {'id': 120794, 'name': 'Batman Collection', 'poster_path': '/adQxUvQW8HXNsvMG5aj71pHh9T.jpg', 'backdrop_path': '/9SpZvXLZDGGtFqVDByGqSGI64Kw.jpg'}                                                                                                                                                                                                                                                                                                                                    \n",
      " budget                | 100000000                                                                                                                                                                                                                                                                                                                                                                                                                                                                             \n",
      " genres                | [{'id': 28, 'name': 'Action'}, {'id': 80, 'name': 'Crime'}, {'id': 14, 'name': 'Fantasy'}]                                                                                                                                                                                                                                                                                                                                                                                            \n",
      " homepage              |                                                                                                                                                                                                                                                                                                                                                                                                                                                                                       \n",
      " id                    | 414                                                                                                                                                                                                                                                                                                                                                                                                                                                                                   \n",
      " imdb_id               | tt0112462                                                                                                                                                                                                                                                                                                                                                                                                                                                                             \n",
      " original_language     | en                                                                                                                                                                                                                                                                                                                                                                                                                                                                                    \n",
      " original_title        | Batman Forever                                                                                                                                                                                                                                                                                                                                                                                                                                                                        \n",
      " overview              | The Dark Knight of Gotham City confronts a dastardly duo: Two-Face and the Riddler. Formerly District Attorney Harvey Dent, Two-Face believes Batman caused the courtroom accident which left him disfigured on one side. And Edward Nygma, computer-genius and former employee of millionaire Bruce Wayne, is out to get the philanthropist; as The Riddler. Former circus acrobat Dick Grayson, his family killed by Two-Face, becomes Wayne's ward and Batman's new partner Robin. \n",
      " popularity            | 13.321354                                                                                                                                                                                                                                                                                                                                                                                                                                                                             \n",
      " poster_path           | /eTMrHEhlFPHNxpqGwpGGTdAa0xV.jpg                                                                                                                                                                                                                                                                                                                                                                                                                                                      \n",
      " production_companies  | [{'name': 'Warner Bros.', 'id': 6194}, {'name': 'Polygram Filmed Entertainment', 'id': 31080}]                                                                                                                                                                                                                                                                                                                                                                                        \n",
      " production_countries  | [{'iso_3166_1': 'GB', 'name': 'United Kingdom'}, {'iso_3166_1': 'US', 'name': 'United States of America'}]                                                                                                                                                                                                                                                                                                                                                                            \n",
      " release_date          | 1995-06-16                                                                                                                                                                                                                                                                                                                                                                                                                                                                            \n",
      " revenue               | 336529144                                                                                                                                                                                                                                                                                                                                                                                                                                                                             \n",
      " runtime               | 121.0                                                                                                                                                                                                                                                                                                                                                                                                                                                                                 \n",
      " spoken_languages      | [{'iso_639_1': 'en', 'name': 'English'}]                                                                                                                                                                                                                                                                                                                                                                                                                                              \n",
      " status                | Released                                                                                                                                                                                                                                                                                                                                                                                                                                                                              \n",
      " tagline               | Courage now, truth always...                                                                                                                                                                                                                                                                                                                                                                                                                                                          \n",
      " title                 | Batman Forever                                                                                                                                                                                                                                                                                                                                                                                                                                                                        \n",
      " video                 | False                                                                                                                                                                                                                                                                                                                                                                                                                                                                                 \n",
      " vote_average          | 5.2                                                                                                                                                                                                                                                                                                                                                                                                                                                                                   \n",
      " vote_count            | 1529                                                                                                                                                                                                                                                                                                                                                                                                                                                                                  \n",
      "only showing top 3 rows\n",
      "\n"
     ]
    }
   ],
   "source": [
    "df_metadata.show(3, truncate = False, vertical = True)"
   ]
  },
  {
   "cell_type": "code",
   "execution_count": 13,
   "id": "c6431b1e-52ca-4b10-bef1-cf9c3750caa6",
   "metadata": {},
   "outputs": [
    {
     "data": {
      "text/plain": [
       "45466"
      ]
     },
     "execution_count": 13,
     "metadata": {},
     "output_type": "execute_result"
    }
   ],
   "source": [
    "df_metadata.count()"
   ]
  },
  {
   "cell_type": "markdown",
   "id": "9d451c74-7462-49c2-a630-1636bc0c1b2e",
   "metadata": {},
   "source": [
    "### **2. Source to Target Mapping**\n",
    "---"
   ]
  },
  {
   "cell_type": "markdown",
   "id": "0d674ecc-1808-4d20-8074-4fdeda5ba1e1",
   "metadata": {},
   "source": [
    "- After we extracted all the data, we got information that ratings and movie metadata can be joined by using the movie id\n",
    "- Before that, we must profile our table that can help us for the next step\n",
    "- You can create your Source to Target Mapping or you can see it on this [Spreadsheet](https://docs.google.com/spreadsheets/d/1spFcpnUdoiKW2dApInxDNkadywiBs2mdCt8CmwHZ1ME/edit?usp=sharing)\n",
    "- The goals of Source to Target Mapping is to identify which columns can be used for the next process like what transformation rules that can be used"
   ]
  },
  {
   "cell_type": "markdown",
   "id": "2b2cf4f6-f5e8-41e1-9018-d411e50010cf",
   "metadata": {},
   "source": [
    "### **3. Transform Data**\n",
    "---"
   ]
  },
  {
   "cell_type": "markdown",
   "id": "f29b1d23-1c6e-4ab1-b96d-ebefdf921785",
   "metadata": {},
   "source": [
    "- After we mapping all the columns from Source to Target Mapping, now we can set the transformation rules\n",
    "- These are the transformation processes that we will do in this case:\n",
    "    - Join Data\n",
    "    - Renaming Columns\n",
    "    - Select Data based on Columns\n",
    "    - Casting Data Type\n",
    "    - Filter Data\n",
    "    - Create New Columns using Existing Columns"
   ]
  },
  {
   "cell_type": "markdown",
   "id": "8267c783-6452-45e0-ac38-24e38ffe53d1",
   "metadata": {},
   "source": [
    "#### **3a. Join Data**\n",
    "---"
   ]
  },
  {
   "cell_type": "markdown",
   "id": "a0dd468b-18c0-42d1-8e69-1b1ef7348004",
   "metadata": {},
   "source": [
    "- In this process, we want to join the data from movies rating and movies metadata\n",
    "- After we explore the data from the previous process turns out there's one column that we can join!\n",
    "    - `df_ratings`: `movieId`\n",
    "    - `df_metadata`: `id`\n",
    "\n",
    "    <br>\n",
    "    <center>\n",
    "        <img src=\"https://sekolahdata-assets.s3.ap-southeast-1.amazonaws.com/notebook-images/mde-data-ingestion-spark/join_data_case_week_5.png\" width=50%>\n",
    "    </center>\n",
    "    <br>\n",
    "\n",
    "- To join the data using PySpark, we can use this code\n",
    "\n",
    "```python\n",
    "df1.join(df2, df1.col == df2.col, JOIN_METHOD) # we can use inner, left, right, etc\n",
    "```\n",
    "\n",
    "- In this case, we will use `inner` join then save the joined data in `df_joined` variable"
   ]
  },
  {
   "cell_type": "code",
   "execution_count": 14,
   "id": "ce282254-42ad-4ad1-b526-0654ab835726",
   "metadata": {},
   "outputs": [],
   "source": [
    "df_data = df_ratings.join(df_metadata, df_ratings.movieId == df_metadata.id, \"inner\")"
   ]
  },
  {
   "cell_type": "code",
   "execution_count": 15,
   "id": "7778b7b2-e49b-4c32-abbd-0480d32bd20b",
   "metadata": {},
   "outputs": [
    {
     "name": "stdout",
     "output_type": "stream",
     "text": [
      "+------+-------+------+----------+-----+---------------------+------+--------------------+--------+------+---------+-----------------+--------------+--------------------+----------+--------------------+--------------------+--------------------+------------+-------+-------+--------------------+--------+--------------------+--------------+-----+------------+----------+\n",
      "|userId|movieId|rating| timestamp|adult|belongs_to_collection|budget|              genres|homepage|    id|  imdb_id|original_language|original_title|            overview|popularity|         poster_path|production_companies|production_countries|release_date|revenue|runtime|    spoken_languages|  status|             tagline|         title|video|vote_average|vote_count|\n",
      "+------+-------+------+----------+-----+---------------------+------+--------------------+--------+------+---------+-----------------+--------------+--------------------+----------+--------------------+--------------------+--------------------+------------+-------+-------+--------------------+--------+--------------------+--------------+-----+------------+----------+\n",
      "|   429| 100010|   1.0|1475231879|False|                     |     0|[{'id': 18, 'name...|        |100010|tt0032477|               en|Flight Command|A rookie flyer, E...|  0.769266|/zrLmIoNozsKM4Ckj...|[{'name': 'Metro-...|[{'iso_3166_1': '...|  1940-12-27|      0|  116.0|[{'iso_639_1': 'e...|Released|T-H-R-I-L-L AMERI...|Flight Command|False|         6.0|         1|\n",
      "|  4095| 100010|   3.0|1416758994|False|                     |     0|[{'id': 18, 'name...|        |100010|tt0032477|               en|Flight Command|A rookie flyer, E...|  0.769266|/zrLmIoNozsKM4Ckj...|[{'name': 'Metro-...|[{'iso_3166_1': '...|  1940-12-27|      0|  116.0|[{'iso_639_1': 'e...|Released|T-H-R-I-L-L AMERI...|Flight Command|False|         6.0|         1|\n",
      "|  7502| 100010|   5.0|1361722526|False|                     |     0|[{'id': 18, 'name...|        |100010|tt0032477|               en|Flight Command|A rookie flyer, E...|  0.769266|/zrLmIoNozsKM4Ckj...|[{'name': 'Metro-...|[{'iso_3166_1': '...|  1940-12-27|      0|  116.0|[{'iso_639_1': 'e...|Released|T-H-R-I-L-L AMERI...|Flight Command|False|         6.0|         1|\n",
      "| 14347| 100010|   1.5|1481500979|False|                     |     0|[{'id': 18, 'name...|        |100010|tt0032477|               en|Flight Command|A rookie flyer, E...|  0.769266|/zrLmIoNozsKM4Ckj...|[{'name': 'Metro-...|[{'iso_3166_1': '...|  1940-12-27|      0|  116.0|[{'iso_639_1': 'e...|Released|T-H-R-I-L-L AMERI...|Flight Command|False|         6.0|         1|\n",
      "| 14797| 100010|   3.5|1362460350|False|                     |     0|[{'id': 18, 'name...|        |100010|tt0032477|               en|Flight Command|A rookie flyer, E...|  0.769266|/zrLmIoNozsKM4Ckj...|[{'name': 'Metro-...|[{'iso_3166_1': '...|  1940-12-27|      0|  116.0|[{'iso_639_1': 'e...|Released|T-H-R-I-L-L AMERI...|Flight Command|False|         6.0|         1|\n",
      "+------+-------+------+----------+-----+---------------------+------+--------------------+--------+------+---------+-----------------+--------------+--------------------+----------+--------------------+--------------------+--------------------+------------+-------+-------+--------------------+--------+--------------------+--------------+-----+------------+----------+\n",
      "only showing top 5 rows\n",
      "\n"
     ]
    }
   ],
   "source": [
    "df_data.show(5)"
   ]
  },
  {
   "cell_type": "code",
   "execution_count": 16,
   "id": "53308d90-ed92-48e5-bb7f-323e2e807bf4",
   "metadata": {},
   "outputs": [
    {
     "name": "stdout",
     "output_type": "stream",
     "text": [
      "-RECORD 0-------------------------------------------------------------------------------------------------------------------------------------------------------------------------------------------------------------------------------------------------------------------------------------------------------------------------------------------------------------------------------------------------------------------------------------------------------------------------------------------------------------------------------------------------------------------------------------------------------------------------------------------------------------------------------------------------------------------------------------------------------------\n",
      " userId                | 429                                                                                                                                                                                                                                                                                                                                                                                                                                                                                                                                                                                                                                                                                                                                          \n",
      " movieId               | 100010                                                                                                                                                                                                                                                                                                                                                                                                                                                                                                                                                                                                                                                                                                                                       \n",
      " rating                | 1.0                                                                                                                                                                                                                                                                                                                                                                                                                                                                                                                                                                                                                                                                                                                                          \n",
      " timestamp             | 1475231879                                                                                                                                                                                                                                                                                                                                                                                                                                                                                                                                                                                                                                                                                                                                   \n",
      " adult                 | False                                                                                                                                                                                                                                                                                                                                                                                                                                                                                                                                                                                                                                                                                                                                        \n",
      " belongs_to_collection |                                                                                                                                                                                                                                                                                                                                                                                                                                                                                                                                                                                                                                                                                                                                              \n",
      " budget                | 0                                                                                                                                                                                                                                                                                                                                                                                                                                                                                                                                                                                                                                                                                                                                            \n",
      " genres                | [{'id': 18, 'name': 'Drama'}, {'id': 10752, 'name': 'War'}]                                                                                                                                                                                                                                                                                                                                                                                                                                                                                                                                                                                                                                                                                  \n",
      " homepage              |                                                                                                                                                                                                                                                                                                                                                                                                                                                                                                                                                                                                                                                                                                                                              \n",
      " id                    | 100010                                                                                                                                                                                                                                                                                                                                                                                                                                                                                                                                                                                                                                                                                                                                       \n",
      " imdb_id               | tt0032477                                                                                                                                                                                                                                                                                                                                                                                                                                                                                                                                                                                                                                                                                                                                    \n",
      " original_language     | en                                                                                                                                                                                                                                                                                                                                                                                                                                                                                                                                                                                                                                                                                                                                           \n",
      " original_title        | Flight Command                                                                                                                                                                                                                                                                                                                                                                                                                                                                                                                                                                                                                                                                                                                               \n",
      " overview              | A rookie flyer, Ens. Alan Drake, joins the famous Hellcats Squadron right out of flight school in Pensacola. He doesn't make a great first impression when he is forced to ditch his airplane and parachute to safety when he arrives at the base but is unable to land due to heavy fog. On his first day on the job, his poor shooting skills results in the Hellcats losing an air combat competition. His fellow pilots accept him anyways but they think he's crossed the line when they erroneously conclude that while their CO Billy Gray is away, Drake has an affair with his wife Lorna. Drake is now an outcast and is prepared to resign from the Navy but his extreme heroism in saving Billy Gray's life turns things around. \n",
      " popularity            | 0.769266                                                                                                                                                                                                                                                                                                                                                                                                                                                                                                                                                                                                                                                                                                                                     \n",
      " poster_path           | /zrLmIoNozsKM4CkjXG1abOxOZj9.jpg                                                                                                                                                                                                                                                                                                                                                                                                                                                                                                                                                                                                                                                                                                             \n",
      " production_companies  | [{'name': 'Metro-Goldwyn-Mayer (MGM)', 'id': 8411}]                                                                                                                                                                                                                                                                                                                                                                                                                                                                                                                                                                                                                                                                                          \n",
      " production_countries  | [{'iso_3166_1': 'US', 'name': 'United States of America'}]                                                                                                                                                                                                                                                                                                                                                                                                                                                                                                                                                                                                                                                                                   \n",
      " release_date          | 1940-12-27                                                                                                                                                                                                                                                                                                                                                                                                                                                                                                                                                                                                                                                                                                                                   \n",
      " revenue               | 0                                                                                                                                                                                                                                                                                                                                                                                                                                                                                                                                                                                                                                                                                                                                            \n",
      " runtime               | 116.0                                                                                                                                                                                                                                                                                                                                                                                                                                                                                                                                                                                                                                                                                                                                        \n",
      " spoken_languages      | [{'iso_639_1': 'en', 'name': 'English'}]                                                                                                                                                                                                                                                                                                                                                                                                                                                                                                                                                                                                                                                                                                     \n",
      " status                | Released                                                                                                                                                                                                                                                                                                                                                                                                                                                                                                                                                                                                                                                                                                                                     \n",
      " tagline               | T-H-R-I-L-L AMERICA! Here come The Flying \"HELL CATS\"!                                                                                                                                                                                                                                                                                                                                                                                                                                                                                                                                                                                                                                                                                       \n",
      " title                 | Flight Command                                                                                                                                                                                                                                                                                                                                                                                                                                                                                                                                                                                                                                                                                                                               \n",
      " video                 | False                                                                                                                                                                                                                                                                                                                                                                                                                                                                                                                                                                                                                                                                                                                                        \n",
      " vote_average          | 6.0                                                                                                                                                                                                                                                                                                                                                                                                                                                                                                                                                                                                                                                                                                                                          \n",
      " vote_count            | 1                                                                                                                                                                                                                                                                                                                                                                                                                                                                                                                                                                                                                                                                                                                                            \n",
      "-RECORD 1-------------------------------------------------------------------------------------------------------------------------------------------------------------------------------------------------------------------------------------------------------------------------------------------------------------------------------------------------------------------------------------------------------------------------------------------------------------------------------------------------------------------------------------------------------------------------------------------------------------------------------------------------------------------------------------------------------------------------------------------------------------\n",
      " userId                | 4095                                                                                                                                                                                                                                                                                                                                                                                                                                                                                                                                                                                                                                                                                                                                         \n",
      " movieId               | 100010                                                                                                                                                                                                                                                                                                                                                                                                                                                                                                                                                                                                                                                                                                                                       \n",
      " rating                | 3.0                                                                                                                                                                                                                                                                                                                                                                                                                                                                                                                                                                                                                                                                                                                                          \n",
      " timestamp             | 1416758994                                                                                                                                                                                                                                                                                                                                                                                                                                                                                                                                                                                                                                                                                                                                   \n",
      " adult                 | False                                                                                                                                                                                                                                                                                                                                                                                                                                                                                                                                                                                                                                                                                                                                        \n",
      " belongs_to_collection |                                                                                                                                                                                                                                                                                                                                                                                                                                                                                                                                                                                                                                                                                                                                              \n",
      " budget                | 0                                                                                                                                                                                                                                                                                                                                                                                                                                                                                                                                                                                                                                                                                                                                            \n",
      " genres                | [{'id': 18, 'name': 'Drama'}, {'id': 10752, 'name': 'War'}]                                                                                                                                                                                                                                                                                                                                                                                                                                                                                                                                                                                                                                                                                  \n",
      " homepage              |                                                                                                                                                                                                                                                                                                                                                                                                                                                                                                                                                                                                                                                                                                                                              \n",
      " id                    | 100010                                                                                                                                                                                                                                                                                                                                                                                                                                                                                                                                                                                                                                                                                                                                       \n",
      " imdb_id               | tt0032477                                                                                                                                                                                                                                                                                                                                                                                                                                                                                                                                                                                                                                                                                                                                    \n",
      " original_language     | en                                                                                                                                                                                                                                                                                                                                                                                                                                                                                                                                                                                                                                                                                                                                           \n",
      " original_title        | Flight Command                                                                                                                                                                                                                                                                                                                                                                                                                                                                                                                                                                                                                                                                                                                               \n",
      " overview              | A rookie flyer, Ens. Alan Drake, joins the famous Hellcats Squadron right out of flight school in Pensacola. He doesn't make a great first impression when he is forced to ditch his airplane and parachute to safety when he arrives at the base but is unable to land due to heavy fog. On his first day on the job, his poor shooting skills results in the Hellcats losing an air combat competition. His fellow pilots accept him anyways but they think he's crossed the line when they erroneously conclude that while their CO Billy Gray is away, Drake has an affair with his wife Lorna. Drake is now an outcast and is prepared to resign from the Navy but his extreme heroism in saving Billy Gray's life turns things around. \n",
      " popularity            | 0.769266                                                                                                                                                                                                                                                                                                                                                                                                                                                                                                                                                                                                                                                                                                                                     \n",
      " poster_path           | /zrLmIoNozsKM4CkjXG1abOxOZj9.jpg                                                                                                                                                                                                                                                                                                                                                                                                                                                                                                                                                                                                                                                                                                             \n",
      " production_companies  | [{'name': 'Metro-Goldwyn-Mayer (MGM)', 'id': 8411}]                                                                                                                                                                                                                                                                                                                                                                                                                                                                                                                                                                                                                                                                                          \n",
      " production_countries  | [{'iso_3166_1': 'US', 'name': 'United States of America'}]                                                                                                                                                                                                                                                                                                                                                                                                                                                                                                                                                                                                                                                                                   \n",
      " release_date          | 1940-12-27                                                                                                                                                                                                                                                                                                                                                                                                                                                                                                                                                                                                                                                                                                                                   \n",
      " revenue               | 0                                                                                                                                                                                                                                                                                                                                                                                                                                                                                                                                                                                                                                                                                                                                            \n",
      " runtime               | 116.0                                                                                                                                                                                                                                                                                                                                                                                                                                                                                                                                                                                                                                                                                                                                        \n",
      " spoken_languages      | [{'iso_639_1': 'en', 'name': 'English'}]                                                                                                                                                                                                                                                                                                                                                                                                                                                                                                                                                                                                                                                                                                     \n",
      " status                | Released                                                                                                                                                                                                                                                                                                                                                                                                                                                                                                                                                                                                                                                                                                                                     \n",
      " tagline               | T-H-R-I-L-L AMERICA! Here come The Flying \"HELL CATS\"!                                                                                                                                                                                                                                                                                                                                                                                                                                                                                                                                                                                                                                                                                       \n",
      " title                 | Flight Command                                                                                                                                                                                                                                                                                                                                                                                                                                                                                                                                                                                                                                                                                                                               \n",
      " video                 | False                                                                                                                                                                                                                                                                                                                                                                                                                                                                                                                                                                                                                                                                                                                                        \n",
      " vote_average          | 6.0                                                                                                                                                                                                                                                                                                                                                                                                                                                                                                                                                                                                                                                                                                                                          \n",
      " vote_count            | 1                                                                                                                                                                                                                                                                                                                                                                                                                                                                                                                                                                                                                                                                                                                                            \n",
      "-RECORD 2-------------------------------------------------------------------------------------------------------------------------------------------------------------------------------------------------------------------------------------------------------------------------------------------------------------------------------------------------------------------------------------------------------------------------------------------------------------------------------------------------------------------------------------------------------------------------------------------------------------------------------------------------------------------------------------------------------------------------------------------------------------\n",
      " userId                | 7502                                                                                                                                                                                                                                                                                                                                                                                                                                                                                                                                                                                                                                                                                                                                         \n",
      " movieId               | 100010                                                                                                                                                                                                                                                                                                                                                                                                                                                                                                                                                                                                                                                                                                                                       \n",
      " rating                | 5.0                                                                                                                                                                                                                                                                                                                                                                                                                                                                                                                                                                                                                                                                                                                                          \n",
      " timestamp             | 1361722526                                                                                                                                                                                                                                                                                                                                                                                                                                                                                                                                                                                                                                                                                                                                   \n",
      " adult                 | False                                                                                                                                                                                                                                                                                                                                                                                                                                                                                                                                                                                                                                                                                                                                        \n",
      " belongs_to_collection |                                                                                                                                                                                                                                                                                                                                                                                                                                                                                                                                                                                                                                                                                                                                              \n",
      " budget                | 0                                                                                                                                                                                                                                                                                                                                                                                                                                                                                                                                                                                                                                                                                                                                            \n",
      " genres                | [{'id': 18, 'name': 'Drama'}, {'id': 10752, 'name': 'War'}]                                                                                                                                                                                                                                                                                                                                                                                                                                                                                                                                                                                                                                                                                  \n",
      " homepage              |                                                                                                                                                                                                                                                                                                                                                                                                                                                                                                                                                                                                                                                                                                                                              \n",
      " id                    | 100010                                                                                                                                                                                                                                                                                                                                                                                                                                                                                                                                                                                                                                                                                                                                       \n",
      " imdb_id               | tt0032477                                                                                                                                                                                                                                                                                                                                                                                                                                                                                                                                                                                                                                                                                                                                    \n",
      " original_language     | en                                                                                                                                                                                                                                                                                                                                                                                                                                                                                                                                                                                                                                                                                                                                           \n",
      " original_title        | Flight Command                                                                                                                                                                                                                                                                                                                                                                                                                                                                                                                                                                                                                                                                                                                               \n",
      " overview              | A rookie flyer, Ens. Alan Drake, joins the famous Hellcats Squadron right out of flight school in Pensacola. He doesn't make a great first impression when he is forced to ditch his airplane and parachute to safety when he arrives at the base but is unable to land due to heavy fog. On his first day on the job, his poor shooting skills results in the Hellcats losing an air combat competition. His fellow pilots accept him anyways but they think he's crossed the line when they erroneously conclude that while their CO Billy Gray is away, Drake has an affair with his wife Lorna. Drake is now an outcast and is prepared to resign from the Navy but his extreme heroism in saving Billy Gray's life turns things around. \n",
      " popularity            | 0.769266                                                                                                                                                                                                                                                                                                                                                                                                                                                                                                                                                                                                                                                                                                                                     \n",
      " poster_path           | /zrLmIoNozsKM4CkjXG1abOxOZj9.jpg                                                                                                                                                                                                                                                                                                                                                                                                                                                                                                                                                                                                                                                                                                             \n",
      " production_companies  | [{'name': 'Metro-Goldwyn-Mayer (MGM)', 'id': 8411}]                                                                                                                                                                                                                                                                                                                                                                                                                                                                                                                                                                                                                                                                                          \n",
      " production_countries  | [{'iso_3166_1': 'US', 'name': 'United States of America'}]                                                                                                                                                                                                                                                                                                                                                                                                                                                                                                                                                                                                                                                                                   \n",
      " release_date          | 1940-12-27                                                                                                                                                                                                                                                                                                                                                                                                                                                                                                                                                                                                                                                                                                                                   \n",
      " revenue               | 0                                                                                                                                                                                                                                                                                                                                                                                                                                                                                                                                                                                                                                                                                                                                            \n",
      " runtime               | 116.0                                                                                                                                                                                                                                                                                                                                                                                                                                                                                                                                                                                                                                                                                                                                        \n",
      " spoken_languages      | [{'iso_639_1': 'en', 'name': 'English'}]                                                                                                                                                                                                                                                                                                                                                                                                                                                                                                                                                                                                                                                                                                     \n",
      " status                | Released                                                                                                                                                                                                                                                                                                                                                                                                                                                                                                                                                                                                                                                                                                                                     \n",
      " tagline               | T-H-R-I-L-L AMERICA! Here come The Flying \"HELL CATS\"!                                                                                                                                                                                                                                                                                                                                                                                                                                                                                                                                                                                                                                                                                       \n",
      " title                 | Flight Command                                                                                                                                                                                                                                                                                                                                                                                                                                                                                                                                                                                                                                                                                                                               \n",
      " video                 | False                                                                                                                                                                                                                                                                                                                                                                                                                                                                                                                                                                                                                                                                                                                                        \n",
      " vote_average          | 6.0                                                                                                                                                                                                                                                                                                                                                                                                                                                                                                                                                                                                                                                                                                                                          \n",
      " vote_count            | 1                                                                                                                                                                                                                                                                                                                                                                                                                                                                                                                                                                                                                                                                                                                                            \n",
      "only showing top 3 rows\n",
      "\n"
     ]
    }
   ],
   "source": [
    "df_data.show(3, truncate=False, vertical=True)"
   ]
  },
  {
   "cell_type": "markdown",
   "id": "4a38e58a-bc17-4b12-ac0b-3f6b108050ef",
   "metadata": {},
   "source": [
    "#### **3b. Rename Columns**\n",
    "---"
   ]
  },
  {
   "cell_type": "markdown",
   "id": "bf7a8bc9-a838-4f3e-90ff-65651330c830",
   "metadata": {},
   "source": [
    "- After we joined the data, turns out there's a columns that not in the correct format\n",
    "- Columns that we want to renamed are:\n",
    "    - `userId`: `user_id`\n",
    "    - `movieId`: `movie_id`"
   ]
  },
  {
   "cell_type": "code",
   "execution_count": 17,
   "id": "9f81cd13-9cd4-4b2f-be01-9aadecb62b64",
   "metadata": {},
   "outputs": [
    {
     "name": "stdout",
     "output_type": "stream",
     "text": [
      "+-------+--------+------+----------+-----+---------------------+------+--------------------+--------+------+---------+-----------------+--------------+--------------------+----------+--------------------+--------------------+--------------------+------------+-------+-------+--------------------+--------+--------------------+--------------+-----+------------+----------+\n",
      "|user_id|movie_id|rating| timestamp|adult|belongs_to_collection|budget|              genres|homepage|    id|  imdb_id|original_language|original_title|            overview|popularity|         poster_path|production_companies|production_countries|release_date|revenue|runtime|    spoken_languages|  status|             tagline|         title|video|vote_average|vote_count|\n",
      "+-------+--------+------+----------+-----+---------------------+------+--------------------+--------+------+---------+-----------------+--------------+--------------------+----------+--------------------+--------------------+--------------------+------------+-------+-------+--------------------+--------+--------------------+--------------+-----+------------+----------+\n",
      "|    429|  100010|   1.0|1475231879|False|                     |     0|[{'id': 18, 'name...|        |100010|tt0032477|               en|Flight Command|A rookie flyer, E...|  0.769266|/zrLmIoNozsKM4Ckj...|[{'name': 'Metro-...|[{'iso_3166_1': '...|  1940-12-27|      0|  116.0|[{'iso_639_1': 'e...|Released|T-H-R-I-L-L AMERI...|Flight Command|False|         6.0|         1|\n",
      "+-------+--------+------+----------+-----+---------------------+------+--------------------+--------+------+---------+-----------------+--------------+--------------------+----------+--------------------+--------------------+--------------------+------------+-------+-------+--------------------+--------+--------------------+--------------+-----+------------+----------+\n",
      "only showing top 1 row\n",
      "\n"
     ]
    }
   ],
   "source": [
    "COLUMNS_RENAME = {\n",
    "    \"userId\": \"user_id\",\n",
    "    \"movieId\": \"movie_id\"\n",
    "}\n",
    "\n",
    "df_data = df_data.withColumnsRenamed(colsMap=COLUMNS_RENAME)\n",
    "df_data.show(1)"
   ]
  },
  {
   "cell_type": "markdown",
   "id": "13f3da1f-1ab8-44d4-a5d0-157b985e9b42",
   "metadata": {},
   "source": [
    "#### **3c. Select Columns**\n",
    "---"
   ]
  },
  {
   "cell_type": "markdown",
   "id": "05d22605-2e23-4810-836c-aa1fabed7d16",
   "metadata": {},
   "source": [
    "- This process is straightforward\n",
    "- There are so many columns that it turns out we don't need all the columns\n",
    "- This is the list of columns that the Data Scientist needs to build the Recommender System model:\n",
    "    - `user_id`\n",
    "    - `movie_id`\n",
    "    - `rating`\n",
    "    - `timestamp`\n",
    "    - `adult`\n",
    "    - `budget`\n",
    "    - `genres`\n",
    "    - `original_language`\n",
    "    - `original_title`\n",
    "    - `overview`\n",
    "    - `popularity`\n",
    "    - `production_companies`\n",
    "    - `release_date`\n",
    "    - `revenue`\n",
    "    - `runtime`\n",
    "    - `spoken_languages`\n",
    "    - `status`\n",
    "    - `tagline`\n",
    "    - `title`\n",
    "    - `vote_average`\n",
    "    - `vote_count`\n",
    " "
   ]
  },
  {
   "cell_type": "code",
   "execution_count": 18,
   "id": "b68943ed-e244-41e9-adf7-0368c77d8807",
   "metadata": {},
   "outputs": [],
   "source": [
    "SELECTED_COLUMNS = [\n",
    "        \"user_id\",\n",
    "        \"movie_id\",\n",
    "        \"rating\",\n",
    "        \"timestamp\",\n",
    "        \"adult\",\n",
    "        \"budget\",\n",
    "        \"genres\",\n",
    "        \"original_language\",\n",
    "        \"original_title\",\n",
    "        \"overview\",\n",
    "        \"popularity\",\n",
    "        \"production_companies\",\n",
    "        \"release_date\",\n",
    "        \"revenue\",\n",
    "        \"runtime\",\n",
    "        \"spoken_languages\",\n",
    "        \"status\",\n",
    "        \"tagline\",\n",
    "        \"title\",\n",
    "        \"vote_average\",\n",
    "        \"vote_count\"\n",
    "    ]\n",
    "df_data_filtered = df_data.select(SELECTED_COLUMNS)"
   ]
  },
  {
   "cell_type": "code",
   "execution_count": 19,
   "id": "147ec0ca-a28f-4aa5-902c-f48e17e63692",
   "metadata": {},
   "outputs": [
    {
     "name": "stdout",
     "output_type": "stream",
     "text": [
      "-RECORD 0------------------------------------------------------------------------------------------------------------------------------------------------------------------------------------------------------------------------------------------------------------------------------------------------------------------------------------------------------------------------------------------------------------------------------------------------------------------------------------------------------------------------------------------------------------------------------------------------------------------------------------------------------------------------------------------------------------------------------------------------------------\n",
      " user_id              | 429                                                                                                                                                                                                                                                                                                                                                                                                                                                                                                                                                                                                                                                                                                                                          \n",
      " movie_id             | 100010                                                                                                                                                                                                                                                                                                                                                                                                                                                                                                                                                                                                                                                                                                                                       \n",
      " rating               | 1.0                                                                                                                                                                                                                                                                                                                                                                                                                                                                                                                                                                                                                                                                                                                                          \n",
      " timestamp            | 1475231879                                                                                                                                                                                                                                                                                                                                                                                                                                                                                                                                                                                                                                                                                                                                   \n",
      " adult                | False                                                                                                                                                                                                                                                                                                                                                                                                                                                                                                                                                                                                                                                                                                                                        \n",
      " budget               | 0                                                                                                                                                                                                                                                                                                                                                                                                                                                                                                                                                                                                                                                                                                                                            \n",
      " genres               | [{'id': 18, 'name': 'Drama'}, {'id': 10752, 'name': 'War'}]                                                                                                                                                                                                                                                                                                                                                                                                                                                                                                                                                                                                                                                                                  \n",
      " original_language    | en                                                                                                                                                                                                                                                                                                                                                                                                                                                                                                                                                                                                                                                                                                                                           \n",
      " original_title       | Flight Command                                                                                                                                                                                                                                                                                                                                                                                                                                                                                                                                                                                                                                                                                                                               \n",
      " overview             | A rookie flyer, Ens. Alan Drake, joins the famous Hellcats Squadron right out of flight school in Pensacola. He doesn't make a great first impression when he is forced to ditch his airplane and parachute to safety when he arrives at the base but is unable to land due to heavy fog. On his first day on the job, his poor shooting skills results in the Hellcats losing an air combat competition. His fellow pilots accept him anyways but they think he's crossed the line when they erroneously conclude that while their CO Billy Gray is away, Drake has an affair with his wife Lorna. Drake is now an outcast and is prepared to resign from the Navy but his extreme heroism in saving Billy Gray's life turns things around. \n",
      " popularity           | 0.769266                                                                                                                                                                                                                                                                                                                                                                                                                                                                                                                                                                                                                                                                                                                                     \n",
      " production_companies | [{'name': 'Metro-Goldwyn-Mayer (MGM)', 'id': 8411}]                                                                                                                                                                                                                                                                                                                                                                                                                                                                                                                                                                                                                                                                                          \n",
      " release_date         | 1940-12-27                                                                                                                                                                                                                                                                                                                                                                                                                                                                                                                                                                                                                                                                                                                                   \n",
      " revenue              | 0                                                                                                                                                                                                                                                                                                                                                                                                                                                                                                                                                                                                                                                                                                                                            \n",
      " runtime              | 116.0                                                                                                                                                                                                                                                                                                                                                                                                                                                                                                                                                                                                                                                                                                                                        \n",
      " spoken_languages     | [{'iso_639_1': 'en', 'name': 'English'}]                                                                                                                                                                                                                                                                                                                                                                                                                                                                                                                                                                                                                                                                                                     \n",
      " status               | Released                                                                                                                                                                                                                                                                                                                                                                                                                                                                                                                                                                                                                                                                                                                                     \n",
      " tagline              | T-H-R-I-L-L AMERICA! Here come The Flying \"HELL CATS\"!                                                                                                                                                                                                                                                                                                                                                                                                                                                                                                                                                                                                                                                                                       \n",
      " title                | Flight Command                                                                                                                                                                                                                                                                                                                                                                                                                                                                                                                                                                                                                                                                                                                               \n",
      " vote_average         | 6.0                                                                                                                                                                                                                                                                                                                                                                                                                                                                                                                                                                                                                                                                                                                                          \n",
      " vote_count           | 1                                                                                                                                                                                                                                                                                                                                                                                                                                                                                                                                                                                                                                                                                                                                            \n",
      "only showing top 1 row\n",
      "\n"
     ]
    }
   ],
   "source": [
    "df_data_filtered.show(1, truncate=False, vertical=True)"
   ]
  },
  {
   "cell_type": "markdown",
   "id": "0a1fa595-02f9-4fdc-aa72-a50b790d6037",
   "metadata": {},
   "source": [
    "#### **3d. Casting Data Type**\n",
    "---"
   ]
  },
  {
   "cell_type": "code",
   "execution_count": 20,
   "id": "5dbe753e-653a-4442-b270-24b8b6d67c91",
   "metadata": {},
   "outputs": [
    {
     "name": "stdout",
     "output_type": "stream",
     "text": [
      "root\n",
      " |-- user_id: string (nullable = true)\n",
      " |-- movie_id: string (nullable = true)\n",
      " |-- rating: string (nullable = true)\n",
      " |-- timestamp: string (nullable = true)\n",
      " |-- adult: string (nullable = true)\n",
      " |-- budget: string (nullable = true)\n",
      " |-- genres: string (nullable = true)\n",
      " |-- original_language: string (nullable = true)\n",
      " |-- original_title: string (nullable = true)\n",
      " |-- overview: string (nullable = true)\n",
      " |-- popularity: string (nullable = true)\n",
      " |-- production_companies: string (nullable = true)\n",
      " |-- release_date: string (nullable = true)\n",
      " |-- revenue: string (nullable = true)\n",
      " |-- runtime: string (nullable = true)\n",
      " |-- spoken_languages: string (nullable = true)\n",
      " |-- status: string (nullable = true)\n",
      " |-- tagline: string (nullable = true)\n",
      " |-- title: string (nullable = true)\n",
      " |-- vote_average: string (nullable = true)\n",
      " |-- vote_count: string (nullable = true)\n",
      "\n"
     ]
    }
   ],
   "source": [
    "df_data_filtered.printSchema()"
   ]
  },
  {
   "cell_type": "markdown",
   "id": "9cf426ca-ad62-40eb-8f82-09d727f85c68",
   "metadata": {},
   "source": [
    "- Turns out, some columns don't have correct data types\n",
    "- In this process, we will cast the data types\n",
    "- Columns that we want to cast are:\n",
    "    - `user_id` as `int`\n",
    "    - `movie_id` as `int`\n",
    "    - `budget` as `float`\n",
    "    - `popularity` as `float`\n",
    "    - `revenue` as `float`\n",
    "    - `runtime` as `float`\n",
    "    - `vote_average` as `float`\n",
    "    - `vote_count` as `float`\n",
    " \n",
    "- To casting data types we can combine method `withColumn` and `cast`"
   ]
  },
  {
   "cell_type": "code",
   "execution_count": 21,
   "id": "84fd3067-4fee-4a06-a04f-ef09f536e7d7",
   "metadata": {},
   "outputs": [],
   "source": [
    "def casting_dtypes(data,cast_target):\n",
    "    print(f\"Start to cast type data\")\n",
    "    for col, type in cast_target.items():\n",
    "        data = data.withColumn(col, data[col].cast(type)) \n",
    "        print(f\"Sukses casting column {col} to {type}\")\n",
    "    print(f\"===========END========\")\n",
    "    return data"
   ]
  },
  {
   "cell_type": "code",
   "execution_count": 22,
   "id": "570b5bf9-8ae7-4029-b13d-d353758479ec",
   "metadata": {},
   "outputs": [
    {
     "name": "stdout",
     "output_type": "stream",
     "text": [
      "Start to cast type data\n",
      "Sukses casting column user_id to int\n",
      "Sukses casting column movie_id to int\n",
      "Sukses casting column budget to float\n",
      "Sukses casting column popularity to float\n",
      "Sukses casting column revenue to float\n",
      "Sukses casting column runtime to float\n",
      "Sukses casting column vote_average to float\n",
      "Sukses casting column vote_count to float\n",
      "===========END========\n"
     ]
    }
   ],
   "source": [
    "CAST_DATA = {\n",
    "    \"user_id\":\"int\",\n",
    "    \"movie_id\":\"int\",\n",
    "    \"budget\":\"float\",\n",
    "    \"popularity\":\"float\",\n",
    "    \"revenue\":\"float\",\n",
    "    \"runtime\":\"float\",\n",
    "    \"vote_average\":\"float\",\n",
    "    \"vote_count\":\"float\"\n",
    "}\n",
    "\n",
    "df_movies = casting_dtypes(df_data_filtered, CAST_DATA)"
   ]
  },
  {
   "cell_type": "code",
   "execution_count": 23,
   "id": "c31d5790-b230-45f2-aa23-8470bcacaeef",
   "metadata": {},
   "outputs": [
    {
     "name": "stdout",
     "output_type": "stream",
     "text": [
      "-RECORD 0------------------------------------------------------------------------------------------------------------------------------------------------------------------------------------------------------------------------------------------------------------------------------------------------------------------------------------------------------------------------------------------------------------------------------------------------------------------------------------------------------------------------------------------------------------------------------------------------------------------------------------------------------------------------------------------------------------------------------------------------------------\n",
      " user_id              | 429                                                                                                                                                                                                                                                                                                                                                                                                                                                                                                                                                                                                                                                                                                                                          \n",
      " movie_id             | 100010                                                                                                                                                                                                                                                                                                                                                                                                                                                                                                                                                                                                                                                                                                                                       \n",
      " rating               | 1.0                                                                                                                                                                                                                                                                                                                                                                                                                                                                                                                                                                                                                                                                                                                                          \n",
      " timestamp            | 1475231879                                                                                                                                                                                                                                                                                                                                                                                                                                                                                                                                                                                                                                                                                                                                   \n",
      " adult                | False                                                                                                                                                                                                                                                                                                                                                                                                                                                                                                                                                                                                                                                                                                                                        \n",
      " budget               | 0.0                                                                                                                                                                                                                                                                                                                                                                                                                                                                                                                                                                                                                                                                                                                                          \n",
      " genres               | [{'id': 18, 'name': 'Drama'}, {'id': 10752, 'name': 'War'}]                                                                                                                                                                                                                                                                                                                                                                                                                                                                                                                                                                                                                                                                                  \n",
      " original_language    | en                                                                                                                                                                                                                                                                                                                                                                                                                                                                                                                                                                                                                                                                                                                                           \n",
      " original_title       | Flight Command                                                                                                                                                                                                                                                                                                                                                                                                                                                                                                                                                                                                                                                                                                                               \n",
      " overview             | A rookie flyer, Ens. Alan Drake, joins the famous Hellcats Squadron right out of flight school in Pensacola. He doesn't make a great first impression when he is forced to ditch his airplane and parachute to safety when he arrives at the base but is unable to land due to heavy fog. On his first day on the job, his poor shooting skills results in the Hellcats losing an air combat competition. His fellow pilots accept him anyways but they think he's crossed the line when they erroneously conclude that while their CO Billy Gray is away, Drake has an affair with his wife Lorna. Drake is now an outcast and is prepared to resign from the Navy but his extreme heroism in saving Billy Gray's life turns things around. \n",
      " popularity           | 0.769266                                                                                                                                                                                                                                                                                                                                                                                                                                                                                                                                                                                                                                                                                                                                     \n",
      " production_companies | [{'name': 'Metro-Goldwyn-Mayer (MGM)', 'id': 8411}]                                                                                                                                                                                                                                                                                                                                                                                                                                                                                                                                                                                                                                                                                          \n",
      " release_date         | 1940-12-27                                                                                                                                                                                                                                                                                                                                                                                                                                                                                                                                                                                                                                                                                                                                   \n",
      " revenue              | 0.0                                                                                                                                                                                                                                                                                                                                                                                                                                                                                                                                                                                                                                                                                                                                          \n",
      " runtime              | 116.0                                                                                                                                                                                                                                                                                                                                                                                                                                                                                                                                                                                                                                                                                                                                        \n",
      " spoken_languages     | [{'iso_639_1': 'en', 'name': 'English'}]                                                                                                                                                                                                                                                                                                                                                                                                                                                                                                                                                                                                                                                                                                     \n",
      " status               | Released                                                                                                                                                                                                                                                                                                                                                                                                                                                                                                                                                                                                                                                                                                                                     \n",
      " tagline              | T-H-R-I-L-L AMERICA! Here come The Flying \"HELL CATS\"!                                                                                                                                                                                                                                                                                                                                                                                                                                                                                                                                                                                                                                                                                       \n",
      " title                | Flight Command                                                                                                                                                                                                                                                                                                                                                                                                                                                                                                                                                                                                                                                                                                                               \n",
      " vote_average         | 6.0                                                                                                                                                                                                                                                                                                                                                                                                                                                                                                                                                                                                                                                                                                                                          \n",
      " vote_count           | 1.0                                                                                                                                                                                                                                                                                                                                                                                                                                                                                                                                                                                                                                                                                                                                          \n",
      "-RECORD 1------------------------------------------------------------------------------------------------------------------------------------------------------------------------------------------------------------------------------------------------------------------------------------------------------------------------------------------------------------------------------------------------------------------------------------------------------------------------------------------------------------------------------------------------------------------------------------------------------------------------------------------------------------------------------------------------------------------------------------------------------------\n",
      " user_id              | 4095                                                                                                                                                                                                                                                                                                                                                                                                                                                                                                                                                                                                                                                                                                                                         \n",
      " movie_id             | 100010                                                                                                                                                                                                                                                                                                                                                                                                                                                                                                                                                                                                                                                                                                                                       \n",
      " rating               | 3.0                                                                                                                                                                                                                                                                                                                                                                                                                                                                                                                                                                                                                                                                                                                                          \n",
      " timestamp            | 1416758994                                                                                                                                                                                                                                                                                                                                                                                                                                                                                                                                                                                                                                                                                                                                   \n",
      " adult                | False                                                                                                                                                                                                                                                                                                                                                                                                                                                                                                                                                                                                                                                                                                                                        \n",
      " budget               | 0.0                                                                                                                                                                                                                                                                                                                                                                                                                                                                                                                                                                                                                                                                                                                                          \n",
      " genres               | [{'id': 18, 'name': 'Drama'}, {'id': 10752, 'name': 'War'}]                                                                                                                                                                                                                                                                                                                                                                                                                                                                                                                                                                                                                                                                                  \n",
      " original_language    | en                                                                                                                                                                                                                                                                                                                                                                                                                                                                                                                                                                                                                                                                                                                                           \n",
      " original_title       | Flight Command                                                                                                                                                                                                                                                                                                                                                                                                                                                                                                                                                                                                                                                                                                                               \n",
      " overview             | A rookie flyer, Ens. Alan Drake, joins the famous Hellcats Squadron right out of flight school in Pensacola. He doesn't make a great first impression when he is forced to ditch his airplane and parachute to safety when he arrives at the base but is unable to land due to heavy fog. On his first day on the job, his poor shooting skills results in the Hellcats losing an air combat competition. His fellow pilots accept him anyways but they think he's crossed the line when they erroneously conclude that while their CO Billy Gray is away, Drake has an affair with his wife Lorna. Drake is now an outcast and is prepared to resign from the Navy but his extreme heroism in saving Billy Gray's life turns things around. \n",
      " popularity           | 0.769266                                                                                                                                                                                                                                                                                                                                                                                                                                                                                                                                                                                                                                                                                                                                     \n",
      " production_companies | [{'name': 'Metro-Goldwyn-Mayer (MGM)', 'id': 8411}]                                                                                                                                                                                                                                                                                                                                                                                                                                                                                                                                                                                                                                                                                          \n",
      " release_date         | 1940-12-27                                                                                                                                                                                                                                                                                                                                                                                                                                                                                                                                                                                                                                                                                                                                   \n",
      " revenue              | 0.0                                                                                                                                                                                                                                                                                                                                                                                                                                                                                                                                                                                                                                                                                                                                          \n",
      " runtime              | 116.0                                                                                                                                                                                                                                                                                                                                                                                                                                                                                                                                                                                                                                                                                                                                        \n",
      " spoken_languages     | [{'iso_639_1': 'en', 'name': 'English'}]                                                                                                                                                                                                                                                                                                                                                                                                                                                                                                                                                                                                                                                                                                     \n",
      " status               | Released                                                                                                                                                                                                                                                                                                                                                                                                                                                                                                                                                                                                                                                                                                                                     \n",
      " tagline              | T-H-R-I-L-L AMERICA! Here come The Flying \"HELL CATS\"!                                                                                                                                                                                                                                                                                                                                                                                                                                                                                                                                                                                                                                                                                       \n",
      " title                | Flight Command                                                                                                                                                                                                                                                                                                                                                                                                                                                                                                                                                                                                                                                                                                                               \n",
      " vote_average         | 6.0                                                                                                                                                                                                                                                                                                                                                                                                                                                                                                                                                                                                                                                                                                                                          \n",
      " vote_count           | 1.0                                                                                                                                                                                                                                                                                                                                                                                                                                                                                                                                                                                                                                                                                                                                          \n",
      "only showing top 2 rows\n",
      "\n"
     ]
    }
   ],
   "source": [
    "df_movies.show(2,truncate=False, vertical=True)"
   ]
  },
  {
   "cell_type": "code",
   "execution_count": 24,
   "id": "d7f52bac-32f4-45d8-aa85-217febfd0122",
   "metadata": {},
   "outputs": [
    {
     "name": "stdout",
     "output_type": "stream",
     "text": [
      "root\n",
      " |-- user_id: integer (nullable = true)\n",
      " |-- movie_id: integer (nullable = true)\n",
      " |-- rating: string (nullable = true)\n",
      " |-- timestamp: string (nullable = true)\n",
      " |-- adult: string (nullable = true)\n",
      " |-- budget: float (nullable = true)\n",
      " |-- genres: string (nullable = true)\n",
      " |-- original_language: string (nullable = true)\n",
      " |-- original_title: string (nullable = true)\n",
      " |-- overview: string (nullable = true)\n",
      " |-- popularity: float (nullable = true)\n",
      " |-- production_companies: string (nullable = true)\n",
      " |-- release_date: string (nullable = true)\n",
      " |-- revenue: float (nullable = true)\n",
      " |-- runtime: float (nullable = true)\n",
      " |-- spoken_languages: string (nullable = true)\n",
      " |-- status: string (nullable = true)\n",
      " |-- tagline: string (nullable = true)\n",
      " |-- title: string (nullable = true)\n",
      " |-- vote_average: float (nullable = true)\n",
      " |-- vote_count: float (nullable = true)\n",
      "\n"
     ]
    }
   ],
   "source": [
    "df_movies.printSchema()"
   ]
  },
  {
   "cell_type": "markdown",
   "id": "be947305-1ba3-46c3-b112-ac7c43230052",
   "metadata": {},
   "source": [
    "#### **3e. Convert Unix Timestamp to Date Time**\n",
    "---"
   ]
  },
  {
   "cell_type": "markdown",
   "id": "964edbda-2a6c-4169-b9bd-0253b9d3491e",
   "metadata": {},
   "source": [
    "- If we see our data in `timestamp` the values are in the UNIX timestamp\n",
    "\n",
    "**Example of Unix Timestamp**\n",
    "\n",
    "<center>\n",
    "    <img src=\"https://sekolahdata-assets.s3.ap-southeast-1.amazonaws.com/notebook-images/mde-data-ingestion-spark/example_unix.png\" width=80%>\n",
    "    <br>\n",
    "    <a href=\"https://dev.to/ghost/level-up-unix-timestamp-5hnm\">img source</a>\n",
    "</center>\n",
    "\n",
    "-  It's not human readable, so in this case we will convert it to date time so it will be readable\n",
    "-  To convert to date time, we can use PySpark functions called `from_unixtime` then we can combine it with the `withColumn` method\n",
    "\n",
    "    ```\n",
    "    df.withColumn(col_name, from_unixtime(col_name).alias(\"ts\")) # if we want convert it to timestamp\n",
    "    ```"
   ]
  },
  {
   "cell_type": "code",
   "execution_count": 25,
   "id": "36dc8edd-7cf0-4e4f-939e-881534eaff9b",
   "metadata": {},
   "outputs": [
    {
     "name": "stdout",
     "output_type": "stream",
     "text": [
      "+-------+--------+------+----------+-----+------+--------------------+-----------------+--------------+--------------------+----------+--------------------+------------+-------+-------+--------------------+--------+--------------------+--------------+------------+----------+\n",
      "|user_id|movie_id|rating| timestamp|adult|budget|              genres|original_language|original_title|            overview|popularity|production_companies|release_date|revenue|runtime|    spoken_languages|  status|             tagline|         title|vote_average|vote_count|\n",
      "+-------+--------+------+----------+-----+------+--------------------+-----------------+--------------+--------------------+----------+--------------------+------------+-------+-------+--------------------+--------+--------------------+--------------+------------+----------+\n",
      "|    429|  100010|   1.0|1475231879|False|   0.0|[{'id': 18, 'name...|               en|Flight Command|A rookie flyer, E...|  0.769266|[{'name': 'Metro-...|  1940-12-27|    0.0|  116.0|[{'iso_639_1': 'e...|Released|T-H-R-I-L-L AMERI...|Flight Command|         6.0|       1.0|\n",
      "+-------+--------+------+----------+-----+------+--------------------+-----------------+--------------+--------------------+----------+--------------------+------------+-------+-------+--------------------+--------+--------------------+--------------+------------+----------+\n",
      "only showing top 1 row\n",
      "\n"
     ]
    }
   ],
   "source": [
    "df_movies.show(1)"
   ]
  },
  {
   "cell_type": "code",
   "execution_count": 26,
   "id": "2e2ae794-984b-4918-8d20-e1f993ec027c",
   "metadata": {},
   "outputs": [],
   "source": [
    "from pyspark.sql.functions import from_unixtime"
   ]
  },
  {
   "cell_type": "code",
   "execution_count": 27,
   "id": "add2ef75-ebb4-4884-8362-1934e07f391b",
   "metadata": {},
   "outputs": [],
   "source": [
    "df_movies = df_movies.withColumn(\"timestamp\",from_unixtime(\"timestamp\").alias(\"ts\"))"
   ]
  },
  {
   "cell_type": "code",
   "execution_count": 28,
   "id": "f1566c81-372a-4efd-9bc8-715a1960cb60",
   "metadata": {},
   "outputs": [
    {
     "name": "stdout",
     "output_type": "stream",
     "text": [
      "-RECORD 0------------------------------------------------------------------------------------------------------------------------------------------------------------------------------------------------------------------------------------------------------------------------------------------------------------------------------------------------------------------------------------------------------------------------------------------------------------------------------------------------------------------------------------------------------------------------------------------------------------------------------------------------------------------------------------------------------------------------------------------------------------\n",
      " user_id              | 429                                                                                                                                                                                                                                                                                                                                                                                                                                                                                                                                                                                                                                                                                                                                          \n",
      " movie_id             | 100010                                                                                                                                                                                                                                                                                                                                                                                                                                                                                                                                                                                                                                                                                                                                       \n",
      " rating               | 1.0                                                                                                                                                                                                                                                                                                                                                                                                                                                                                                                                                                                                                                                                                                                                          \n",
      " timestamp            | 2016-09-30 10:37:59                                                                                                                                                                                                                                                                                                                                                                                                                                                                                                                                                                                                                                                                                                                          \n",
      " adult                | False                                                                                                                                                                                                                                                                                                                                                                                                                                                                                                                                                                                                                                                                                                                                        \n",
      " budget               | 0.0                                                                                                                                                                                                                                                                                                                                                                                                                                                                                                                                                                                                                                                                                                                                          \n",
      " genres               | [{'id': 18, 'name': 'Drama'}, {'id': 10752, 'name': 'War'}]                                                                                                                                                                                                                                                                                                                                                                                                                                                                                                                                                                                                                                                                                  \n",
      " original_language    | en                                                                                                                                                                                                                                                                                                                                                                                                                                                                                                                                                                                                                                                                                                                                           \n",
      " original_title       | Flight Command                                                                                                                                                                                                                                                                                                                                                                                                                                                                                                                                                                                                                                                                                                                               \n",
      " overview             | A rookie flyer, Ens. Alan Drake, joins the famous Hellcats Squadron right out of flight school in Pensacola. He doesn't make a great first impression when he is forced to ditch his airplane and parachute to safety when he arrives at the base but is unable to land due to heavy fog. On his first day on the job, his poor shooting skills results in the Hellcats losing an air combat competition. His fellow pilots accept him anyways but they think he's crossed the line when they erroneously conclude that while their CO Billy Gray is away, Drake has an affair with his wife Lorna. Drake is now an outcast and is prepared to resign from the Navy but his extreme heroism in saving Billy Gray's life turns things around. \n",
      " popularity           | 0.769266                                                                                                                                                                                                                                                                                                                                                                                                                                                                                                                                                                                                                                                                                                                                     \n",
      " production_companies | [{'name': 'Metro-Goldwyn-Mayer (MGM)', 'id': 8411}]                                                                                                                                                                                                                                                                                                                                                                                                                                                                                                                                                                                                                                                                                          \n",
      " release_date         | 1940-12-27                                                                                                                                                                                                                                                                                                                                                                                                                                                                                                                                                                                                                                                                                                                                   \n",
      " revenue              | 0.0                                                                                                                                                                                                                                                                                                                                                                                                                                                                                                                                                                                                                                                                                                                                          \n",
      " runtime              | 116.0                                                                                                                                                                                                                                                                                                                                                                                                                                                                                                                                                                                                                                                                                                                                        \n",
      " spoken_languages     | [{'iso_639_1': 'en', 'name': 'English'}]                                                                                                                                                                                                                                                                                                                                                                                                                                                                                                                                                                                                                                                                                                     \n",
      " status               | Released                                                                                                                                                                                                                                                                                                                                                                                                                                                                                                                                                                                                                                                                                                                                     \n",
      " tagline              | T-H-R-I-L-L AMERICA! Here come The Flying \"HELL CATS\"!                                                                                                                                                                                                                                                                                                                                                                                                                                                                                                                                                                                                                                                                                       \n",
      " title                | Flight Command                                                                                                                                                                                                                                                                                                                                                                                                                                                                                                                                                                                                                                                                                                                               \n",
      " vote_average         | 6.0                                                                                                                                                                                                                                                                                                                                                                                                                                                                                                                                                                                                                                                                                                                                          \n",
      " vote_count           | 1.0                                                                                                                                                                                                                                                                                                                                                                                                                                                                                                                                                                                                                                                                                                                                          \n",
      "only showing top 1 row\n",
      "\n"
     ]
    }
   ],
   "source": [
    "df_movies.show(1,truncate=False, vertical=True)"
   ]
  },
  {
   "cell_type": "markdown",
   "id": "4b9478d1-b63f-4cb9-b4d3-8f0269e039a5",
   "metadata": {},
   "source": [
    "#### **3f. Filter Data**\n",
    "---"
   ]
  },
  {
   "cell_type": "code",
   "execution_count": 29,
   "id": "1869c39d-e3fd-41db-a141-63e74ba8814d",
   "metadata": {},
   "outputs": [
    {
     "data": {
      "text/plain": [
       "11437637"
      ]
     },
     "execution_count": 29,
     "metadata": {},
     "output_type": "execute_result"
    }
   ],
   "source": [
    "# before filter\n",
    "\n",
    "df_movies.count()"
   ]
  },
  {
   "cell_type": "markdown",
   "id": "0d853035-b703-4ef5-84ff-aa76483f6b75",
   "metadata": {},
   "source": [
    "- As we can see, our data is pretty big at 11 million rows\n",
    "- Because there's a constraint budget for building the Recommender System model, we must not use all the data\n",
    "- So, we must filter the data. The requirements filter are the `release_date` for movies is `2010-01-01` and user `timestamp` when giving a rating is `2017-01-01 00:00:00`\n",
    "- To do filter in this case, we will use SQL based on PySpark"
   ]
  },
  {
   "cell_type": "code",
   "execution_count": 30,
   "id": "cd617da9-0abc-4fbe-8c3c-a6800f85e8d7",
   "metadata": {},
   "outputs": [
    {
     "data": {
      "text/plain": [
       "29681"
      ]
     },
     "execution_count": 30,
     "metadata": {},
     "output_type": "execute_result"
    }
   ],
   "source": [
    "df_movies = df_movies.filter(\"release_date >='2010-01-01' and timestamp >='2017-01-01 00:00:00'\")\n",
    "df_movies.count()"
   ]
  },
  {
   "cell_type": "markdown",
   "id": "71536fad-81e4-4427-a14a-8b0983c29d36",
   "metadata": {},
   "source": [
    "#### **3g. Create New Columns using Existing Columns**\n",
    "---"
   ]
  },
  {
   "cell_type": "markdown",
   "id": "41854308-5ef2-48af-85f5-8ced3739b5c1",
   "metadata": {},
   "source": [
    "- To enrich our data and improve Recommended System model, we can generate new column based on existing column\n",
    "- In this case, we will create a new column called `profit` by subtracting column `revenue` with `budget`\n",
    "\n",
    "    $$\n",
    "    \\text{profit} = \\text{revenue} - \\text{budget}\n",
    "    $$"
   ]
  },
  {
   "cell_type": "markdown",
   "id": "8e026904-d8d1-482a-bc32-885a6c6d5268",
   "metadata": {},
   "source": [
    "#### **3g. Create New Columns using Existing Columns**\n",
    "---"
   ]
  },
  {
   "cell_type": "code",
   "execution_count": 31,
   "id": "4fb6c6c4-73be-4bbb-a618-2f9b90a16ff9",
   "metadata": {},
   "outputs": [],
   "source": [
    "df_movies = df_movies.withColumn(\"profit\", df_movies[\"revenue\"] - df_movies[\"budget\"])"
   ]
  },
  {
   "cell_type": "code",
   "execution_count": 32,
   "id": "36dda67f-3cdc-45f5-a5c1-65592075165f",
   "metadata": {},
   "outputs": [
    {
     "name": "stdout",
     "output_type": "stream",
     "text": [
      "+-------+--------+------+-------------------+-----+------+--------------------+-----------------+--------------+--------------------+----------+--------------------+------------+-------+-------+--------------------+--------+-------+------------------+------------+----------+------+\n",
      "|user_id|movie_id|rating|          timestamp|adult|budget|              genres|original_language|original_title|            overview|popularity|production_companies|release_date|revenue|runtime|    spoken_languages|  status|tagline|             title|vote_average|vote_count|profit|\n",
      "+-------+--------+------+-------------------+-----+------+--------------------+-----------------+--------------+--------------------+----------+--------------------+------------+-------+-------+--------------------+--------+-------+------------------+------------+----------+------+\n",
      "|  22378|  100270|   5.0|2017-03-15 13:42:57|False|   0.0|[{'id': 35, 'name...|               es| Lobos de Arga|After 15 years, T...|  2.697544|                  []|  2011-10-07|    0.0|  104.0|[{'iso_639_1': 'e...|Released|       |Game of Werewolves|         6.4|      26.0|   0.0|\n",
      "| 110724|  100270|   3.0|2017-07-09 14:19:20|False|   0.0|[{'id': 35, 'name...|               es| Lobos de Arga|After 15 years, T...|  2.697544|                  []|  2011-10-07|    0.0|  104.0|[{'iso_639_1': 'e...|Released|       |Game of Werewolves|         6.4|      26.0|   0.0|\n",
      "+-------+--------+------+-------------------+-----+------+--------------------+-----------------+--------------+--------------------+----------+--------------------+------------+-------+-------+--------------------+--------+-------+------------------+------------+----------+------+\n",
      "only showing top 2 rows\n",
      "\n"
     ]
    }
   ],
   "source": [
    "df_movies.show(2)"
   ]
  },
  {
   "cell_type": "markdown",
   "id": "ca4f9a7f-b39d-4440-8821-e601e69e5068",
   "metadata": {},
   "source": [
    "Validate the result by filter the `profit` is more than `0`"
   ]
  },
  {
   "cell_type": "code",
   "execution_count": 34,
   "id": "b3e347b4-defe-4bf0-b25d-9555cb47f825",
   "metadata": {},
   "outputs": [
    {
     "name": "stdout",
     "output_type": "stream",
     "text": [
      "-RECORD 0------------------------------------\n",
      " user_id              | 1846                 \n",
      " movie_id             | 32657                \n",
      " rating               | 4.5                  \n",
      " timestamp            | 2017-01-17 20:21:07  \n",
      " adult                | False                \n",
      " budget               | 9.5E7                \n",
      " genres               | [{'id': 12, 'name... \n",
      " original_language    | en                   \n",
      " original_title       | Percy Jackson & t... \n",
      " overview             | Accident prone te... \n",
      " popularity           | 9.785895             \n",
      " production_companies | [{'name': 'Ingeni... \n",
      " release_date         | 2010-02-01           \n",
      " revenue              | 2.26497216E8         \n",
      " runtime              | 118.0                \n",
      " spoken_languages     | [{'iso_639_1': 'e... \n",
      " status               | Released             \n",
      " tagline              | Worlds Collide       \n",
      " title                | Percy Jackson & t... \n",
      " vote_average         | 6.0                  \n",
      " vote_count           | 2079.0               \n",
      " profit               | 1.31497216E8         \n",
      "-RECORD 1------------------------------------\n",
      " user_id              | 23093                \n",
      " movie_id             | 32657                \n",
      " rating               | 4.0                  \n",
      " timestamp            | 2017-01-15 18:27:29  \n",
      " adult                | False                \n",
      " budget               | 9.5E7                \n",
      " genres               | [{'id': 12, 'name... \n",
      " original_language    | en                   \n",
      " original_title       | Percy Jackson & t... \n",
      " overview             | Accident prone te... \n",
      " popularity           | 9.785895             \n",
      " production_companies | [{'name': 'Ingeni... \n",
      " release_date         | 2010-02-01           \n",
      " revenue              | 2.26497216E8         \n",
      " runtime              | 118.0                \n",
      " spoken_languages     | [{'iso_639_1': 'e... \n",
      " status               | Released             \n",
      " tagline              | Worlds Collide       \n",
      " title                | Percy Jackson & t... \n",
      " vote_average         | 6.0                  \n",
      " vote_count           | 2079.0               \n",
      " profit               | 1.31497216E8         \n",
      "only showing top 2 rows\n",
      "\n"
     ]
    }
   ],
   "source": [
    "df_movies.filter(df_movies['profit'] > 0).show(2, vertical=True)"
   ]
  },
  {
   "cell_type": "markdown",
   "id": "fbc5c145-a5b4-4a2c-9010-ca226f5cf3e2",
   "metadata": {},
   "source": [
    "### **4. Load Data**\n",
    "---"
   ]
  },
  {
   "cell_type": "markdown",
   "id": "4f072270-5616-4f99-bb95-85f3b65aa747",
   "metadata": {},
   "source": [
    "- After we extract, profiling, and transform our data based on the requirements the last step is to load the data into one place\n",
    "- In this case, we will dump our data in the Postgres database in `obt_rating_movies` table\n",
    "- For configuration of the database is the same as in the extract process"
   ]
  },
  {
   "cell_type": "code",
   "execution_count": null,
   "id": "b0a19f86-061e-4f6b-bda7-eb2f66342b88",
   "metadata": {},
   "outputs": [],
   "source": [
    "# Access variables\n",
    "db_host = os.getenv(\"POSTGRES_URL_MOVIE\")\n",
    "db_name = os.getenv(\"POSTGRES_DB_MOVIE\")\n",
    "db_user = os.getenv(\"POSTGRES_USER_MOVIE\")\n",
    "db_pass = os.getenv(\"POSTGRES_PASSWORD_MOVIE\")\n",
    "conn_properties = {\n",
    "    \"user\": db_user,\n",
    "    \"password\": db_pass,\n",
    "    \"driver\": \"org.postgresql.Driver\" # set driver postgres\n",
    "}"
   ]
  },
  {
   "cell_type": "code",
   "execution_count": null,
   "id": "6cf5bb52-b7a5-4ddd-943b-ee9c57cdae5c",
   "metadata": {},
   "outputs": [],
   "source": [
    "df_joined.write.jdbc(url = db_host,\n",
    "                  table = \"obt_rating_movies\",\n",
    "                  mode = \"overwrite\",\n",
    "                  properties = conn_properties"
   ]
  },
  {
   "cell_type": "code",
   "execution_count": null,
   "id": "52c50f25-d240-4266-b1ad-f3061942c521",
   "metadata": {},
   "outputs": [],
   "source": []
  }
 ],
 "metadata": {
  "kernelspec": {
   "display_name": "Python 3 (ipykernel)",
   "language": "python",
   "name": "python3"
  },
  "language_info": {
   "codemirror_mode": {
    "name": "ipython",
    "version": 3
   },
   "file_extension": ".py",
   "mimetype": "text/x-python",
   "name": "python",
   "nbconvert_exporter": "python",
   "pygments_lexer": "ipython3",
   "version": "3.11.6"
  }
 },
 "nbformat": 4,
 "nbformat_minor": 5
}

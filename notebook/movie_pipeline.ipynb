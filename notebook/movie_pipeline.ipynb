{
 "cells": [
  {
   "cell_type": "markdown",
   "id": "c43d80aa-0a4a-4dc3-aba3-d140f0acfe0f",
   "metadata": {},
   "source": [
    "# <font color='blue'>Data Pipeline using PySpark\n",
    "---"
   ]
  },
  {
   "cell_type": "markdown",
   "id": "28b7f97e-a27f-437e-9a0d-68a8d0039e17",
   "metadata": {},
   "source": [
    "**Outline**\n",
    "\n",
    "1. Review:\n",
    "    - Introduction to Apache Spark & PySpark I\n",
    "    - Introduction to Apache Spark & PySpark II\n",
    "2. Case Study: Data Pipeline Movie Data"
   ]
  },
  {
   "cell_type": "markdown",
   "id": "5919dee0-7197-4a27-bf97-f2513b0294a3",
   "metadata": {},
   "source": [
    "### **Create Spark Session**\n",
    "---"
   ]
  },
  {
   "cell_type": "markdown",
   "id": "00c3f895-036e-4e90-bd4f-61fff0697658",
   "metadata": {},
   "source": [
    "We're going to name the session as `\"Data Pipeline using PySpark\"`"
   ]
  },
  {
   "cell_type": "code",
   "execution_count": 1,
   "id": "a85dd3c1-8b51-4f97-b330-c30c14cd98cc",
   "metadata": {},
   "outputs": [],
   "source": [
    "# import library\n",
    "import pyspark"
   ]
  },
  {
   "cell_type": "code",
   "execution_count": 2,
   "id": "b07fba06-3efe-4a2d-9021-68617df0844d",
   "metadata": {},
   "outputs": [],
   "source": [
    "import pyspark\n",
    "from pyspark.sql import SparkSession"
   ]
  },
  {
   "cell_type": "code",
   "execution_count": 3,
   "id": "70f538ad-066f-4290-a452-1436a11f6780",
   "metadata": {},
   "outputs": [],
   "source": [
    "spark = SparkSession \\\n",
    "    .builder \\\n",
    "    .config(\"spark.jars.packages\", \"org.postgresql:postgresql:42.6.0\") \\\n",
    "    .appName(\"Data Pipeline using PySpark\") \\\n",
    "    .getOrCreate()"
   ]
  },
  {
   "cell_type": "code",
   "execution_count": 4,
   "id": "50d8fa03-f3f6-47fd-83ef-48823c9a99ed",
   "metadata": {},
   "outputs": [
    {
     "data": {
      "text/html": [
       "\n",
       "            <div>\n",
       "                <p><b>SparkSession - in-memory</b></p>\n",
       "                \n",
       "        <div>\n",
       "            <p><b>SparkContext</b></p>\n",
       "\n",
       "            <p><a href=\"http://pyspark:4040\">Spark UI</a></p>\n",
       "\n",
       "            <dl>\n",
       "              <dt>Version</dt>\n",
       "                <dd><code>v3.5.0</code></dd>\n",
       "              <dt>Master</dt>\n",
       "                <dd><code>local[*]</code></dd>\n",
       "              <dt>AppName</dt>\n",
       "                <dd><code>Data Pipeline using PySpark</code></dd>\n",
       "            </dl>\n",
       "        </div>\n",
       "        \n",
       "            </div>\n",
       "        "
      ],
      "text/plain": [
       "<pyspark.sql.session.SparkSession at 0x7fae934b8910>"
      ]
     },
     "execution_count": 4,
     "metadata": {},
     "output_type": "execute_result"
    }
   ],
   "source": [
    "spark"
   ]
  },
  {
   "cell_type": "markdown",
   "id": "90257aef-d617-4898-8e5a-e89ca8b69e31",
   "metadata": {},
   "source": [
    "### **1. Extract Process**\n",
    "---"
   ]
  },
  {
   "cell_type": "markdown",
   "id": "9b4c516a-a065-48e0-b9f9-a13f360ce9b7",
   "metadata": {},
   "source": [
    "#### **1a**\n",
    "---"
   ]
  },
  {
   "cell_type": "markdown",
   "id": "d238df96-1253-4716-bb07-0e99d8828b34",
   "metadata": {},
   "source": [
    "- Read the csv data first in `data/ratings.csv` using PySpark\n",
    "- Save it to `df_ratings` variable"
   ]
  },
  {
   "cell_type": "code",
   "execution_count": 5,
   "id": "7d87b9d2-0d83-4a02-80aa-1f02db1ff1ae",
   "metadata": {},
   "outputs": [],
   "source": [
    "def read_data_csv(PATH:str,filename:str):\n",
    "    try:\n",
    "        \"\"\"\n",
    "            Function to read data from csv file \n",
    "        \"\"\"\n",
    "        data = spark.read.option(\"header\", \"true\").csv(DATA_PATH + filename) \n",
    "        return data\n",
    "    except Exception as e:\n",
    "        print(f\"ERROR : {e}\")    "
   ]
  },
  {
   "cell_type": "code",
   "execution_count": 6,
   "id": "55ddf19c-96b6-4b75-8c58-f69823a07394",
   "metadata": {},
   "outputs": [
    {
     "name": "stdout",
     "output_type": "stream",
     "text": [
      "+------+-------+------+----------+\n",
      "|userId|movieId|rating| timestamp|\n",
      "+------+-------+------+----------+\n",
      "|     1|    110|   1.0|1425941529|\n",
      "|     1|    147|   4.5|1425942435|\n",
      "|     1|    858|   5.0|1425941523|\n",
      "+------+-------+------+----------+\n",
      "only showing top 3 rows\n",
      "\n"
     ]
    }
   ],
   "source": [
    "DATA_PATH = '../data/'\n",
    "filename = 'ratings.csv'\n",
    "df_ratings = read_data_csv(DATA_PATH, filename)\n",
    "df_ratings.show(3)"
   ]
  },
  {
   "cell_type": "code",
   "execution_count": 14,
   "id": "39e848f9-4a6f-463a-a39d-93655894b343",
   "metadata": {},
   "outputs": [
    {
     "data": {
      "text/plain": [
       "26024289"
      ]
     },
     "execution_count": 14,
     "metadata": {},
     "output_type": "execute_result"
    }
   ],
   "source": [
    "df_ratings.count()"
   ]
  },
  {
   "cell_type": "markdown",
   "id": "0b45db72-5298-4eff-a93b-4429b752f805",
   "metadata": {},
   "source": [
    "#### **1b**\n",
    "---"
   ]
  },
  {
   "cell_type": "code",
   "execution_count": 7,
   "id": "80981f17-4b00-40ce-9695-ca71f0f6458b",
   "metadata": {},
   "outputs": [
    {
     "name": "stdout",
     "output_type": "stream",
     "text": [
      "Requirement already satisfied: python-dotenv in /opt/conda/lib/python3.11/site-packages (1.1.1)\n",
      "Note: you may need to restart the kernel to use updated packages.\n"
     ]
    }
   ],
   "source": [
    "pip install python-dotenv"
   ]
  },
  {
   "cell_type": "code",
   "execution_count": 8,
   "id": "45f6aa5d-2980-40ef-afb7-c9a8c5855d31",
   "metadata": {},
   "outputs": [],
   "source": [
    "from dotenv import load_dotenv\n",
    "import os"
   ]
  },
  {
   "cell_type": "code",
   "execution_count": 9,
   "id": "c8db6b8e-561f-4355-9455-4185fdc3cfd1",
   "metadata": {},
   "outputs": [],
   "source": [
    "# Load .env file\n",
    "load_dotenv()\n",
    "\n",
    "# Access variables\n",
    "db_host = os.getenv(\"POSTGRES_URL_MOVIE\")\n",
    "db_name = os.getenv(\"POSTGRES_DB_MOVIE\")\n",
    "db_user = os.getenv(\"POSTGRES_USER_MOVIE\")\n",
    "db_pass = os.getenv(\"POSTGRES_PASSWORD_MOVIE\")\n",
    "conn_properties = {\n",
    "    \"user\": db_user,\n",
    "    \"password\": db_pass,\n",
    "    \"driver\": \"org.postgresql.Driver\" # set driver postgres\n",
    "}"
   ]
  },
  {
   "cell_type": "code",
   "execution_count": 10,
   "id": "8959ed99-3829-48aa-a211-698e9a479223",
   "metadata": {},
   "outputs": [],
   "source": [
    "TABLE_NAME = 'movies_metadata'\n",
    "df_metadata = spark.read.jdbc(url=db_host,table = TABLE_NAME, properties=conn_properties)"
   ]
  },
  {
   "cell_type": "code",
   "execution_count": 15,
   "id": "853eca08-6721-4634-9976-635726b9311c",
   "metadata": {},
   "outputs": [
    {
     "name": "stdout",
     "output_type": "stream",
     "text": [
      "-RECORD 0-------------------------------------------------------------------------------------------------------------------------------------------------------------------------------------------------------------------------------------------------------------------------------------------------------------------------------------------------------------------------------------------------------------------------------------------------------------------------------------------------------------------------------------------------------\n",
      " adult                 | False                                                                                                                                                                                                                                                                                                                                                                                                                                                                                                                                  \n",
      " belongs_to_collection |                                                                                                                                                                                                                                                                                                                                                                                                                                                                                                                                        \n",
      " budget                | 0                                                                                                                                                                                                                                                                                                                                                                                                                                                                                                                                      \n",
      " genres                | [{'id': 35, 'name': 'Comedy'}]                                                                                                                                                                                                                                                                                                                                                                                                                                                                                                         \n",
      " homepage              |                                                                                                                                                                                                                                                                                                                                                                                                                                                                                                                                        \n",
      " id                    | 26141                                                                                                                                                                                                                                                                                                                                                                                                                                                                                                                                  \n",
      " imdb_id               | tt0106873                                                                                                                                                                                                                                                                                                                                                                                                                                                                                                                              \n",
      " original_language     | en                                                                                                                                                                                                                                                                                                                                                                                                                                                                                                                                     \n",
      " original_title        | Fatal Instinct                                                                                                                                                                                                                                                                                                                                                                                                                                                                                                                         \n",
      " overview              | A spoof of the late 80s and early 90s suspense thrillers and murder mysteries, including Basic Instinct, Sleeping With The Enemy, Cape Fear and others. A cop/attorney (yes he's both) is seduced by a woman while his wife is having an affair with a mechanic. Lots of other sublots and visual gags in the style of Naked Gun.                                                                                                                                                                                                      \n",
      " popularity            | 3.555139                                                                                                                                                                                                                                                                                                                                                                                                                                                                                                                               \n",
      " poster_path           | /sZDp3eHwujNR71aNU0rLDz7phJA.jpg                                                                                                                                                                                                                                                                                                                                                                                                                                                                                                       \n",
      " production_companies  | [{'name': 'Metro-Goldwyn-Mayer (MGM)', 'id': 8411}]                                                                                                                                                                                                                                                                                                                                                                                                                                                                                    \n",
      " production_countries  | [{'iso_3166_1': 'US', 'name': 'United States of America'}]                                                                                                                                                                                                                                                                                                                                                                                                                                                                             \n",
      " release_date          | 1993-10-29                                                                                                                                                                                                                                                                                                                                                                                                                                                                                                                             \n",
      " revenue               | 0                                                                                                                                                                                                                                                                                                                                                                                                                                                                                                                                      \n",
      " runtime               | 91.0                                                                                                                                                                                                                                                                                                                                                                                                                                                                                                                                   \n",
      " spoken_languages      | [{'iso_639_1': 'en', 'name': 'English'}, {'iso_639_1': 'yi', 'name': ''}]                                                                                                                                                                                                                                                                                                                                                                                                                                                              \n",
      " status                | Released                                                                                                                                                                                                                                                                                                                                                                                                                                                                                                                               \n",
      " tagline               | Sex, murder and revenge were never this funny.                                                                                                                                                                                                                                                                                                                                                                                                                                                                                         \n",
      " title                 | Fatal Instinct                                                                                                                                                                                                                                                                                                                                                                                                                                                                                                                         \n",
      " video                 | False                                                                                                                                                                                                                                                                                                                                                                                                                                                                                                                                  \n",
      " vote_average          | 5.4                                                                                                                                                                                                                                                                                                                                                                                                                                                                                                                                    \n",
      " vote_count            | 37                                                                                                                                                                                                                                                                                                                                                                                                                                                                                                                                     \n",
      "-RECORD 1-------------------------------------------------------------------------------------------------------------------------------------------------------------------------------------------------------------------------------------------------------------------------------------------------------------------------------------------------------------------------------------------------------------------------------------------------------------------------------------------------------------------------------------------------------\n",
      " adult                 | False                                                                                                                                                                                                                                                                                                                                                                                                                                                                                                                                  \n",
      " belongs_to_collection |                                                                                                                                                                                                                                                                                                                                                                                                                                                                                                                                        \n",
      " budget                | 0                                                                                                                                                                                                                                                                                                                                                                                                                                                                                                                                      \n",
      " genres                | [{'id': 18, 'name': 'Drama'}]                                                                                                                                                                                                                                                                                                                                                                                                                                                                                                          \n",
      " homepage              |                                                                                                                                                                                                                                                                                                                                                                                                                                                                                                                                        \n",
      " id                    | 10997                                                                                                                                                                                                                                                                                                                                                                                                                                                                                                                                  \n",
      " imdb_id               | tt0106332                                                                                                                                                                                                                                                                                                                                                                                                                                                                                                                              \n",
      " original_language     | zh                                                                                                                                                                                                                                                                                                                                                                                                                                                                                                                                     \n",
      " original_title        | 霸王别姬                                                                                                                                                                                                                                                                                                                                                                                                                                                                                                                               \n",
      " overview              | Abandoned by his prostitute mother in 1920, Douzi was raised by a theater troupe. There he meets Shitou and over the following years the two develop an act entitled, \"Farewell My Concubine,\" that brings them fame and fortune. When Shitou marries Juxian, Doutzi becomes jealous, the beginnings of the acting duo's explosive breakup and tragic fall take root.                                                                                                                                                                  \n",
      " popularity            | 4.875827                                                                                                                                                                                                                                                                                                                                                                                                                                                                                                                               \n",
      " poster_path           | /iQ7qq1MStTg5G7ID7vxW2rwfsdW.jpg                                                                                                                                                                                                                                                                                                                                                                                                                                                                                                       \n",
      " production_companies  | [{'name': 'Beijing Film Studio', 'id': 708}, {'name': 'China Film Co-Production Corporation', 'id': 2269}, {'name': 'Maverick Picture Company', 'id': 36863}]                                                                                                                                                                                                                                                                                                                                                                          \n",
      " production_countries  | [{'iso_3166_1': 'CN', 'name': 'China'}, {'iso_3166_1': 'HK', 'name': 'Hong Kong'}]                                                                                                                                                                                                                                                                                                                                                                                                                                                     \n",
      " release_date          | 1993-09-16                                                                                                                                                                                                                                                                                                                                                                                                                                                                                                                             \n",
      " revenue               | 0                                                                                                                                                                                                                                                                                                                                                                                                                                                                                                                                      \n",
      " runtime               | 171.0                                                                                                                                                                                                                                                                                                                                                                                                                                                                                                                                  \n",
      " spoken_languages      | [{'iso_639_1': 'zh', 'name': '普通话'}]                                                                                                                                                                                                                                                                                                                                                                                                                                                                                                \n",
      " status                | Released                                                                                                                                                                                                                                                                                                                                                                                                                                                                                                                               \n",
      " tagline               |                                                                                                                                                                                                                                                                                                                                                                                                                                                                                                                                        \n",
      " title                 | Farewell My Concubine                                                                                                                                                                                                                                                                                                                                                                                                                                                                                                                  \n",
      " video                 | False                                                                                                                                                                                                                                                                                                                                                                                                                                                                                                                                  \n",
      " vote_average          | 7.8                                                                                                                                                                                                                                                                                                                                                                                                                                                                                                                                    \n",
      " vote_count            | 98                                                                                                                                                                                                                                                                                                                                                                                                                                                                                                                                     \n",
      "-RECORD 2-------------------------------------------------------------------------------------------------------------------------------------------------------------------------------------------------------------------------------------------------------------------------------------------------------------------------------------------------------------------------------------------------------------------------------------------------------------------------------------------------------------------------------------------------------\n",
      " adult                 | False                                                                                                                                                                                                                                                                                                                                                                                                                                                                                                                                  \n",
      " belongs_to_collection |                                                                                                                                                                                                                                                                                                                                                                                                                                                                                                                                        \n",
      " budget                | 0                                                                                                                                                                                                                                                                                                                                                                                                                                                                                                                                      \n",
      " genres                | [{'id': 18, 'name': 'Drama'}, {'id': 35, 'name': 'Comedy'}, {'id': 10749, 'name': 'Romance'}]                                                                                                                                                                                                                                                                                                                                                                                                                                          \n",
      " homepage              |                                                                                                                                                                                                                                                                                                                                                                                                                                                                                                                                        \n",
      " id                    | 50463                                                                                                                                                                                                                                                                                                                                                                                                                                                                                                                                  \n",
      " imdb_id               | tt0109783                                                                                                                                                                                                                                                                                                                                                                                                                                                                                                                              \n",
      " original_language     | en                                                                                                                                                                                                                                                                                                                                                                                                                                                                                                                                     \n",
      " original_title        | The Favor                                                                                                                                                                                                                                                                                                                                                                                                                                                                                                                              \n",
      " overview              | Kathy is married to Peter. Now she can't help but wonder how things could have been if she got together with her old boyfriend, Tom. Being married prevents from doing that so she asks her friend, Emily to go to him and see if she can sleep with him then tell Kathy how it was. When Emily tells Kathy that things were awesome, their friendship suffers, at the same so does Kathy's marriage. Things get even more complicated when Emily learns she's pregnant, and she's not certain if it's Tom's or her boyfriend, Elliot. \n",
      " popularity            | 1.344876                                                                                                                                                                                                                                                                                                                                                                                                                                                                                                                               \n",
      " poster_path           | /eKpxCQllaktjfqR11ITbYstcHmD.jpg                                                                                                                                                                                                                                                                                                                                                                                                                                                                                                       \n",
      " production_companies  | [{'name': 'Orion Pictures', 'id': 41}, {'name': 'Nelson Entertainment', 'id': 365}]                                                                                                                                                                                                                                                                                                                                                                                                                                                    \n",
      " production_countries  | [{'iso_3166_1': 'US', 'name': 'United States of America'}]                                                                                                                                                                                                                                                                                                                                                                                                                                                                             \n",
      " release_date          | 1994-04-29                                                                                                                                                                                                                                                                                                                                                                                                                                                                                                                             \n",
      " revenue               | 0                                                                                                                                                                                                                                                                                                                                                                                                                                                                                                                                      \n",
      " runtime               | 97.0                                                                                                                                                                                                                                                                                                                                                                                                                                                                                                                                   \n",
      " spoken_languages      | [{'iso_639_1': 'en', 'name': 'English'}]                                                                                                                                                                                                                                                                                                                                                                                                                                                                                               \n",
      " status                | Released                                                                                                                                                                                                                                                                                                                                                                                                                                                                                                                               \n",
      " tagline               | Two Women. Three Men. One Secret.                                                                                                                                                                                                                                                                                                                                                                                                                                                                                                      \n",
      " title                 | The Favor                                                                                                                                                                                                                                                                                                                                                                                                                                                                                                                              \n",
      " video                 | False                                                                                                                                                                                                                                                                                                                                                                                                                                                                                                                                  \n",
      " vote_average          | 3.3                                                                                                                                                                                                                                                                                                                                                                                                                                                                                                                                    \n",
      " vote_count            | 6                                                                                                                                                                                                                                                                                                                                                                                                                                                                                                                                      \n",
      "only showing top 3 rows\n",
      "\n"
     ]
    }
   ],
   "source": [
    "df_metadata.show(3, truncate = False, vertical = True)"
   ]
  },
  {
   "cell_type": "code",
   "execution_count": 13,
   "id": "c6431b1e-52ca-4b10-bef1-cf9c3750caa6",
   "metadata": {},
   "outputs": [
    {
     "data": {
      "text/plain": [
       "45466"
      ]
     },
     "execution_count": 13,
     "metadata": {},
     "output_type": "execute_result"
    }
   ],
   "source": [
    "df_metadata.count()"
   ]
  },
  {
   "cell_type": "markdown",
   "id": "9d451c74-7462-49c2-a630-1636bc0c1b2e",
   "metadata": {},
   "source": [
    "### **2. Source to Target Mapping**\n",
    "---"
   ]
  },
  {
   "cell_type": "markdown",
   "id": "0d674ecc-1808-4d20-8074-4fdeda5ba1e1",
   "metadata": {},
   "source": [
    "- After we extracted all the data, we got information that ratings and movie metadata can be joined by using the movie id\n",
    "- Before that, we must profile our table that can help us for the next step\n",
    "- You can create your Source to Target Mapping or you can see it on this [Spreadsheet](https://docs.google.com/spreadsheets/d/1spFcpnUdoiKW2dApInxDNkadywiBs2mdCt8CmwHZ1ME/edit?usp=sharing)\n",
    "- The goals of Source to Target Mapping is to identify which columns can be used for the next process like what transformation rules that can be used"
   ]
  },
  {
   "cell_type": "markdown",
   "id": "2b2cf4f6-f5e8-41e1-9018-d411e50010cf",
   "metadata": {},
   "source": [
    "### **3. Transform Data**\n",
    "---"
   ]
  },
  {
   "cell_type": "markdown",
   "id": "f29b1d23-1c6e-4ab1-b96d-ebefdf921785",
   "metadata": {},
   "source": [
    "- After we mapping all the columns from Source to Target Mapping, now we can set the transformation rules\n",
    "- These are the transformation processes that we will do in this case:\n",
    "    - Join Data\n",
    "    - Renaming Columns\n",
    "    - Select Data based on Columns\n",
    "    - Casting Data Type\n",
    "    - Filter Data\n",
    "    - Create New Columns using Existing Columns"
   ]
  },
  {
   "cell_type": "markdown",
   "id": "8267c783-6452-45e0-ac38-24e38ffe53d1",
   "metadata": {},
   "source": [
    "#### **3a. Join Data**\n",
    "---"
   ]
  },
  {
   "cell_type": "markdown",
   "id": "a0dd468b-18c0-42d1-8e69-1b1ef7348004",
   "metadata": {},
   "source": [
    "- In this process, we want to join the data from movies rating and movies metadata\n",
    "- After we explore the data from the previous process turns out there's one column that we can join!\n",
    "    - `df_ratings`: `movieId`\n",
    "    - `df_metadata`: `id`\n",
    "\n",
    "    <br>\n",
    "    <center>\n",
    "        <img src=\"https://sekolahdata-assets.s3.ap-southeast-1.amazonaws.com/notebook-images/mde-data-ingestion-spark/join_data_case_week_5.png\" width=50%>\n",
    "    </center>\n",
    "    <br>\n",
    "\n",
    "- To join the data using PySpark, we can use this code\n",
    "\n",
    "```python\n",
    "df1.join(df2, df1.col == df2.col, JOIN_METHOD) # we can use inner, left, right, etc\n",
    "```\n",
    "\n",
    "- In this case, we will use `inner` join then save the joined data in `df_joined` variable"
   ]
  },
  {
   "cell_type": "code",
   "execution_count": null,
   "id": "ce282254-42ad-4ad1-b526-0654ab835726",
   "metadata": {},
   "outputs": [],
   "source": []
  }
 ],
 "metadata": {
  "kernelspec": {
   "display_name": "Python 3 (ipykernel)",
   "language": "python",
   "name": "python3"
  },
  "language_info": {
   "codemirror_mode": {
    "name": "ipython",
    "version": 3
   },
   "file_extension": ".py",
   "mimetype": "text/x-python",
   "name": "python",
   "nbconvert_exporter": "python",
   "pygments_lexer": "ipython3",
   "version": "3.11.6"
  }
 },
 "nbformat": 4,
 "nbformat_minor": 5
}
